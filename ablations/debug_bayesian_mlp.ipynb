{
 "cells": [
  {
   "cell_type": "code",
   "execution_count": 2,
   "id": "da9f0af1",
   "metadata": {},
   "outputs": [],
   "source": [
    "import sys\n",
    "import os\n",
    "os.chdir('../')\n",
    "import numpy as np\n",
    "import torch\n",
    "import torch.nn as nn\n",
    "import torch.nn.functional as F\n",
    "from torch.utils.data import Subset\n",
    "from tqdm import tqdm\n",
    "from omegaconf import OmegaConf\n",
    "from hydra import compose, initialize\n",
    "import matplotlib.pyplot as plt\n",
    "\n",
    "from ablations.models import BayesianMLP\n",
    "from experiments.utils import get_configs, get_datasets\n",
    "import random\n",
    "%load_ext autoreload\n",
    "%autoreload 2"
   ]
  },
  {
   "cell_type": "code",
   "execution_count": 3,
   "id": "5df1a24d",
   "metadata": {},
   "outputs": [
    {
     "name": "stdout",
     "output_type": "stream",
     "text": [
      "{'train': {'disagreement_epochs': 5, 'disagreement_optimizer': 'torch.optim.AdamW', 'disagreement_wd': 0.0001, 'disagreement_lr': 0.01, 'disagreement_batch_size': 64, 'disagreement_alpha': 0.8, 'num_epochs': 50, 'batch_size': 64, 'lr': 0.001, 'wd': 0.0001, 'optimizer': 'torch.optim.AdamW', 'clip_val': 1, 'val_freq': 1, 'num_workers': 4, 'pin_memory': True}, 'dataset': {'name': 'uci', 'num_classes': 2, 'data_dir': 'data/uci_data', 'normalize': True}, 'dpddm': {'Phi_size': 1000, 'n_post_samples': 5000, 'data_sample_size': 10, 'temp': 1, 'n_repeats': 100}, 'model': {'name': 'mlp_model', 'in_features': 9, 'mid_features': 16, 'mid_layers': 4, 'dropout': 0.2, 'reg_weight_factor': 100, 'param': 'diagonal', 'prior_scale': 1.0, 'wishart_scale': 1.0, 'return_ood': False}, 'wandb_cfg': {'project': 'bayesian_dpddm', 'entity': 'viet', 'job_type': 'train', 'log_artifacts': True}, 'monitor_type': 'bayesian', 'from_pretrained': False, 'seed': 57, 'self_log': True}\n"
     ]
    }
   ],
   "source": [
    "# Point to your config directory and name\n",
    "config_dir = \"configs/\"  # adjust as needed\n",
    "config_name = \"uci_best.yaml\"\n",
    "\n",
    "with initialize(config_path=config_dir, version_base='1.2'):\n",
    "    args = compose(config_name=config_name)\n",
    "\n",
    "# cfg is now a DictConfig\n",
    "print(args)"
   ]
  },
  {
   "cell_type": "code",
   "execution_count": 4,
   "id": "510b4c7d",
   "metadata": {},
   "outputs": [],
   "source": [
    "dataset = get_datasets(args)\n",
    "model_config, train_config = get_configs(args)\n",
    "trainloader = torch.utils.data.DataLoader(\n",
    "    dataset['train'],\n",
    "    batch_size=train_config.batch_size,\n",
    "    shuffle=True,\n",
    "    num_workers=train_config.num_workers,\n",
    "    pin_memory=train_config.pin_memory,\n",
    "    persistent_workers=True,\n",
    ")\n",
    "\n",
    "valloader = torch.utils.data.DataLoader(\n",
    "    dataset['valid'],\n",
    "    batch_size=train_config.batch_size,\n",
    "    shuffle=False,\n",
    "    num_workers=train_config.num_workers,\n",
    "    pin_memory=train_config.pin_memory,\n",
    "    persistent_workers=True,\n",
    ")\n",
    "\n",
    "oodloader = torch.utils.data.DataLoader(\n",
    "    dataset['dpddm_ood'],\n",
    "    batch_size = train_config.batch_size,\n",
    "    shuffle=False,\n",
    "    num_workers=train_config.num_workers,\n",
    "    pin_memory=True, \n",
    "    persistent_workers=True\n",
    ")"
   ]
  },
  {
   "cell_type": "code",
   "execution_count": 5,
   "id": "5e6ddbe8",
   "metadata": {},
   "outputs": [],
   "source": [
    "model = BayesianMLP(model_config).cuda()\n",
    "opt = torch.optim.AdamW(model.parameters(), lr=1e-3)\n",
    "criterion = nn.CrossEntropyLoss()"
   ]
  },
  {
   "cell_type": "code",
   "execution_count": 7,
   "id": "f1485544",
   "metadata": {},
   "outputs": [
    {
     "name": "stderr",
     "output_type": "stream",
     "text": [
      "100%|██████████| 50/50 [00:01<00:00, 29.54it/s]\n"
     ]
    }
   ],
   "source": [
    "for epoch in tqdm(range(train_config.num_epochs)):\n",
    "    model.train()\n",
    "    for batch in tqdm(trainloader, leave=False):\n",
    "        features, labels, *_ = batch\n",
    "        features, labels = features.cuda(), labels.cuda()\n",
    "        out, kl = model(features)\n",
    "        loss = criterion(out, labels.long()) + kl / len(labels)\n",
    "        opt.zero_grad()\n",
    "        loss.backward()\n",
    "        opt.step()"
   ]
  },
  {
   "cell_type": "code",
   "execution_count": 6,
   "id": "61ff9c56",
   "metadata": {},
   "outputs": [],
   "source": [
    "def evaluate(model, loader):\n",
    "    model.eval()\n",
    "    with torch.no_grad():\n",
    "        all_preds, all_labels = [], []\n",
    "        for batch in loader:\n",
    "            features, labels, *_ = batch\n",
    "            features, labels = features.cuda(), labels.cuda()\n",
    "            output_mc = []\n",
    "            for mc_run in tqdm(range(1000), leave=False):\n",
    "                outputs, _ = model(features)\n",
    "                probs = torch.nn.functional.softmax(outputs, dim=-1)\n",
    "                output_mc.append(probs)\n",
    "            output = torch.stack(output_mc)  \n",
    "            pred_mean = output.mean(dim=0)\n",
    "            y_pred = torch.argmax(pred_mean, axis=-1)\n",
    "            all_preds.append(y_pred)\n",
    "            all_labels.append(labels)\n",
    "    all_preds, all_labels = list(map(lambda x: torch.concatenate(x, dim=0), [all_preds, all_labels]))\n",
    "    return (all_preds == all_labels).float().mean()"
   ]
  },
  {
   "cell_type": "code",
   "execution_count": 8,
   "id": "3294a3bc",
   "metadata": {},
   "outputs": [
    {
     "name": "stderr",
     "output_type": "stream",
     "text": [
      "                                                   \r"
     ]
    },
    {
     "data": {
      "text/plain": [
       "(tensor(0.7933, device='cuda:0'),\n",
       " tensor(0.7667, device='cuda:0'),\n",
       " tensor(0.6440, device='cuda:0'))"
      ]
     },
     "execution_count": 8,
     "metadata": {},
     "output_type": "execute_result"
    }
   ],
   "source": [
    "evaluate(model, trainloader), evaluate(model, valloader), evaluate(model, oodloader)"
   ]
  },
  {
   "cell_type": "code",
   "execution_count": 9,
   "id": "5da712c8",
   "metadata": {},
   "outputs": [],
   "source": [
    "def sample_from_dataset(dataset, data_sample_size:int=100):\n",
    "    indices = torch.randint(0, len(dataset), (data_sample_size,))\n",
    "    return Subset(dataset, indices)"
   ]
  },
  {
   "cell_type": "code",
   "execution_count": 10,
   "id": "88243812",
   "metadata": {},
   "outputs": [],
   "source": [
    "def get_pseudolabels(model, X:torch.tensor, mc_samples=1000):\n",
    "    model.eval()\n",
    "    with torch.no_grad():\n",
    "        X = X.cuda()\n",
    "        out_mc = []\n",
    "        for mc_run in tqdm(range(mc_samples), leave=False):\n",
    "            out, _ = model(X)\n",
    "            out_mc.append(out)\n",
    "        output = torch.stack(out_mc)\n",
    "        pred_mean = output.mean(dim=0)\n",
    "        y_pred = torch.argmax(pred_mean, dim=-1)\n",
    "    return y_pred"
   ]
  },
  {
   "cell_type": "code",
   "execution_count": null,
   "id": "48a96d50",
   "metadata": {},
   "outputs": [],
   "source": [
    "def compute_max_dis_rate(model, X, y, n_post_samples=5000):\n",
    "    X, y = X.cuda(), y.cuda()\n",
    "    with torch.no_grad():\n",
    "        out_mc = []\n",
    "        for _ in tqdm(range(n_post_samples), leave=False):\n",
    "            out, _ = model(X)\n",
    "            out_mc.append(out)\n",
    "        output = torch.stack(out_mc)\n",
    "        y_tile = torch.tile(y, (n_post_samples, 1)).cuda()\n",
    "        \n",
    "        #dist = torch.distributions.Categorical(logits=output/5)\n",
    "        #y_hat = dist.sample()\n",
    "        y_hat = output.argmax(dim=-1)\n",
    "        dis_mat = (y_hat != y_tile)\n",
    "        dis_rate = dis_mat.float().mean(dim=-1)\n",
    "        return dis_rate.max().item()"
   ]
  },
  {
   "cell_type": "code",
   "execution_count": 29,
   "id": "4b0d47b3",
   "metadata": {},
   "outputs": [],
   "source": [
    "def get_Phi(model, dataset, *, n_post_samples, Phi_size, data_sample_size):\n",
    "    Phi = []\n",
    "    for i in tqdm(range(Phi_size)):\n",
    "        sbs = sample_from_dataset(dataset, data_sample_size)\n",
    "        pseudo = get_pseudolabels(model, sbs.dataset.X)\n",
    "        dis_rate = compute_max_dis_rate(model, sbs.dataset.X, pseudo, n_post_samples=n_post_samples)\n",
    "        #Phi.append(dis_rate)\n",
    "        print(dis_rate)\n",
    "        if i == 10:\n",
    "            break\n",
    "    return Phi\n",
    "        "
   ]
  },
  {
   "cell_type": "code",
   "execution_count": 30,
   "id": "bdc7281b",
   "metadata": {},
   "outputs": [
    {
     "name": "stderr",
     "output_type": "stream",
     "text": [
      "  0%|          | 1/500 [00:02<17:10,  2.07s/it]"
     ]
    },
    {
     "name": "stdout",
     "output_type": "stream",
     "text": [
      "0.550000011920929\n"
     ]
    },
    {
     "name": "stderr",
     "output_type": "stream",
     "text": [
      "  0%|          | 2/500 [00:04<17:05,  2.06s/it]"
     ]
    },
    {
     "name": "stdout",
     "output_type": "stream",
     "text": [
      "0.550000011920929\n"
     ]
    },
    {
     "name": "stderr",
     "output_type": "stream",
     "text": [
      "  1%|          | 3/500 [00:06<17:01,  2.06s/it]"
     ]
    },
    {
     "name": "stdout",
     "output_type": "stream",
     "text": [
      "0.5666667222976685\n"
     ]
    },
    {
     "name": "stderr",
     "output_type": "stream",
     "text": [
      "  1%|          | 3/500 [00:07<20:59,  2.53s/it]\n"
     ]
    },
    {
     "ename": "KeyboardInterrupt",
     "evalue": "",
     "output_type": "error",
     "traceback": [
      "\u001b[31m---------------------------------------------------------------------------\u001b[39m",
      "\u001b[31mKeyboardInterrupt\u001b[39m                         Traceback (most recent call last)",
      "\u001b[36mCell\u001b[39m\u001b[36m \u001b[39m\u001b[32mIn[30]\u001b[39m\u001b[32m, line 1\u001b[39m\n\u001b[32m----> \u001b[39m\u001b[32m1\u001b[39m Phi = \u001b[43mget_Phi\u001b[49m\u001b[43m(\u001b[49m\u001b[43mmodel\u001b[49m\u001b[43m,\u001b[49m\u001b[43m \u001b[49m\u001b[43mdataset\u001b[49m\u001b[43m[\u001b[49m\u001b[33;43m'\u001b[39;49m\u001b[33;43mdpddm_train\u001b[39;49m\u001b[33;43m'\u001b[39;49m\u001b[43m]\u001b[49m\u001b[43m,\u001b[49m\n\u001b[32m      2\u001b[39m \u001b[43m              \u001b[49m\u001b[43mn_post_samples\u001b[49m\u001b[43m=\u001b[49m\u001b[32;43m500\u001b[39;49m\u001b[43m,\u001b[49m\n\u001b[32m      3\u001b[39m \u001b[43m              \u001b[49m\u001b[43mPhi_size\u001b[49m\u001b[43m=\u001b[49m\u001b[32;43m500\u001b[39;49m\u001b[43m,\u001b[49m\n\u001b[32m      4\u001b[39m \u001b[43m              \u001b[49m\u001b[43mdata_sample_size\u001b[49m\u001b[43m=\u001b[49m\u001b[32;43m100\u001b[39;49m\u001b[43m)\u001b[49m\n",
      "\u001b[36mCell\u001b[39m\u001b[36m \u001b[39m\u001b[32mIn[29]\u001b[39m\u001b[32m, line 6\u001b[39m, in \u001b[36mget_Phi\u001b[39m\u001b[34m(model, dataset, n_post_samples, Phi_size, data_sample_size)\u001b[39m\n\u001b[32m      4\u001b[39m sbs = sample_from_dataset(dataset, data_sample_size)\n\u001b[32m      5\u001b[39m pseudo = get_pseudolabels(model, sbs.dataset.X)\n\u001b[32m----> \u001b[39m\u001b[32m6\u001b[39m dis_rate = \u001b[43mcompute_max_dis_rate\u001b[49m\u001b[43m(\u001b[49m\u001b[43mmodel\u001b[49m\u001b[43m,\u001b[49m\u001b[43m \u001b[49m\u001b[43msbs\u001b[49m\u001b[43m.\u001b[49m\u001b[43mdataset\u001b[49m\u001b[43m.\u001b[49m\u001b[43mX\u001b[49m\u001b[43m,\u001b[49m\u001b[43m \u001b[49m\u001b[43mpseudo\u001b[49m\u001b[43m,\u001b[49m\u001b[43m \u001b[49m\u001b[43mn_post_samples\u001b[49m\u001b[43m=\u001b[49m\u001b[43mn_post_samples\u001b[49m\u001b[43m)\u001b[49m\n\u001b[32m      7\u001b[39m \u001b[38;5;66;03m#Phi.append(dis_rate)\u001b[39;00m\n\u001b[32m      8\u001b[39m \u001b[38;5;28mprint\u001b[39m(dis_rate)\n",
      "\u001b[36mCell\u001b[39m\u001b[36m \u001b[39m\u001b[32mIn[28]\u001b[39m\u001b[32m, line 6\u001b[39m, in \u001b[36mcompute_max_dis_rate\u001b[39m\u001b[34m(model, X, y, n_post_samples)\u001b[39m\n\u001b[32m      4\u001b[39m out_mc = []\n\u001b[32m      5\u001b[39m \u001b[38;5;28;01mfor\u001b[39;00m _ \u001b[38;5;129;01min\u001b[39;00m tqdm(\u001b[38;5;28mrange\u001b[39m(n_post_samples), leave=\u001b[38;5;28;01mFalse\u001b[39;00m):\n\u001b[32m----> \u001b[39m\u001b[32m6\u001b[39m     out, _ = \u001b[43mmodel\u001b[49m\u001b[43m(\u001b[49m\u001b[43mX\u001b[49m\u001b[43m)\u001b[49m\n\u001b[32m      7\u001b[39m     out_mc.append(out)\n\u001b[32m      8\u001b[39m output = torch.stack(out_mc)\n",
      "\u001b[36mFile \u001b[39m\u001b[32m/mfs1/u/viet/.conda/envs/dpddm/lib/python3.11/site-packages/torch/nn/modules/module.py:1739\u001b[39m, in \u001b[36mModule._wrapped_call_impl\u001b[39m\u001b[34m(self, *args, **kwargs)\u001b[39m\n\u001b[32m   1737\u001b[39m     \u001b[38;5;28;01mreturn\u001b[39;00m \u001b[38;5;28mself\u001b[39m._compiled_call_impl(*args, **kwargs)  \u001b[38;5;66;03m# type: ignore[misc]\u001b[39;00m\n\u001b[32m   1738\u001b[39m \u001b[38;5;28;01melse\u001b[39;00m:\n\u001b[32m-> \u001b[39m\u001b[32m1739\u001b[39m     \u001b[38;5;28;01mreturn\u001b[39;00m \u001b[38;5;28;43mself\u001b[39;49m\u001b[43m.\u001b[49m\u001b[43m_call_impl\u001b[49m\u001b[43m(\u001b[49m\u001b[43m*\u001b[49m\u001b[43margs\u001b[49m\u001b[43m,\u001b[49m\u001b[43m \u001b[49m\u001b[43m*\u001b[49m\u001b[43m*\u001b[49m\u001b[43mkwargs\u001b[49m\u001b[43m)\u001b[49m\n",
      "\u001b[36mFile \u001b[39m\u001b[32m/mfs1/u/viet/.conda/envs/dpddm/lib/python3.11/site-packages/torch/nn/modules/module.py:1750\u001b[39m, in \u001b[36mModule._call_impl\u001b[39m\u001b[34m(self, *args, **kwargs)\u001b[39m\n\u001b[32m   1745\u001b[39m \u001b[38;5;66;03m# If we don't have any hooks, we want to skip the rest of the logic in\u001b[39;00m\n\u001b[32m   1746\u001b[39m \u001b[38;5;66;03m# this function, and just call forward.\u001b[39;00m\n\u001b[32m   1747\u001b[39m \u001b[38;5;28;01mif\u001b[39;00m \u001b[38;5;129;01mnot\u001b[39;00m (\u001b[38;5;28mself\u001b[39m._backward_hooks \u001b[38;5;129;01mor\u001b[39;00m \u001b[38;5;28mself\u001b[39m._backward_pre_hooks \u001b[38;5;129;01mor\u001b[39;00m \u001b[38;5;28mself\u001b[39m._forward_hooks \u001b[38;5;129;01mor\u001b[39;00m \u001b[38;5;28mself\u001b[39m._forward_pre_hooks\n\u001b[32m   1748\u001b[39m         \u001b[38;5;129;01mor\u001b[39;00m _global_backward_pre_hooks \u001b[38;5;129;01mor\u001b[39;00m _global_backward_hooks\n\u001b[32m   1749\u001b[39m         \u001b[38;5;129;01mor\u001b[39;00m _global_forward_hooks \u001b[38;5;129;01mor\u001b[39;00m _global_forward_pre_hooks):\n\u001b[32m-> \u001b[39m\u001b[32m1750\u001b[39m     \u001b[38;5;28;01mreturn\u001b[39;00m \u001b[43mforward_call\u001b[49m\u001b[43m(\u001b[49m\u001b[43m*\u001b[49m\u001b[43margs\u001b[49m\u001b[43m,\u001b[49m\u001b[43m \u001b[49m\u001b[43m*\u001b[49m\u001b[43m*\u001b[49m\u001b[43mkwargs\u001b[49m\u001b[43m)\u001b[49m\n\u001b[32m   1752\u001b[39m result = \u001b[38;5;28;01mNone\u001b[39;00m\n\u001b[32m   1753\u001b[39m called_always_called_hooks = \u001b[38;5;28mset\u001b[39m()\n",
      "\u001b[36mFile \u001b[39m\u001b[32m/mfs1/u/viet/bayesian_dpddm/ablations/models/bayesian_mlp_model.py:32\u001b[39m, in \u001b[36mBayesianMLP.forward\u001b[39m\u001b[34m(self, x)\u001b[39m\n\u001b[32m     30\u001b[39m \u001b[38;5;28;01mdef\u001b[39;00m\u001b[38;5;250m \u001b[39m\u001b[34mforward\u001b[39m(\u001b[38;5;28mself\u001b[39m, x):\n\u001b[32m     31\u001b[39m     kl_sum = \u001b[32m0\u001b[39m\n\u001b[32m---> \u001b[39m\u001b[32m32\u001b[39m     x, kl = \u001b[38;5;28;43mself\u001b[39;49m\u001b[43m.\u001b[49m\u001b[43mget_features\u001b[49m\u001b[43m(\u001b[49m\u001b[43mx\u001b[49m\u001b[43m)\u001b[49m\n\u001b[32m     33\u001b[39m     kl_sum += kl\n\u001b[32m     35\u001b[39m     \u001b[38;5;28;01mreturn\u001b[39;00m \u001b[38;5;28mself\u001b[39m.out_layer(x)\n",
      "\u001b[36mFile \u001b[39m\u001b[32m/mfs1/u/viet/bayesian_dpddm/ablations/models/bayesian_mlp_model.py:25\u001b[39m, in \u001b[36mBayesianMLP.get_features\u001b[39m\u001b[34m(self, x)\u001b[39m\n\u001b[32m     23\u001b[39m \u001b[38;5;28;01mfor\u001b[39;00m layer \u001b[38;5;129;01min\u001b[39;00m \u001b[38;5;28mself\u001b[39m.mid_fc:\n\u001b[32m     24\u001b[39m     identity = x\n\u001b[32m---> \u001b[39m\u001b[32m25\u001b[39m     out, kl = \u001b[43mlayer\u001b[49m\u001b[43m(\u001b[49m\u001b[43mx\u001b[49m\u001b[43m)\u001b[49m\n\u001b[32m     26\u001b[39m     kl_sum += kl\n\u001b[32m     27\u001b[39m     x = F.elu(out + identity)\n",
      "\u001b[36mFile \u001b[39m\u001b[32m/mfs1/u/viet/.conda/envs/dpddm/lib/python3.11/site-packages/torch/nn/modules/module.py:1739\u001b[39m, in \u001b[36mModule._wrapped_call_impl\u001b[39m\u001b[34m(self, *args, **kwargs)\u001b[39m\n\u001b[32m   1737\u001b[39m     \u001b[38;5;28;01mreturn\u001b[39;00m \u001b[38;5;28mself\u001b[39m._compiled_call_impl(*args, **kwargs)  \u001b[38;5;66;03m# type: ignore[misc]\u001b[39;00m\n\u001b[32m   1738\u001b[39m \u001b[38;5;28;01melse\u001b[39;00m:\n\u001b[32m-> \u001b[39m\u001b[32m1739\u001b[39m     \u001b[38;5;28;01mreturn\u001b[39;00m \u001b[38;5;28;43mself\u001b[39;49m\u001b[43m.\u001b[49m\u001b[43m_call_impl\u001b[49m\u001b[43m(\u001b[49m\u001b[43m*\u001b[49m\u001b[43margs\u001b[49m\u001b[43m,\u001b[49m\u001b[43m \u001b[49m\u001b[43m*\u001b[49m\u001b[43m*\u001b[49m\u001b[43mkwargs\u001b[49m\u001b[43m)\u001b[49m\n",
      "\u001b[36mFile \u001b[39m\u001b[32m/mfs1/u/viet/.conda/envs/dpddm/lib/python3.11/site-packages/torch/nn/modules/module.py:1750\u001b[39m, in \u001b[36mModule._call_impl\u001b[39m\u001b[34m(self, *args, **kwargs)\u001b[39m\n\u001b[32m   1745\u001b[39m \u001b[38;5;66;03m# If we don't have any hooks, we want to skip the rest of the logic in\u001b[39;00m\n\u001b[32m   1746\u001b[39m \u001b[38;5;66;03m# this function, and just call forward.\u001b[39;00m\n\u001b[32m   1747\u001b[39m \u001b[38;5;28;01mif\u001b[39;00m \u001b[38;5;129;01mnot\u001b[39;00m (\u001b[38;5;28mself\u001b[39m._backward_hooks \u001b[38;5;129;01mor\u001b[39;00m \u001b[38;5;28mself\u001b[39m._backward_pre_hooks \u001b[38;5;129;01mor\u001b[39;00m \u001b[38;5;28mself\u001b[39m._forward_hooks \u001b[38;5;129;01mor\u001b[39;00m \u001b[38;5;28mself\u001b[39m._forward_pre_hooks\n\u001b[32m   1748\u001b[39m         \u001b[38;5;129;01mor\u001b[39;00m _global_backward_pre_hooks \u001b[38;5;129;01mor\u001b[39;00m _global_backward_hooks\n\u001b[32m   1749\u001b[39m         \u001b[38;5;129;01mor\u001b[39;00m _global_forward_hooks \u001b[38;5;129;01mor\u001b[39;00m _global_forward_pre_hooks):\n\u001b[32m-> \u001b[39m\u001b[32m1750\u001b[39m     \u001b[38;5;28;01mreturn\u001b[39;00m \u001b[43mforward_call\u001b[49m\u001b[43m(\u001b[49m\u001b[43m*\u001b[49m\u001b[43margs\u001b[49m\u001b[43m,\u001b[49m\u001b[43m \u001b[49m\u001b[43m*\u001b[49m\u001b[43m*\u001b[49m\u001b[43mkwargs\u001b[49m\u001b[43m)\u001b[49m\n\u001b[32m   1752\u001b[39m result = \u001b[38;5;28;01mNone\u001b[39;00m\n\u001b[32m   1753\u001b[39m called_always_called_hooks = \u001b[38;5;28mset\u001b[39m()\n",
      "\u001b[36mFile \u001b[39m\u001b[32m/mfs1/u/viet/.conda/envs/dpddm/lib/python3.11/site-packages/bayesian_torch/layers/variational_layers/linear_variational.py:172\u001b[39m, in \u001b[36mLinearReparameterization.forward\u001b[39m\u001b[34m(self, input, return_kl)\u001b[39m\n\u001b[32m    169\u001b[39m bias = \u001b[38;5;28;01mNone\u001b[39;00m\n\u001b[32m    171\u001b[39m \u001b[38;5;28;01mif\u001b[39;00m \u001b[38;5;28mself\u001b[39m.mu_bias \u001b[38;5;129;01mis\u001b[39;00m \u001b[38;5;129;01mnot\u001b[39;00m \u001b[38;5;28;01mNone\u001b[39;00m:\n\u001b[32m--> \u001b[39m\u001b[32m172\u001b[39m     sigma_bias = \u001b[43mtorch\u001b[49m\u001b[43m.\u001b[49m\u001b[43mlog1p\u001b[49m\u001b[43m(\u001b[49m\u001b[43mtorch\u001b[49m\u001b[43m.\u001b[49m\u001b[43mexp\u001b[49m\u001b[43m(\u001b[49m\u001b[38;5;28;43mself\u001b[39;49m\u001b[43m.\u001b[49m\u001b[43mrho_bias\u001b[49m\u001b[43m)\u001b[49m\u001b[43m)\u001b[49m\n\u001b[32m    173\u001b[39m     bias = \u001b[38;5;28mself\u001b[39m.mu_bias + (sigma_bias * \u001b[38;5;28mself\u001b[39m.eps_bias.data.normal_())\n\u001b[32m    174\u001b[39m     \u001b[38;5;28;01mif\u001b[39;00m return_kl:\n",
      "\u001b[31mKeyboardInterrupt\u001b[39m: "
     ]
    }
   ],
   "source": [
    "Phi = get_Phi(model, dataset['dpddm_train'],\n",
    "              n_post_samples=500,\n",
    "              Phi_size=500,\n",
    "              data_sample_size=100)"
   ]
  },
  {
   "cell_type": "code",
   "execution_count": 92,
   "id": "9d43cf47",
   "metadata": {},
   "outputs": [
    {
     "name": "stderr",
     "output_type": "stream",
     "text": [
      "100%|██████████| 100/100 [05:11<00:00,  3.11s/it]\n"
     ]
    }
   ],
   "source": [
    "id = get_Phi(model, dataset['dpddm_id'], n_post_samples=500, Phi_size=100, data_sample_size=100)"
   ]
  },
  {
   "cell_type": "code",
   "execution_count": 101,
   "id": "f5a09679",
   "metadata": {},
   "outputs": [
    {
     "data": {
      "text/plain": [
       "np.float64(0.07)"
      ]
     },
     "execution_count": 101,
     "metadata": {},
     "output_type": "execute_result"
    }
   ],
   "source": [
    "np.array(list(map(lambda x: (x > np.quantile(Phi, 0.95)), id))).mean()"
   ]
  },
  {
   "cell_type": "code",
   "execution_count": 103,
   "id": "e01163e2",
   "metadata": {},
   "outputs": [
    {
     "name": "stderr",
     "output_type": "stream",
     "text": [
      "100%|██████████| 100/100 [03:27<00:00,  2.08s/it]\n"
     ]
    }
   ],
   "source": [
    "ood = get_Phi(model, dataset['dpddm_ood'], n_post_samples=500, Phi_size=100, data_sample_size=100)"
   ]
  },
  {
   "cell_type": "code",
   "execution_count": 104,
   "id": "26cd39d8",
   "metadata": {},
   "outputs": [
    {
     "data": {
      "text/plain": [
       "np.float64(0.88)"
      ]
     },
     "execution_count": 104,
     "metadata": {},
     "output_type": "execute_result"
    }
   ],
   "source": [
    "np.array(list(map(lambda x: (x > np.quantile(Phi, 0.95)), ood))).mean()"
   ]
  },
  {
   "cell_type": "code",
   "execution_count": 16,
   "id": "795a8cdd",
   "metadata": {},
   "outputs": [
    {
     "data": {
      "text/plain": [
       "(np.float64(0.3624166870713234), np.float64(0.017704951079720636))"
      ]
     },
     "execution_count": 16,
     "metadata": {},
     "output_type": "execute_result"
    },
    {
     "data": {
      "image/png": "[encoded data removed]",
      "text/plain": [
       "<Figure size 640x480 with 1 Axes>"
      ]
     },
     "metadata": {},
     "output_type": "display_data"
    }
   ],
   "source": [
    "import matplotlib.pyplot as plt\n",
    "plt.hist(Phi)\n",
    "np.mean(Phi), np.std(Phi)"
   ]
  },
  {
   "cell_type": "code",
   "execution_count": null,
   "id": "961267e4",
   "metadata": {},
   "outputs": [],
   "source": []
  }
 ],
 "metadata": {
  "kernelspec": {
   "display_name": "dpddm",
   "language": "python",
   "name": "python3"
  },
  "language_info": {
   "codemirror_mode": {
    "name": "ipython",
    "version": 3
   },
   "file_extension": ".py",
   "mimetype": "text/x-python",
   "name": "python",
   "nbconvert_exporter": "python",
   "pygments_lexer": "ipython3",
   "version": "3.11.11"
  }
 },
 "nbformat": 4,
 "nbformat_minor": 5
}

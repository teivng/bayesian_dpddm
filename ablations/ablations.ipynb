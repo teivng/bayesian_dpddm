{
 "cells": [
  {
   "cell_type": "code",
   "execution_count": 32,
   "id": "6f34abfb",
   "metadata": {},
   "outputs": [
    {
     "name": "stdout",
     "output_type": "stream",
     "text": [
      "The autoreload extension is already loaded. To reload it, use:\n",
      "  %reload_ext autoreload\n"
     ]
    }
   ],
   "source": [
    "import os\n",
    "import sys\n",
    "import pandas as pd\n",
    "%load_ext autoreload\n",
    "%autoreload 2"
   ]
  },
  {
   "cell_type": "code",
   "execution_count": 34,
   "id": "8bd659d6",
   "metadata": {},
   "outputs": [
    {
     "name": "stdout",
     "output_type": "stream",
     "text": [
      "{'train': {'disagreement_epochs': 5, 'disagreement_optimizer': 'torch.optim.AdamW', 'disagreement_wd': 0.0001, 'disagreement_lr': 0.01, 'disagreement_batch_size': 64, 'disagreement_alpha': 0.8, 'num_epochs': 50, 'batch_size': 64, 'lr': 0.001, 'wd': 0.0001, 'optimizer': 'torch.optim.AdamW', 'clip_val': 1, 'val_freq': 1, 'num_workers': 4, 'pin_memory': True}, 'dataset': {'name': 'uci', 'num_classes': 2, 'data_dir': 'data/uci_data', 'normalize': True}, 'dpddm': {'Phi_size': 1000, 'n_post_samples': 5000, 'data_sample_size': 10, 'temp': 1, 'n_repeats': 100}, 'model': {'name': 'mlp_model', 'in_features': 9, 'mid_features': 16, 'mid_layers': 4, 'dropout': 0.2, 'reg_weight_factor': 100, 'param': 'diagonal', 'prior_scale': 1.0, 'wishart_scale': 1.0, 'return_ood': False}, 'wandb_cfg': {'project': 'bayesian_dpddm', 'entity': 'viet', 'job_type': 'train', 'log_artifacts': True}, 'monitor_type': 'bayesian', 'from_pretrained': False, 'seed': 57, 'self_log': True}\n"
     ]
    }
   ],
   "source": [
    "\n",
    "import torch\n",
    "import torch.nn as nn\n",
    "import torch.nn.functional as F\n",
    "from tqdm import tqdm\n",
    "from bayesian_dpddm.models import MLPModel, ConvModel, ResNetModel\n",
    "from bayesian_dpddm.monitors import DPDDMBayesianMonitor\n",
    "from experiments.utils import get_configs, get_datasets\n",
    "from bayesian_dpddm.models import MLPModel, ConvModel\n",
    "from data.uci_data import get_uci_datasets\n",
    "from omegaconf import OmegaConf\n",
    "from hydra import compose, initialize\n",
    "\n",
    "# Point to your config directory and name\n",
    "config_dir = \"configs/\"  # adjust as needed\n",
    "config_name = \"uci_best.yaml\"\n",
    "\n",
    "with initialize(config_path=config_dir, version_base='1.2'):\n",
    "    args = compose(config_name=config_name)\n",
    "\n",
    "# cfg is now a DictConfig\n",
    "print(args)\n",
    "dataset = get_datasets(args)\n",
    "model_config, train_config = get_configs(args)\n",
    "trainloader = torch.utils.data.DataLoader(\n",
    "    dataset['train'],\n",
    "    batch_size=train_config.batch_size,\n",
    "    shuffle=True,\n",
    "    num_workers=train_config.num_workers,\n",
    "    #pin_memory=train_config.pin_memory,\n",
    "    #persistent_workers=True,\n",
    ")\n",
    "\n",
    "valloader = torch.utils.data.DataLoader(\n",
    "    dataset['valid'],\n",
    "    batch_size=train_config.batch_size,\n",
    "    shuffle=False,\n",
    "    num_workers=train_config.num_workers,\n",
    "    #pin_memory=train_config.pin_memory,\n",
    "    #persistent_workers=True,\n",
    ")\n",
    "\n",
    "oodloader = torch.utils.data.DataLoader(\n",
    "    dataset['dpddm_ood'],\n",
    "    batch_size = train_config.batch_size,\n",
    "    shuffle=False,\n",
    "    num_workers=train_config.num_workers,\n",
    "    #pin_memory=True, \n",
    "    #persistent_workers=True\n",
    ")"
   ]
  },
  {
   "cell_type": "markdown",
   "id": "2f276583",
   "metadata": {},
   "source": [
    "# Accuracies on UCI"
   ]
  },
  {
   "cell_type": "code",
   "execution_count": 35,
   "id": "30ee4cb9",
   "metadata": {},
   "outputs": [
    {
     "data": {
      "text/plain": [
       "'/mfs1/u/viet/bayesian_dpddm'"
      ]
     },
     "execution_count": 35,
     "metadata": {},
     "output_type": "execute_result"
    }
   ],
   "source": [
    "import os\n",
    "import sys\n",
    "#os.chdir('../')\n",
    "os.getcwd()"
   ]
  },
  {
   "cell_type": "code",
   "execution_count": 36,
   "id": "35fd7d9a",
   "metadata": {},
   "outputs": [],
   "source": [
    "import torch\n",
    "import torch.nn as nn\n",
    "import torch.nn.functional as F\n",
    "from tqdm import tqdm\n",
    "from bayesian_dpddm.models import MLPModel, ConvModel, ResNetModel\n"
   ]
  },
  {
   "cell_type": "code",
   "execution_count": 37,
   "id": "9a7563d4",
   "metadata": {},
   "outputs": [
    {
     "name": "stdout",
     "output_type": "stream",
     "text": [
      "{'train': {'disagreement_epochs': 5, 'disagreement_optimizer': 'torch.optim.AdamW', 'disagreement_wd': 0.0001, 'disagreement_lr': 0.01, 'disagreement_batch_size': 64, 'disagreement_alpha': 0.8, 'num_epochs': 50, 'batch_size': 64, 'lr': 0.001, 'wd': 0.0001, 'optimizer': 'torch.optim.AdamW', 'clip_val': 1, 'val_freq': 1, 'num_workers': 4, 'pin_memory': True}, 'dataset': {'name': 'uci', 'num_classes': 2, 'data_dir': 'data/uci_data', 'normalize': True}, 'dpddm': {'Phi_size': 1000, 'n_post_samples': 5000, 'data_sample_size': 10, 'temp': 1, 'n_repeats': 100}, 'model': {'name': 'mlp_model', 'in_features': 9, 'mid_features': 16, 'mid_layers': 4, 'dropout': 0.2, 'reg_weight_factor': 100, 'param': 'diagonal', 'prior_scale': 1.0, 'wishart_scale': 1.0, 'return_ood': False}, 'wandb_cfg': {'project': 'bayesian_dpddm', 'entity': 'viet', 'job_type': 'train', 'log_artifacts': True}, 'monitor_type': 'bayesian', 'from_pretrained': False, 'seed': 57, 'self_log': True}\n"
     ]
    }
   ],
   "source": [
    "from experiments.utils import get_configs, get_datasets\n",
    "from bayesian_dpddm.models import MLPModel, ConvModel\n",
    "from data.uci_data import get_uci_datasets\n",
    "from omegaconf import OmegaConf\n",
    "from hydra import compose, initialize\n",
    "\n",
    "# Point to your config directory and name\n",
    "config_dir = \"configs/\"  # adjust as needed\n",
    "config_name = \"uci_best.yaml\"\n",
    "\n",
    "with initialize(config_path=config_dir, version_base='1.2'):\n",
    "    args = compose(config_name=config_name)\n",
    "\n",
    "# cfg is now a DictConfig\n",
    "print(args)"
   ]
  },
  {
   "cell_type": "code",
   "execution_count": 38,
   "id": "fda46bc6",
   "metadata": {},
   "outputs": [],
   "source": [
    "dataset = get_datasets(args)\n",
    "model_config, train_config = get_configs(args)\n",
    "trainloader = torch.utils.data.DataLoader(\n",
    "    dataset['train'],\n",
    "    batch_size=train_config.batch_size,\n",
    "    shuffle=True,\n",
    "    num_workers=train_config.num_workers,\n",
    "    #pin_memory=train_config.pin_memory,\n",
    "    #persistent_workers=True,\n",
    ")\n",
    "\n",
    "valloader = torch.utils.data.DataLoader(\n",
    "    dataset['valid'],\n",
    "    batch_size=train_config.batch_size,\n",
    "    shuffle=False,\n",
    "    num_workers=train_config.num_workers,\n",
    "    #pin_memory=train_config.pin_memory,\n",
    "    #persistent_workers=True,\n",
    ")\n",
    "\n",
    "oodloader = torch.utils.data.DataLoader(\n",
    "    dataset['dpddm_ood'],\n",
    "    batch_size = train_config.batch_size,\n",
    "    shuffle=False,\n",
    "    num_workers=train_config.num_workers,\n",
    "    #pin_memory=True, \n",
    "    #persistent_workers=True\n",
    ")"
   ]
  },
  {
   "cell_type": "code",
   "execution_count": 39,
   "id": "9f34ca82",
   "metadata": {},
   "outputs": [],
   "source": [
    "model = MLPModel(model_config, train_size=len(dataset['train'])).cuda()\n",
    "model.out_layer = nn.Linear(model_config.mid_features, model_config.out_features).cuda()\n",
    "opt = torch.optim.AdamW(model.parameters(), lr=1e-3)\n",
    "criterion = nn.CrossEntropyLoss()"
   ]
  },
  {
   "cell_type": "code",
   "execution_count": 48,
   "id": "591cabe4",
   "metadata": {},
   "outputs": [
    {
     "name": "stderr",
     "output_type": "stream",
     "text": [
      "100%|██████████| 50/50 [00:05<00:00,  8.75it/s]\n"
     ]
    }
   ],
   "source": [
    "for epoch in tqdm(range(train_config.num_epochs)):\n",
    "    model.train()\n",
    "    for batch in tqdm(trainloader, leave=False):\n",
    "        features, labels, *_ = batch\n",
    "        features, labels = features.cuda(), labels.cuda()\n",
    "        out = model(features)\n",
    "        loss = criterion(out, labels.long())\n",
    "        opt.zero_grad()\n",
    "        loss.backward()\n",
    "        opt.step()"
   ]
  },
  {
   "cell_type": "code",
   "execution_count": 45,
   "id": "bb210bef",
   "metadata": {},
   "outputs": [],
   "source": [
    "def evaluate(model, loader):\n",
    "    model.eval()\n",
    "    predictions = []\n",
    "    ll = []\n",
    "    with torch.no_grad():\n",
    "        for batch in loader:\n",
    "            features, labels, *_ = batch\n",
    "            features, labels = features.cuda(), labels.cuda()\n",
    "            out = model(features)\n",
    "            preds = torch.argmax(out, dim=-1)\n",
    "            predictions.append(preds.cpu())\n",
    "            ll.append(labels.cpu())\n",
    "    predictions = torch.cat(predictions).numpy().squeeze()\n",
    "    ll = torch.cat(ll).numpy()\n",
    "    return (predictions == ll).mean()\n",
    "            "
   ]
  },
  {
   "cell_type": "code",
   "execution_count": 46,
   "id": "8e22b50c",
   "metadata": {},
   "outputs": [
    {
     "name": "stdout",
     "output_type": "stream",
     "text": [
      "round 0\n"
     ]
    },
    {
     "name": "stderr",
     "output_type": "stream",
     "text": [
      "                                               \r"
     ]
    },
    {
     "name": "stdout",
     "output_type": "stream",
     "text": [
      "round 1\n"
     ]
    },
    {
     "name": "stderr",
     "output_type": "stream",
     "text": [
      "                                               \r"
     ]
    },
    {
     "name": "stdout",
     "output_type": "stream",
     "text": [
      "round 2\n"
     ]
    },
    {
     "name": "stderr",
     "output_type": "stream",
     "text": [
      "                                               \r"
     ]
    },
    {
     "name": "stdout",
     "output_type": "stream",
     "text": [
      "round 3\n"
     ]
    },
    {
     "name": "stderr",
     "output_type": "stream",
     "text": [
      "                                               \r"
     ]
    },
    {
     "name": "stdout",
     "output_type": "stream",
     "text": [
      "round 4\n"
     ]
    },
    {
     "name": "stderr",
     "output_type": "stream",
     "text": [
      "                                               \r"
     ]
    },
    {
     "name": "stdout",
     "output_type": "stream",
     "text": [
      "round 5\n"
     ]
    },
    {
     "name": "stderr",
     "output_type": "stream",
     "text": [
      "                                               \r"
     ]
    },
    {
     "name": "stdout",
     "output_type": "stream",
     "text": [
      "round 6\n"
     ]
    },
    {
     "name": "stderr",
     "output_type": "stream",
     "text": [
      "                                               \r"
     ]
    },
    {
     "name": "stdout",
     "output_type": "stream",
     "text": [
      "round 7\n"
     ]
    },
    {
     "name": "stderr",
     "output_type": "stream",
     "text": [
      "                                               \r"
     ]
    },
    {
     "name": "stdout",
     "output_type": "stream",
     "text": [
      "round 8\n"
     ]
    },
    {
     "name": "stderr",
     "output_type": "stream",
     "text": [
      "                                               \r"
     ]
    },
    {
     "name": "stdout",
     "output_type": "stream",
     "text": [
      "round 9\n"
     ]
    },
    {
     "name": "stderr",
     "output_type": "stream",
     "text": [
      "                                               \r"
     ]
    }
   ],
   "source": [
    "id_perf, ood_perf = [], []\n",
    "for i in range(10):\n",
    "    print('round {}'.format(i))\n",
    "    model = MLPModel(model_config, train_size=len(dataset['train'])).cuda()\n",
    "    model.out_layer = nn.Linear(model_config.mid_features, model_config.out_features).cuda()\n",
    "    opt = torch.optim.AdamW(model.parameters(), lr=1e-3)\n",
    "    criterion = nn.CrossEntropyLoss()\n",
    "    for epoch in tqdm(range(50), leave=False):\n",
    "        model.train()\n",
    "        for batch in trainloader:\n",
    "            features, labels, *_ = batch\n",
    "            features, labels = features.cuda(), labels.cuda()\n",
    "            out = model(features)\n",
    "            loss = criterion(out, labels.long())\n",
    "            opt.zero_grad()\n",
    "            loss.backward()\n",
    "            opt.step()\n",
    "    acc_id = evaluate(model, valloader)\n",
    "    acc_ood = evaluate(model, oodloader)\n",
    "    id_perf.append(acc_id)\n",
    "    ood_perf.append(acc_ood)"
   ]
  },
  {
   "cell_type": "code",
   "execution_count": 47,
   "id": "67032bf6",
   "metadata": {},
   "outputs": [
    {
     "data": {
      "text/plain": [
       "(np.float64(0.7733333333333334),\n",
       " np.float64(0.6609907120743033),\n",
       " np.float64(0.11234262125903016))"
      ]
     },
     "execution_count": 47,
     "metadata": {},
     "output_type": "execute_result"
    }
   ],
   "source": [
    "import numpy as np\n",
    "np.mean(id_perf), np.mean(ood_perf), np.mean(id_perf) - np.mean(ood_perf)"
   ]
  },
  {
   "cell_type": "code",
   "execution_count": 49,
   "id": "a17a68dd",
   "metadata": {},
   "outputs": [
    {
     "data": {
      "text/plain": [
       "np.float64(0.015065534047155943)"
      ]
     },
     "execution_count": 49,
     "metadata": {},
     "output_type": "execute_result"
    }
   ],
   "source": [
    "np.std(np.array(id_perf) - np.array(ood_perf))"
   ]
  },
  {
   "cell_type": "markdown",
   "id": "96d33542",
   "metadata": {},
   "source": [
    "# VBLL vs Regular Head Classifier"
   ]
  },
  {
   "cell_type": "code",
   "execution_count": 19,
   "id": "5085089c",
   "metadata": {},
   "outputs": [
    {
     "data": {
      "text/plain": [
       "(         run_id   accuracy   f1_score      auroc        mcc\n",
       " count  10.00000  10.000000  10.000000  10.000000  10.000000\n",
       " mean    4.50000   0.940323   0.940246   0.984192   0.881923\n",
       " std     3.02765   0.008584   0.008745   0.000734   0.014476\n",
       " min     0.00000   0.916179   0.915637   0.982470   0.841401\n",
       " 25%     2.25000   0.941805   0.941752   0.984369   0.884487\n",
       " 50%     4.50000   0.943193   0.943176   0.984464   0.886653\n",
       " 75%     6.75000   0.943764   0.943732   0.984586   0.888114\n",
       " max     9.00000   0.944549   0.944532   0.984712   0.889296,\n",
       "          run_id   accuracy   f1_score      auroc        mcc\n",
       " count  10.00000  10.000000  10.000000  10.000000  10.000000\n",
       " mean    4.50000   0.941696   0.941674   0.983425   0.883673\n",
       " std     3.02765   0.000498   0.000494   0.000167   0.001102\n",
       " min     0.00000   0.940813   0.940801   0.983159   0.881716\n",
       " 25%     2.25000   0.941391   0.941367   0.983313   0.882986\n",
       " 50%     4.50000   0.941772   0.941752   0.983406   0.883771\n",
       " 75%     6.75000   0.941962   0.941931   0.983500   0.884375\n",
       " max     9.00000   0.942433   0.942410   0.983708   0.885162)"
      ]
     },
     "execution_count": 19,
     "metadata": {},
     "output_type": "execute_result"
    }
   ],
   "source": [
    "df = pd.read_csv('ablations/ablation_results/reghead/reghead.csv')\n",
    "df = df[df['dataset'] == 'camelyon17']\n",
    "df[df['model'] == 'D3M'].describe(), df[df['model'] == 'Reg'].describe()"
   ]
  },
  {
   "cell_type": "markdown",
   "id": "bc5a2d2e",
   "metadata": {},
   "source": [
    "## UCI Heart Disease"
   ]
  },
  {
   "cell_type": "code",
   "execution_count": null,
   "id": "34fe9235",
   "metadata": {},
   "outputs": [],
   "source": [
    "df = pd.read_csv('ablation_results/reghead/reghead.csv')\n",
    "df = df[df['dataset'] == 'uci']\n",
    "df[df['model'] == 'D3M'].describe()"
   ]
  },
  {
   "cell_type": "code",
   "execution_count": null,
   "id": "9a0df188",
   "metadata": {},
   "outputs": [
    {
     "data": {
      "text/html": [
       "<div>\n",
       "<style scoped>\n",
       "    .dataframe tbody tr th:only-of-type {\n",
       "        vertical-align: middle;\n",
       "    }\n",
       "\n",
       "    .dataframe tbody tr th {\n",
       "        vertical-align: top;\n",
       "    }\n",
       "\n",
       "    .dataframe thead th {\n",
       "        text-align: right;\n",
       "    }\n",
       "</style>\n",
       "<table border=\"1\" class=\"dataframe\">\n",
       "  <thead>\n",
       "    <tr style=\"text-align: right;\">\n",
       "      <th></th>\n",
       "      <th>run_id</th>\n",
       "      <th>accuracy</th>\n",
       "      <th>f1_score</th>\n",
       "      <th>auroc</th>\n",
       "      <th>mcc</th>\n",
       "    </tr>\n",
       "  </thead>\n",
       "  <tbody>\n",
       "    <tr>\n",
       "      <th>count</th>\n",
       "      <td>10.00000</td>\n",
       "      <td>10.000000</td>\n",
       "      <td>10.000000</td>\n",
       "      <td>10.000000</td>\n",
       "      <td>10.000000</td>\n",
       "    </tr>\n",
       "    <tr>\n",
       "      <th>mean</th>\n",
       "      <td>4.50000</td>\n",
       "      <td>0.761667</td>\n",
       "      <td>0.751474</td>\n",
       "      <td>0.855458</td>\n",
       "      <td>0.511780</td>\n",
       "    </tr>\n",
       "    <tr>\n",
       "      <th>std</th>\n",
       "      <td>3.02765</td>\n",
       "      <td>0.019720</td>\n",
       "      <td>0.021929</td>\n",
       "      <td>0.010792</td>\n",
       "      <td>0.041304</td>\n",
       "    </tr>\n",
       "    <tr>\n",
       "      <th>min</th>\n",
       "      <td>0.00000</td>\n",
       "      <td>0.725000</td>\n",
       "      <td>0.712523</td>\n",
       "      <td>0.844174</td>\n",
       "      <td>0.433709</td>\n",
       "    </tr>\n",
       "    <tr>\n",
       "      <th>25%</th>\n",
       "      <td>2.25000</td>\n",
       "      <td>0.754167</td>\n",
       "      <td>0.738308</td>\n",
       "      <td>0.844881</td>\n",
       "      <td>0.497221</td>\n",
       "    </tr>\n",
       "    <tr>\n",
       "      <th>50%</th>\n",
       "      <td>4.50000</td>\n",
       "      <td>0.766667</td>\n",
       "      <td>0.756059</td>\n",
       "      <td>0.853507</td>\n",
       "      <td>0.521132</td>\n",
       "    </tr>\n",
       "    <tr>\n",
       "      <th>75%</th>\n",
       "      <td>6.75000</td>\n",
       "      <td>0.766667</td>\n",
       "      <td>0.758551</td>\n",
       "      <td>0.865314</td>\n",
       "      <td>0.522866</td>\n",
       "    </tr>\n",
       "    <tr>\n",
       "      <th>max</th>\n",
       "      <td>9.00000</td>\n",
       "      <td>0.800000</td>\n",
       "      <td>0.793044</td>\n",
       "      <td>0.871041</td>\n",
       "      <td>0.590309</td>\n",
       "    </tr>\n",
       "  </tbody>\n",
       "</table>\n",
       "</div>"
      ],
      "text/plain": [
       "         run_id   accuracy   f1_score      auroc        mcc\n",
       "count  10.00000  10.000000  10.000000  10.000000  10.000000\n",
       "mean    4.50000   0.761667   0.751474   0.855458   0.511780\n",
       "std     3.02765   0.019720   0.021929   0.010792   0.041304\n",
       "min     0.00000   0.725000   0.712523   0.844174   0.433709\n",
       "25%     2.25000   0.754167   0.738308   0.844881   0.497221\n",
       "50%     4.50000   0.766667   0.756059   0.853507   0.521132\n",
       "75%     6.75000   0.766667   0.758551   0.865314   0.522866\n",
       "max     9.00000   0.800000   0.793044   0.871041   0.590309"
      ]
     },
     "execution_count": 7,
     "metadata": {},
     "output_type": "execute_result"
    },
    {
     "ename": "",
     "evalue": "",
     "output_type": "error",
     "traceback": [
      "\u001b[1;31mnotebook controller is DISPOSED. \n",
      "\u001b[1;31mView Jupyter <a href='command:jupyter.viewOutput'>log</a> for further details."
     ]
    }
   ],
   "source": [
    "df[df['model'] == 'D3M'].describe()"
   ]
  },
  {
   "cell_type": "code",
   "execution_count": null,
   "id": "28e0f5e8",
   "metadata": {},
   "outputs": [
    {
     "data": {
      "text/html": [
       "<div>\n",
       "<style scoped>\n",
       "    .dataframe tbody tr th:only-of-type {\n",
       "        vertical-align: middle;\n",
       "    }\n",
       "\n",
       "    .dataframe tbody tr th {\n",
       "        vertical-align: top;\n",
       "    }\n",
       "\n",
       "    .dataframe thead th {\n",
       "        text-align: right;\n",
       "    }\n",
       "</style>\n",
       "<table border=\"1\" class=\"dataframe\">\n",
       "  <thead>\n",
       "    <tr style=\"text-align: right;\">\n",
       "      <th></th>\n",
       "      <th>run_id</th>\n",
       "      <th>accuracy</th>\n",
       "      <th>f1_score</th>\n",
       "      <th>auroc</th>\n",
       "      <th>mcc</th>\n",
       "    </tr>\n",
       "  </thead>\n",
       "  <tbody>\n",
       "    <tr>\n",
       "      <th>count</th>\n",
       "      <td>10.00000</td>\n",
       "      <td>10.000000</td>\n",
       "      <td>10.000000</td>\n",
       "      <td>10.000000</td>\n",
       "      <td>10.000000</td>\n",
       "    </tr>\n",
       "    <tr>\n",
       "      <th>mean</th>\n",
       "      <td>4.50000</td>\n",
       "      <td>0.767500</td>\n",
       "      <td>0.757954</td>\n",
       "      <td>0.867477</td>\n",
       "      <td>0.523324</td>\n",
       "    </tr>\n",
       "    <tr>\n",
       "      <th>std</th>\n",
       "      <td>3.02765</td>\n",
       "      <td>0.011419</td>\n",
       "      <td>0.011956</td>\n",
       "      <td>0.006427</td>\n",
       "      <td>0.024104</td>\n",
       "    </tr>\n",
       "    <tr>\n",
       "      <th>min</th>\n",
       "      <td>0.00000</td>\n",
       "      <td>0.750000</td>\n",
       "      <td>0.739583</td>\n",
       "      <td>0.856900</td>\n",
       "      <td>0.486236</td>\n",
       "    </tr>\n",
       "    <tr>\n",
       "      <th>25%</th>\n",
       "      <td>2.25000</td>\n",
       "      <td>0.760417</td>\n",
       "      <td>0.750146</td>\n",
       "      <td>0.862557</td>\n",
       "      <td>0.508044</td>\n",
       "    </tr>\n",
       "    <tr>\n",
       "      <th>50%</th>\n",
       "      <td>4.50000</td>\n",
       "      <td>0.766667</td>\n",
       "      <td>0.756862</td>\n",
       "      <td>0.867930</td>\n",
       "      <td>0.521472</td>\n",
       "    </tr>\n",
       "    <tr>\n",
       "      <th>75%</th>\n",
       "      <td>6.75000</td>\n",
       "      <td>0.772917</td>\n",
       "      <td>0.763231</td>\n",
       "      <td>0.871324</td>\n",
       "      <td>0.534995</td>\n",
       "    </tr>\n",
       "    <tr>\n",
       "      <th>max</th>\n",
       "      <td>9.00000</td>\n",
       "      <td>0.791667</td>\n",
       "      <td>0.782214</td>\n",
       "      <td>0.876980</td>\n",
       "      <td>0.573992</td>\n",
       "    </tr>\n",
       "  </tbody>\n",
       "</table>\n",
       "</div>"
      ],
      "text/plain": [
       "         run_id   accuracy   f1_score      auroc        mcc\n",
       "count  10.00000  10.000000  10.000000  10.000000  10.000000\n",
       "mean    4.50000   0.767500   0.757954   0.867477   0.523324\n",
       "std     3.02765   0.011419   0.011956   0.006427   0.024104\n",
       "min     0.00000   0.750000   0.739583   0.856900   0.486236\n",
       "25%     2.25000   0.760417   0.750146   0.862557   0.508044\n",
       "50%     4.50000   0.766667   0.756862   0.867930   0.521472\n",
       "75%     6.75000   0.772917   0.763231   0.871324   0.534995\n",
       "max     9.00000   0.791667   0.782214   0.876980   0.573992"
      ]
     },
     "execution_count": 8,
     "metadata": {},
     "output_type": "execute_result"
    },
    {
     "ename": "",
     "evalue": "",
     "output_type": "error",
     "traceback": [
      "\u001b[1;31mnotebook controller is DISPOSED. \n",
      "\u001b[1;31mView Jupyter <a href='command:jupyter.viewOutput'>log</a> for further details."
     ]
    }
   ],
   "source": [
    "df[df['model'] == 'Reg'].describe()"
   ]
  },
  {
   "cell_type": "markdown",
   "id": "b08b9168",
   "metadata": {},
   "source": [
    "## CIFAR-10"
   ]
  },
  {
   "cell_type": "code",
   "execution_count": null,
   "id": "f1fabc78",
   "metadata": {},
   "outputs": [
    {
     "ename": "",
     "evalue": "",
     "output_type": "error",
     "traceback": [
      "\u001b[1;31mnotebook controller is DISPOSED. \n",
      "\u001b[1;31mView Jupyter <a href='command:jupyter.viewOutput'>log</a> for further details."
     ]
    }
   ],
   "source": [
    "df = pd.read_csv('ablation_results/reghead/reghead.csv')\n",
    "df = df[df['dataset'] == 'cifar10']"
   ]
  },
  {
   "cell_type": "code",
   "execution_count": null,
   "id": "c1c9783e",
   "metadata": {},
   "outputs": [
    {
     "data": {
      "text/html": [
       "<div>\n",
       "<style scoped>\n",
       "    .dataframe tbody tr th:only-of-type {\n",
       "        vertical-align: middle;\n",
       "    }\n",
       "\n",
       "    .dataframe tbody tr th {\n",
       "        vertical-align: top;\n",
       "    }\n",
       "\n",
       "    .dataframe thead th {\n",
       "        text-align: right;\n",
       "    }\n",
       "</style>\n",
       "<table border=\"1\" class=\"dataframe\">\n",
       "  <thead>\n",
       "    <tr style=\"text-align: right;\">\n",
       "      <th></th>\n",
       "      <th>run_id</th>\n",
       "      <th>accuracy</th>\n",
       "      <th>f1_score</th>\n",
       "      <th>auroc</th>\n",
       "      <th>mcc</th>\n",
       "    </tr>\n",
       "  </thead>\n",
       "  <tbody>\n",
       "    <tr>\n",
       "      <th>count</th>\n",
       "      <td>10.00000</td>\n",
       "      <td>10.000000</td>\n",
       "      <td>10.000000</td>\n",
       "      <td>10.000000</td>\n",
       "      <td>10.000000</td>\n",
       "    </tr>\n",
       "    <tr>\n",
       "      <th>mean</th>\n",
       "      <td>4.50000</td>\n",
       "      <td>0.700320</td>\n",
       "      <td>0.697698</td>\n",
       "      <td>0.955781</td>\n",
       "      <td>0.668806</td>\n",
       "    </tr>\n",
       "    <tr>\n",
       "      <th>std</th>\n",
       "      <td>3.02765</td>\n",
       "      <td>0.020199</td>\n",
       "      <td>0.020833</td>\n",
       "      <td>0.004538</td>\n",
       "      <td>0.021162</td>\n",
       "    </tr>\n",
       "    <tr>\n",
       "      <th>min</th>\n",
       "      <td>0.00000</td>\n",
       "      <td>0.647300</td>\n",
       "      <td>0.643624</td>\n",
       "      <td>0.944173</td>\n",
       "      <td>0.613371</td>\n",
       "    </tr>\n",
       "    <tr>\n",
       "      <th>25%</th>\n",
       "      <td>2.25000</td>\n",
       "      <td>0.697675</td>\n",
       "      <td>0.693627</td>\n",
       "      <td>0.955177</td>\n",
       "      <td>0.665914</td>\n",
       "    </tr>\n",
       "    <tr>\n",
       "      <th>50%</th>\n",
       "      <td>4.50000</td>\n",
       "      <td>0.703700</td>\n",
       "      <td>0.700444</td>\n",
       "      <td>0.956905</td>\n",
       "      <td>0.672835</td>\n",
       "    </tr>\n",
       "    <tr>\n",
       "      <th>75%</th>\n",
       "      <td>6.75000</td>\n",
       "      <td>0.711550</td>\n",
       "      <td>0.710807</td>\n",
       "      <td>0.958159</td>\n",
       "      <td>0.680743</td>\n",
       "    </tr>\n",
       "    <tr>\n",
       "      <th>max</th>\n",
       "      <td>9.00000</td>\n",
       "      <td>0.717800</td>\n",
       "      <td>0.714789</td>\n",
       "      <td>0.959723</td>\n",
       "      <td>0.687447</td>\n",
       "    </tr>\n",
       "  </tbody>\n",
       "</table>\n",
       "</div>"
      ],
      "text/plain": [
       "         run_id   accuracy   f1_score      auroc        mcc\n",
       "count  10.00000  10.000000  10.000000  10.000000  10.000000\n",
       "mean    4.50000   0.700320   0.697698   0.955781   0.668806\n",
       "std     3.02765   0.020199   0.020833   0.004538   0.021162\n",
       "min     0.00000   0.647300   0.643624   0.944173   0.613371\n",
       "25%     2.25000   0.697675   0.693627   0.955177   0.665914\n",
       "50%     4.50000   0.703700   0.700444   0.956905   0.672835\n",
       "75%     6.75000   0.711550   0.710807   0.958159   0.680743\n",
       "max     9.00000   0.717800   0.714789   0.959723   0.687447"
      ]
     },
     "execution_count": 10,
     "metadata": {},
     "output_type": "execute_result"
    },
    {
     "ename": "",
     "evalue": "",
     "output_type": "error",
     "traceback": [
      "\u001b[1;31mnotebook controller is DISPOSED. \n",
      "\u001b[1;31mView Jupyter <a href='command:jupyter.viewOutput'>log</a> for further details."
     ]
    }
   ],
   "source": [
    "df[df['model'] == 'D3M'].describe()"
   ]
  },
  {
   "cell_type": "code",
   "execution_count": null,
   "id": "e9c1a007",
   "metadata": {},
   "outputs": [
    {
     "data": {
      "text/html": [
       "<div>\n",
       "<style scoped>\n",
       "    .dataframe tbody tr th:only-of-type {\n",
       "        vertical-align: middle;\n",
       "    }\n",
       "\n",
       "    .dataframe tbody tr th {\n",
       "        vertical-align: top;\n",
       "    }\n",
       "\n",
       "    .dataframe thead th {\n",
       "        text-align: right;\n",
       "    }\n",
       "</style>\n",
       "<table border=\"1\" class=\"dataframe\">\n",
       "  <thead>\n",
       "    <tr style=\"text-align: right;\">\n",
       "      <th></th>\n",
       "      <th>run_id</th>\n",
       "      <th>accuracy</th>\n",
       "      <th>f1_score</th>\n",
       "      <th>auroc</th>\n",
       "      <th>mcc</th>\n",
       "    </tr>\n",
       "  </thead>\n",
       "  <tbody>\n",
       "    <tr>\n",
       "      <th>count</th>\n",
       "      <td>10.00000</td>\n",
       "      <td>10.000000</td>\n",
       "      <td>10.000000</td>\n",
       "      <td>10.000000</td>\n",
       "      <td>10.000000</td>\n",
       "    </tr>\n",
       "    <tr>\n",
       "      <th>mean</th>\n",
       "      <td>4.50000</td>\n",
       "      <td>0.719140</td>\n",
       "      <td>0.717035</td>\n",
       "      <td>0.960638</td>\n",
       "      <td>0.689076</td>\n",
       "    </tr>\n",
       "    <tr>\n",
       "      <th>std</th>\n",
       "      <td>3.02765</td>\n",
       "      <td>0.012803</td>\n",
       "      <td>0.012988</td>\n",
       "      <td>0.001908</td>\n",
       "      <td>0.013839</td>\n",
       "    </tr>\n",
       "    <tr>\n",
       "      <th>min</th>\n",
       "      <td>0.00000</td>\n",
       "      <td>0.701800</td>\n",
       "      <td>0.697273</td>\n",
       "      <td>0.957714</td>\n",
       "      <td>0.670288</td>\n",
       "    </tr>\n",
       "    <tr>\n",
       "      <th>25%</th>\n",
       "      <td>2.25000</td>\n",
       "      <td>0.707100</td>\n",
       "      <td>0.706406</td>\n",
       "      <td>0.959589</td>\n",
       "      <td>0.675893</td>\n",
       "    </tr>\n",
       "    <tr>\n",
       "      <th>50%</th>\n",
       "      <td>4.50000</td>\n",
       "      <td>0.721150</td>\n",
       "      <td>0.718639</td>\n",
       "      <td>0.960844</td>\n",
       "      <td>0.691617</td>\n",
       "    </tr>\n",
       "    <tr>\n",
       "      <th>75%</th>\n",
       "      <td>6.75000</td>\n",
       "      <td>0.727500</td>\n",
       "      <td>0.725275</td>\n",
       "      <td>0.961269</td>\n",
       "      <td>0.698249</td>\n",
       "    </tr>\n",
       "    <tr>\n",
       "      <th>max</th>\n",
       "      <td>9.00000</td>\n",
       "      <td>0.738500</td>\n",
       "      <td>0.737607</td>\n",
       "      <td>0.963903</td>\n",
       "      <td>0.710044</td>\n",
       "    </tr>\n",
       "  </tbody>\n",
       "</table>\n",
       "</div>"
      ],
      "text/plain": [
       "         run_id   accuracy   f1_score      auroc        mcc\n",
       "count  10.00000  10.000000  10.000000  10.000000  10.000000\n",
       "mean    4.50000   0.719140   0.717035   0.960638   0.689076\n",
       "std     3.02765   0.012803   0.012988   0.001908   0.013839\n",
       "min     0.00000   0.701800   0.697273   0.957714   0.670288\n",
       "25%     2.25000   0.707100   0.706406   0.959589   0.675893\n",
       "50%     4.50000   0.721150   0.718639   0.960844   0.691617\n",
       "75%     6.75000   0.727500   0.725275   0.961269   0.698249\n",
       "max     9.00000   0.738500   0.737607   0.963903   0.710044"
      ]
     },
     "execution_count": 11,
     "metadata": {},
     "output_type": "execute_result"
    },
    {
     "ename": "",
     "evalue": "",
     "output_type": "error",
     "traceback": [
      "\u001b[1;31mnotebook controller is DISPOSED. \n",
      "\u001b[1;31mView Jupyter <a href='command:jupyter.viewOutput'>log</a> for further details."
     ]
    }
   ],
   "source": [
    "df[df['model'] == 'Reg'].describe()"
   ]
  },
  {
   "cell_type": "code",
   "execution_count": 26,
   "id": "c0310732",
   "metadata": {},
   "outputs": [],
   "source": [
    "df = pd.read_csv('ablations/ablation_results/temp/temp.csv')"
   ]
  },
  {
   "cell_type": "code",
   "execution_count": 27,
   "id": "e5d91a17",
   "metadata": {},
   "outputs": [],
   "source": [
    "uci = df[df['dataset'] == 'uci']\n",
    "cam = df[df['dataset'] == 'camelyon17']\n",
    "cif = df[df['dataset'] == 'cifar10']"
   ]
  },
  {
   "cell_type": "code",
   "execution_count": 28,
   "id": "f98fef34",
   "metadata": {},
   "outputs": [],
   "source": [
    "uci, cif, cam = list(map(lambda x : x.drop(columns=['seed', 'data_sample_size', 'fpr_train', 'dis_rate_train_std', 'dis_rate_id_std', 'dataset', 'dis_rate_train_mean','dis_rate_ood_std']),  [uci, cif, cam]))"
   ]
  },
  {
   "cell_type": "code",
   "execution_count": 29,
   "id": "b3ec7f7b",
   "metadata": {},
   "outputs": [
    {
     "data": {
      "text/html": [
       "<div>\n",
       "<style scoped>\n",
       "    .dataframe tbody tr th:only-of-type {\n",
       "        vertical-align: middle;\n",
       "    }\n",
       "\n",
       "    .dataframe tbody tr th {\n",
       "        vertical-align: top;\n",
       "    }\n",
       "\n",
       "    .dataframe thead th {\n",
       "        text-align: right;\n",
       "    }\n",
       "</style>\n",
       "<table border=\"1\" class=\"dataframe\">\n",
       "  <thead>\n",
       "    <tr style=\"text-align: right;\">\n",
       "      <th></th>\n",
       "      <th>temp</th>\n",
       "      <th>fpr_id</th>\n",
       "      <th>tpr</th>\n",
       "      <th>dis_rate_id_mean</th>\n",
       "      <th>dis_rate_ood_mean</th>\n",
       "    </tr>\n",
       "  </thead>\n",
       "  <tbody>\n",
       "    <tr>\n",
       "      <th>0</th>\n",
       "      <td>1</td>\n",
       "      <td>0.01</td>\n",
       "      <td>0.85</td>\n",
       "      <td>0.4359</td>\n",
       "      <td>0.4919</td>\n",
       "    </tr>\n",
       "    <tr>\n",
       "      <th>1</th>\n",
       "      <td>2</td>\n",
       "      <td>0.07</td>\n",
       "      <td>0.49</td>\n",
       "      <td>0.5478</td>\n",
       "      <td>0.5785</td>\n",
       "    </tr>\n",
       "    <tr>\n",
       "      <th>2</th>\n",
       "      <td>3</td>\n",
       "      <td>0.07</td>\n",
       "      <td>0.32</td>\n",
       "      <td>0.5864</td>\n",
       "      <td>0.6089</td>\n",
       "    </tr>\n",
       "    <tr>\n",
       "      <th>3</th>\n",
       "      <td>5</td>\n",
       "      <td>0.09</td>\n",
       "      <td>0.12</td>\n",
       "      <td>0.6280</td>\n",
       "      <td>0.6381</td>\n",
       "    </tr>\n",
       "    <tr>\n",
       "      <th>4</th>\n",
       "      <td>10</td>\n",
       "      <td>0.08</td>\n",
       "      <td>0.19</td>\n",
       "      <td>0.6520</td>\n",
       "      <td>0.6615</td>\n",
       "    </tr>\n",
       "    <tr>\n",
       "      <th>5</th>\n",
       "      <td>20</td>\n",
       "      <td>0.04</td>\n",
       "      <td>0.11</td>\n",
       "      <td>0.6679</td>\n",
       "      <td>0.6721</td>\n",
       "    </tr>\n",
       "  </tbody>\n",
       "</table>\n",
       "</div>"
      ],
      "text/plain": [
       "   temp  fpr_id   tpr  dis_rate_id_mean  dis_rate_ood_mean\n",
       "0     1    0.01  0.85            0.4359             0.4919\n",
       "1     2    0.07  0.49            0.5478             0.5785\n",
       "2     3    0.07  0.32            0.5864             0.6089\n",
       "3     5    0.09  0.12            0.6280             0.6381\n",
       "4    10    0.08  0.19            0.6520             0.6615\n",
       "5    20    0.04  0.11            0.6679             0.6721"
      ]
     },
     "execution_count": 29,
     "metadata": {},
     "output_type": "execute_result"
    }
   ],
   "source": [
    "uci"
   ]
  },
  {
   "cell_type": "code",
   "execution_count": 30,
   "id": "4d4cba2f",
   "metadata": {},
   "outputs": [
    {
     "data": {
      "text/html": [
       "<div>\n",
       "<style scoped>\n",
       "    .dataframe tbody tr th:only-of-type {\n",
       "        vertical-align: middle;\n",
       "    }\n",
       "\n",
       "    .dataframe tbody tr th {\n",
       "        vertical-align: top;\n",
       "    }\n",
       "\n",
       "    .dataframe thead th {\n",
       "        text-align: right;\n",
       "    }\n",
       "</style>\n",
       "<table border=\"1\" class=\"dataframe\">\n",
       "  <thead>\n",
       "    <tr style=\"text-align: right;\">\n",
       "      <th></th>\n",
       "      <th>temp</th>\n",
       "      <th>fpr_id</th>\n",
       "      <th>tpr</th>\n",
       "      <th>dis_rate_id_mean</th>\n",
       "      <th>dis_rate_ood_mean</th>\n",
       "    </tr>\n",
       "  </thead>\n",
       "  <tbody>\n",
       "    <tr>\n",
       "      <th>6</th>\n",
       "      <td>1</td>\n",
       "      <td>0.14</td>\n",
       "      <td>0.98</td>\n",
       "      <td>0.4309</td>\n",
       "      <td>0.5189</td>\n",
       "    </tr>\n",
       "    <tr>\n",
       "      <th>7</th>\n",
       "      <td>2</td>\n",
       "      <td>0.06</td>\n",
       "      <td>1.00</td>\n",
       "      <td>0.6405</td>\n",
       "      <td>0.7267</td>\n",
       "    </tr>\n",
       "    <tr>\n",
       "      <th>8</th>\n",
       "      <td>3</td>\n",
       "      <td>0.06</td>\n",
       "      <td>0.96</td>\n",
       "      <td>0.7683</td>\n",
       "      <td>0.8289</td>\n",
       "    </tr>\n",
       "    <tr>\n",
       "      <th>9</th>\n",
       "      <td>5</td>\n",
       "      <td>0.05</td>\n",
       "      <td>0.78</td>\n",
       "      <td>0.8837</td>\n",
       "      <td>0.9136</td>\n",
       "    </tr>\n",
       "    <tr>\n",
       "      <th>10</th>\n",
       "      <td>10</td>\n",
       "      <td>0.05</td>\n",
       "      <td>0.34</td>\n",
       "      <td>0.9505</td>\n",
       "      <td>0.9619</td>\n",
       "    </tr>\n",
       "    <tr>\n",
       "      <th>11</th>\n",
       "      <td>20</td>\n",
       "      <td>0.07</td>\n",
       "      <td>0.09</td>\n",
       "      <td>0.9744</td>\n",
       "      <td>0.9762</td>\n",
       "    </tr>\n",
       "  </tbody>\n",
       "</table>\n",
       "</div>"
      ],
      "text/plain": [
       "    temp  fpr_id   tpr  dis_rate_id_mean  dis_rate_ood_mean\n",
       "6      1    0.14  0.98            0.4309             0.5189\n",
       "7      2    0.06  1.00            0.6405             0.7267\n",
       "8      3    0.06  0.96            0.7683             0.8289\n",
       "9      5    0.05  0.78            0.8837             0.9136\n",
       "10    10    0.05  0.34            0.9505             0.9619\n",
       "11    20    0.07  0.09            0.9744             0.9762"
      ]
     },
     "execution_count": 30,
     "metadata": {},
     "output_type": "execute_result"
    }
   ],
   "source": [
    "cif"
   ]
  },
  {
   "cell_type": "code",
   "execution_count": 31,
   "id": "b3a7959c",
   "metadata": {},
   "outputs": [
    {
     "data": {
      "text/html": [
       "<div>\n",
       "<style scoped>\n",
       "    .dataframe tbody tr th:only-of-type {\n",
       "        vertical-align: middle;\n",
       "    }\n",
       "\n",
       "    .dataframe tbody tr th {\n",
       "        vertical-align: top;\n",
       "    }\n",
       "\n",
       "    .dataframe thead th {\n",
       "        text-align: right;\n",
       "    }\n",
       "</style>\n",
       "<table border=\"1\" class=\"dataframe\">\n",
       "  <thead>\n",
       "    <tr style=\"text-align: right;\">\n",
       "      <th></th>\n",
       "      <th>temp</th>\n",
       "      <th>fpr_id</th>\n",
       "      <th>tpr</th>\n",
       "      <th>dis_rate_id_mean</th>\n",
       "      <th>dis_rate_ood_mean</th>\n",
       "    </tr>\n",
       "  </thead>\n",
       "  <tbody>\n",
       "    <tr>\n",
       "      <th>12</th>\n",
       "      <td>1</td>\n",
       "      <td>0.09</td>\n",
       "      <td>0.99</td>\n",
       "      <td>0.1696</td>\n",
       "      <td>0.2561</td>\n",
       "    </tr>\n",
       "    <tr>\n",
       "      <th>13</th>\n",
       "      <td>2</td>\n",
       "      <td>0.12</td>\n",
       "      <td>1.00</td>\n",
       "      <td>0.2891</td>\n",
       "      <td>0.3904</td>\n",
       "    </tr>\n",
       "    <tr>\n",
       "      <th>14</th>\n",
       "      <td>3</td>\n",
       "      <td>0.09</td>\n",
       "      <td>1.00</td>\n",
       "      <td>0.3801</td>\n",
       "      <td>0.4712</td>\n",
       "    </tr>\n",
       "    <tr>\n",
       "      <th>15</th>\n",
       "      <td>5</td>\n",
       "      <td>0.07</td>\n",
       "      <td>1.00</td>\n",
       "      <td>0.4774</td>\n",
       "      <td>0.5471</td>\n",
       "    </tr>\n",
       "    <tr>\n",
       "      <th>16</th>\n",
       "      <td>10</td>\n",
       "      <td>0.08</td>\n",
       "      <td>0.61</td>\n",
       "      <td>0.5803</td>\n",
       "      <td>0.6118</td>\n",
       "    </tr>\n",
       "    <tr>\n",
       "      <th>17</th>\n",
       "      <td>20</td>\n",
       "      <td>0.05</td>\n",
       "      <td>0.32</td>\n",
       "      <td>0.6295</td>\n",
       "      <td>0.6483</td>\n",
       "    </tr>\n",
       "  </tbody>\n",
       "</table>\n",
       "</div>"
      ],
      "text/plain": [
       "    temp  fpr_id   tpr  dis_rate_id_mean  dis_rate_ood_mean\n",
       "12     1    0.09  0.99            0.1696             0.2561\n",
       "13     2    0.12  1.00            0.2891             0.3904\n",
       "14     3    0.09  1.00            0.3801             0.4712\n",
       "15     5    0.07  1.00            0.4774             0.5471\n",
       "16    10    0.08  0.61            0.5803             0.6118\n",
       "17    20    0.05  0.32            0.6295             0.6483"
      ]
     },
     "execution_count": 31,
     "metadata": {},
     "output_type": "execute_result"
    }
   ],
   "source": [
    "cam"
   ]
  },
  {
   "cell_type": "code",
   "execution_count": null,
   "id": "49ec5f34",
   "metadata": {},
   "outputs": [],
   "source": []
  }
 ],
 "metadata": {
  "kernelspec": {
   "display_name": "dpddm",
   "language": "python",
   "name": "python3"
  },
  "language_info": {
   "codemirror_mode": {
    "name": "ipython",
    "version": 3
   },
   "file_extension": ".py",
   "mimetype": "text/x-python",
   "name": "python",
   "nbconvert_exporter": "python",
   "pygments_lexer": "ipython3",
   "version": "3.11.11"
  }
 },
 "nbformat": 4,
 "nbformat_minor": 5
}

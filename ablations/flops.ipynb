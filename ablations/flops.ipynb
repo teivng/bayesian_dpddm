{
 "cells": [
  {
   "cell_type": "code",
   "execution_count": 1,
   "id": "121dad0c",
   "metadata": {},
   "outputs": [],
   "source": [
    "from ptflops import get_model_complexity_info\n",
    "import torchvision.models as models\n",
    "\n",
    "#model = models.resnet50()\n",
    "#flops, params = get_model_complexity_info(model, (3, 224, 224), as_strings=True)\n",
    "#print('FLOPs:', flops)\n",
    "#print('Parameters:', params)"
   ]
  },
  {
   "cell_type": "code",
   "execution_count": 2,
   "id": "0aed7edc",
   "metadata": {},
   "outputs": [],
   "source": [
    "import sys\n",
    "import os\n",
    "os.chdir('../')\n",
    "\n",
    "import torch\n",
    "import torch.nn as nn\n",
    "import torch.nn.functional as F\n",
    "from torch.utils.data import Subset\n",
    "from tqdm import tqdm\n",
    "from omegaconf import OmegaConf\n",
    "from hydra import compose, initialize\n",
    "import matplotlib.pyplot as plt\n",
    "\n",
    "from ablations.models import BayesianMLP\n",
    "from experiments.utils import get_configs, get_datasets\n",
    "import random\n",
    "%load_ext autoreload\n",
    "%autoreload 2"
   ]
  },
  {
   "cell_type": "code",
   "execution_count": 36,
   "id": "d885c24e",
   "metadata": {},
   "outputs": [
    {
     "name": "stdout",
     "output_type": "stream",
     "text": [
      "{'train': {'disagreement_epochs': 5, 'disagreement_optimizer': 'torch.optim.AdamW', 'disagreement_wd': 0.0001, 'disagreement_lr': 0.01, 'disagreement_batch_size': 64, 'disagreement_alpha': 0.8, 'num_epochs': 2, 'batch_size': 256, 'lr': 1e-05, 'wd': 0.0001, 'optimizer': 'torch.optim.AdamW', 'clip_val': 1, 'val_freq': 1, 'num_workers': 10, 'pin_memory': True}, 'dataset': {'name': 'camelyon17', 'num_classes': 2, 'data_dir': '/voyager/datasets/', 'frac': 1.0, 'download': False}, 'dpddm': {'Phi_size': 1000, 'n_post_samples': 5000, 'data_sample_size': 100, 'temp': 2, 'n_repeats': 100}, 'model': {'name': 'resnet_model', 'resnet_type': 'resnet34', 'hidden_dim': 1000, 'resnet_pretrained': True, 'freeze_features': True, 'reg_weight_factor': 100, 'param': 'diagonal', 'prior_scale': 5, 'wishart_scale': 2, 'return_ood': False}, 'wandb_cfg': {'project': 'wilds_dpddm', 'entity': 'viet', 'job_type': 'train', 'log_artifacts': True}, 'monitor_type': 'bayesian', 'from_pretrained': False, 'seed': 57, 'self_log': True}\n"
     ]
    }
   ],
   "source": [
    "# Point to your config directory and name\n",
    "config_dir = \"configs/\"  # adjust as needed\n",
    "config_name = \"camelyon17_best.yaml\"\n",
    "\n",
    "with initialize(config_path=config_dir, version_base='1.2'):\n",
    "    args = compose(config_name=config_name)\n",
    "\n",
    "# cfg is now a DictConfig\n",
    "print(args)\n",
    "dataset = get_datasets(args)\n",
    "model_config, train_config = get_configs(args)\n",
    "trainloader = torch.utils.data.DataLoader(\n",
    "    dataset['train'],\n",
    "    batch_size=train_config.batch_size,\n",
    "    shuffle=True,\n",
    "    num_workers=train_config.num_workers,\n",
    "    pin_memory=train_config.pin_memory,\n",
    "    persistent_workers=True,\n",
    ")\n",
    "\n",
    "valloader = torch.utils.data.DataLoader(\n",
    "    dataset['valid'],\n",
    "    batch_size=train_config.batch_size,\n",
    "    shuffle=False,\n",
    "    num_workers=train_config.num_workers,\n",
    "    pin_memory=train_config.pin_memory,\n",
    "    persistent_workers=True,\n",
    ")\n",
    "\n",
    "oodloader = torch.utils.data.DataLoader(\n",
    "    dataset['dpddm_ood'],\n",
    "    batch_size = train_config.batch_size,\n",
    "    shuffle=False,\n",
    "    num_workers=train_config.num_workers,\n",
    "    pin_memory=True, \n",
    "    persistent_workers=True\n",
    ")"
   ]
  },
  {
   "cell_type": "code",
   "execution_count": 4,
   "id": "de2d45db",
   "metadata": {},
   "outputs": [
    {
     "name": "stdout",
     "output_type": "stream",
     "text": [
      "torch.Size([358, 9])\n",
      "torch.Size([120, 9])\n",
      "torch.Size([120, 9])\n",
      "torch.Size([119, 9])\n",
      "torch.Size([323, 9])\n"
     ]
    }
   ],
   "source": [
    "for k in dataset:\n",
    "    print(dataset[k].X.shape)"
   ]
  },
  {
   "cell_type": "code",
   "execution_count": 37,
   "id": "92cb123e",
   "metadata": {},
   "outputs": [],
   "source": [
    "from bayesian_dpddm.models import MLPModel, ConvModel, ResNetModel\n",
    "\n",
    "model = ResNetModel(model_config, train_size=len(dataset['train']))\n",
    "model.out_layer = nn.Linear(model_config.hidden_dim, model_config.out_features)"
   ]
  },
  {
   "cell_type": "code",
   "execution_count": 42,
   "id": "22f55673",
   "metadata": {},
   "outputs": [
    {
     "name": "stdout",
     "output_type": "stream",
     "text": [
      "ResNet(\n",
      "  21.8 M, 100.000% Params, 75.52 MMac, 99.881% MACs, \n",
      "  (conv1): Conv2d(9.41 k, 0.043% Params, 2.41 MMac, 3.186% MACs, 3, 64, kernel_size=(7, 7), stride=(2, 2), padding=(3, 3), bias=False)\n",
      "  (bn1): BatchNorm2d(128, 0.001% Params, 32.77 KMac, 0.043% MACs, 64, eps=1e-05, momentum=0.1, affine=True, track_running_stats=True)\n",
      "  (relu): ReLU(0, 0.000% Params, 16.38 KMac, 0.022% MACs, inplace=True)\n",
      "  (maxpool): MaxPool2d(0, 0.000% Params, 16.38 KMac, 0.022% MACs, kernel_size=3, stride=2, padding=1, dilation=1, ceil_mode=False)\n",
      "  (layer1): Sequential(\n",
      "    221.95 k, 1.018% Params, 14.23 MMac, 18.821% MACs, \n",
      "    (0): BasicBlock(\n",
      "      73.98 k, 0.339% Params, 4.74 MMac, 6.274% MACs, \n",
      "      (conv1): Conv2d(36.86 k, 0.169% Params, 2.36 MMac, 3.121% MACs, 64, 64, kernel_size=(3, 3), stride=(1, 1), padding=(1, 1), bias=False)\n",
      "      (bn1): BatchNorm2d(128, 0.001% Params, 8.19 KMac, 0.011% MACs, 64, eps=1e-05, momentum=0.1, affine=True, track_running_stats=True)\n",
      "      (relu): ReLU(0, 0.000% Params, 8.19 KMac, 0.011% MACs, inplace=True)\n",
      "      (conv2): Conv2d(36.86 k, 0.169% Params, 2.36 MMac, 3.121% MACs, 64, 64, kernel_size=(3, 3), stride=(1, 1), padding=(1, 1), bias=False)\n",
      "      (bn2): BatchNorm2d(128, 0.001% Params, 8.19 KMac, 0.011% MACs, 64, eps=1e-05, momentum=0.1, affine=True, track_running_stats=True)\n",
      "    )\n",
      "    (1): BasicBlock(\n",
      "      73.98 k, 0.339% Params, 4.74 MMac, 6.274% MACs, \n",
      "      (conv1): Conv2d(36.86 k, 0.169% Params, 2.36 MMac, 3.121% MACs, 64, 64, kernel_size=(3, 3), stride=(1, 1), padding=(1, 1), bias=False)\n",
      "      (bn1): BatchNorm2d(128, 0.001% Params, 8.19 KMac, 0.011% MACs, 64, eps=1e-05, momentum=0.1, affine=True, track_running_stats=True)\n",
      "      (relu): ReLU(0, 0.000% Params, 8.19 KMac, 0.011% MACs, inplace=True)\n",
      "      (conv2): Conv2d(36.86 k, 0.169% Params, 2.36 MMac, 3.121% MACs, 64, 64, kernel_size=(3, 3), stride=(1, 1), padding=(1, 1), bias=False)\n",
      "      (bn2): BatchNorm2d(128, 0.001% Params, 8.19 KMac, 0.011% MACs, 64, eps=1e-05, momentum=0.1, affine=True, track_running_stats=True)\n",
      "    )\n",
      "    (2): BasicBlock(\n",
      "      73.98 k, 0.339% Params, 4.74 MMac, 6.274% MACs, \n",
      "      (conv1): Conv2d(36.86 k, 0.169% Params, 2.36 MMac, 3.121% MACs, 64, 64, kernel_size=(3, 3), stride=(1, 1), padding=(1, 1), bias=False)\n",
      "      (bn1): BatchNorm2d(128, 0.001% Params, 8.19 KMac, 0.011% MACs, 64, eps=1e-05, momentum=0.1, affine=True, track_running_stats=True)\n",
      "      (relu): ReLU(0, 0.000% Params, 8.19 KMac, 0.011% MACs, inplace=True)\n",
      "      (conv2): Conv2d(36.86 k, 0.169% Params, 2.36 MMac, 3.121% MACs, 64, 64, kernel_size=(3, 3), stride=(1, 1), padding=(1, 1), bias=False)\n",
      "      (bn2): BatchNorm2d(128, 0.001% Params, 8.19 KMac, 0.011% MACs, 64, eps=1e-05, momentum=0.1, affine=True, track_running_stats=True)\n",
      "    )\n",
      "  )\n",
      "  (layer2): Sequential(\n",
      "    1.12 M, 5.122% Params, 17.88 MMac, 23.648% MACs, \n",
      "    (0): BasicBlock(\n",
      "      230.14 k, 1.056% Params, 3.69 MMac, 4.876% MACs, \n",
      "      (conv1): Conv2d(73.73 k, 0.338% Params, 1.18 MMac, 1.560% MACs, 64, 128, kernel_size=(3, 3), stride=(2, 2), padding=(1, 1), bias=False)\n",
      "      (bn1): BatchNorm2d(256, 0.001% Params, 4.1 KMac, 0.005% MACs, 128, eps=1e-05, momentum=0.1, affine=True, track_running_stats=True)\n",
      "      (relu): ReLU(0, 0.000% Params, 4.1 KMac, 0.005% MACs, inplace=True)\n",
      "      (conv2): Conv2d(147.46 k, 0.676% Params, 2.36 MMac, 3.121% MACs, 128, 128, kernel_size=(3, 3), stride=(1, 1), padding=(1, 1), bias=False)\n",
      "      (bn2): BatchNorm2d(256, 0.001% Params, 4.1 KMac, 0.005% MACs, 128, eps=1e-05, momentum=0.1, affine=True, track_running_stats=True)\n",
      "      (downsample): Sequential(\n",
      "        8.45 k, 0.039% Params, 135.17 KMac, 0.179% MACs, \n",
      "        (0): Conv2d(8.19 k, 0.038% Params, 131.07 KMac, 0.173% MACs, 64, 128, kernel_size=(1, 1), stride=(2, 2), bias=False)\n",
      "        (1): BatchNorm2d(256, 0.001% Params, 4.1 KMac, 0.005% MACs, 128, eps=1e-05, momentum=0.1, affine=True, track_running_stats=True)\n",
      "      )\n",
      "    )\n",
      "    (1): BasicBlock(\n",
      "      295.42 k, 1.355% Params, 4.73 MMac, 6.257% MACs, \n",
      "      (conv1): Conv2d(147.46 k, 0.676% Params, 2.36 MMac, 3.121% MACs, 128, 128, kernel_size=(3, 3), stride=(1, 1), padding=(1, 1), bias=False)\n",
      "      (bn1): BatchNorm2d(256, 0.001% Params, 4.1 KMac, 0.005% MACs, 128, eps=1e-05, momentum=0.1, affine=True, track_running_stats=True)\n",
      "      (relu): ReLU(0, 0.000% Params, 4.1 KMac, 0.005% MACs, inplace=True)\n",
      "      (conv2): Conv2d(147.46 k, 0.676% Params, 2.36 MMac, 3.121% MACs, 128, 128, kernel_size=(3, 3), stride=(1, 1), padding=(1, 1), bias=False)\n",
      "      (bn2): BatchNorm2d(256, 0.001% Params, 4.1 KMac, 0.005% MACs, 128, eps=1e-05, momentum=0.1, affine=True, track_running_stats=True)\n",
      "    )\n",
      "    (2): BasicBlock(\n",
      "      295.42 k, 1.355% Params, 4.73 MMac, 6.257% MACs, \n",
      "      (conv1): Conv2d(147.46 k, 0.676% Params, 2.36 MMac, 3.121% MACs, 128, 128, kernel_size=(3, 3), stride=(1, 1), padding=(1, 1), bias=False)\n",
      "      (bn1): BatchNorm2d(256, 0.001% Params, 4.1 KMac, 0.005% MACs, 128, eps=1e-05, momentum=0.1, affine=True, track_running_stats=True)\n",
      "      (relu): ReLU(0, 0.000% Params, 4.1 KMac, 0.005% MACs, inplace=True)\n",
      "      (conv2): Conv2d(147.46 k, 0.676% Params, 2.36 MMac, 3.121% MACs, 128, 128, kernel_size=(3, 3), stride=(1, 1), padding=(1, 1), bias=False)\n",
      "      (bn2): BatchNorm2d(256, 0.001% Params, 4.1 KMac, 0.005% MACs, 128, eps=1e-05, momentum=0.1, affine=True, track_running_stats=True)\n",
      "    )\n",
      "    (3): BasicBlock(\n",
      "      295.42 k, 1.355% Params, 4.73 MMac, 6.257% MACs, \n",
      "      (conv1): Conv2d(147.46 k, 0.676% Params, 2.36 MMac, 3.121% MACs, 128, 128, kernel_size=(3, 3), stride=(1, 1), padding=(1, 1), bias=False)\n",
      "      (bn1): BatchNorm2d(256, 0.001% Params, 4.1 KMac, 0.005% MACs, 128, eps=1e-05, momentum=0.1, affine=True, track_running_stats=True)\n",
      "      (relu): ReLU(0, 0.000% Params, 4.1 KMac, 0.005% MACs, inplace=True)\n",
      "      (conv2): Conv2d(147.46 k, 0.676% Params, 2.36 MMac, 3.121% MACs, 128, 128, kernel_size=(3, 3), stride=(1, 1), padding=(1, 1), bias=False)\n",
      "      (bn2): BatchNorm2d(256, 0.001% Params, 4.1 KMac, 0.005% MACs, 128, eps=1e-05, momentum=0.1, affine=True, track_running_stats=True)\n",
      "    )\n",
      "  )\n",
      "  (layer3): Sequential(\n",
      "    6.82 M, 31.299% Params, 27.3 MMac, 36.111% MACs, \n",
      "    (0): BasicBlock(\n",
      "      919.04 k, 4.216% Params, 3.68 MMac, 4.865% MACs, \n",
      "      (conv1): Conv2d(294.91 k, 1.353% Params, 1.18 MMac, 1.560% MACs, 128, 256, kernel_size=(3, 3), stride=(2, 2), padding=(1, 1), bias=False)\n",
      "      (bn1): BatchNorm2d(512, 0.002% Params, 2.05 KMac, 0.003% MACs, 256, eps=1e-05, momentum=0.1, affine=True, track_running_stats=True)\n",
      "      (relu): ReLU(0, 0.000% Params, 2.05 KMac, 0.003% MACs, inplace=True)\n",
      "      (conv2): Conv2d(589.82 k, 2.706% Params, 2.36 MMac, 3.121% MACs, 256, 256, kernel_size=(3, 3), stride=(1, 1), padding=(1, 1), bias=False)\n",
      "      (bn2): BatchNorm2d(512, 0.002% Params, 2.05 KMac, 0.003% MACs, 256, eps=1e-05, momentum=0.1, affine=True, track_running_stats=True)\n",
      "      (downsample): Sequential(\n",
      "        33.28 k, 0.153% Params, 133.12 KMac, 0.176% MACs, \n",
      "        (0): Conv2d(32.77 k, 0.150% Params, 131.07 KMac, 0.173% MACs, 128, 256, kernel_size=(1, 1), stride=(2, 2), bias=False)\n",
      "        (1): BatchNorm2d(512, 0.002% Params, 2.05 KMac, 0.003% MACs, 256, eps=1e-05, momentum=0.1, affine=True, track_running_stats=True)\n",
      "      )\n",
      "    )\n",
      "    (1): BasicBlock(\n",
      "      1.18 M, 5.417% Params, 4.72 MMac, 6.249% MACs, \n",
      "      (conv1): Conv2d(589.82 k, 2.706% Params, 2.36 MMac, 3.121% MACs, 256, 256, kernel_size=(3, 3), stride=(1, 1), padding=(1, 1), bias=False)\n",
      "      (bn1): BatchNorm2d(512, 0.002% Params, 2.05 KMac, 0.003% MACs, 256, eps=1e-05, momentum=0.1, affine=True, track_running_stats=True)\n",
      "      (relu): ReLU(0, 0.000% Params, 2.05 KMac, 0.003% MACs, inplace=True)\n",
      "      (conv2): Conv2d(589.82 k, 2.706% Params, 2.36 MMac, 3.121% MACs, 256, 256, kernel_size=(3, 3), stride=(1, 1), padding=(1, 1), bias=False)\n",
      "      (bn2): BatchNorm2d(512, 0.002% Params, 2.05 KMac, 0.003% MACs, 256, eps=1e-05, momentum=0.1, affine=True, track_running_stats=True)\n",
      "    )\n",
      "    (2): BasicBlock(\n",
      "      1.18 M, 5.417% Params, 4.72 MMac, 6.249% MACs, \n",
      "      (conv1): Conv2d(589.82 k, 2.706% Params, 2.36 MMac, 3.121% MACs, 256, 256, kernel_size=(3, 3), stride=(1, 1), padding=(1, 1), bias=False)\n",
      "      (bn1): BatchNorm2d(512, 0.002% Params, 2.05 KMac, 0.003% MACs, 256, eps=1e-05, momentum=0.1, affine=True, track_running_stats=True)\n",
      "      (relu): ReLU(0, 0.000% Params, 2.05 KMac, 0.003% MACs, inplace=True)\n",
      "      (conv2): Conv2d(589.82 k, 2.706% Params, 2.36 MMac, 3.121% MACs, 256, 256, kernel_size=(3, 3), stride=(1, 1), padding=(1, 1), bias=False)\n",
      "      (bn2): BatchNorm2d(512, 0.002% Params, 2.05 KMac, 0.003% MACs, 256, eps=1e-05, momentum=0.1, affine=True, track_running_stats=True)\n",
      "    )\n",
      "    (3): BasicBlock(\n",
      "      1.18 M, 5.417% Params, 4.72 MMac, 6.249% MACs, \n",
      "      (conv1): Conv2d(589.82 k, 2.706% Params, 2.36 MMac, 3.121% MACs, 256, 256, kernel_size=(3, 3), stride=(1, 1), padding=(1, 1), bias=False)\n",
      "      (bn1): BatchNorm2d(512, 0.002% Params, 2.05 KMac, 0.003% MACs, 256, eps=1e-05, momentum=0.1, affine=True, track_running_stats=True)\n",
      "      (relu): ReLU(0, 0.000% Params, 2.05 KMac, 0.003% MACs, inplace=True)\n",
      "      (conv2): Conv2d(589.82 k, 2.706% Params, 2.36 MMac, 3.121% MACs, 256, 256, kernel_size=(3, 3), stride=(1, 1), padding=(1, 1), bias=False)\n",
      "      (bn2): BatchNorm2d(512, 0.002% Params, 2.05 KMac, 0.003% MACs, 256, eps=1e-05, momentum=0.1, affine=True, track_running_stats=True)\n",
      "    )\n",
      "    (4): BasicBlock(\n",
      "      1.18 M, 5.417% Params, 4.72 MMac, 6.249% MACs, \n",
      "      (conv1): Conv2d(589.82 k, 2.706% Params, 2.36 MMac, 3.121% MACs, 256, 256, kernel_size=(3, 3), stride=(1, 1), padding=(1, 1), bias=False)\n",
      "      (bn1): BatchNorm2d(512, 0.002% Params, 2.05 KMac, 0.003% MACs, 256, eps=1e-05, momentum=0.1, affine=True, track_running_stats=True)\n",
      "      (relu): ReLU(0, 0.000% Params, 2.05 KMac, 0.003% MACs, inplace=True)\n",
      "      (conv2): Conv2d(589.82 k, 2.706% Params, 2.36 MMac, 3.121% MACs, 256, 256, kernel_size=(3, 3), stride=(1, 1), padding=(1, 1), bias=False)\n",
      "      (bn2): BatchNorm2d(512, 0.002% Params, 2.05 KMac, 0.003% MACs, 256, eps=1e-05, momentum=0.1, affine=True, track_running_stats=True)\n",
      "    )\n",
      "    (5): BasicBlock(\n",
      "      1.18 M, 5.417% Params, 4.72 MMac, 6.249% MACs, \n",
      "      (conv1): Conv2d(589.82 k, 2.706% Params, 2.36 MMac, 3.121% MACs, 256, 256, kernel_size=(3, 3), stride=(1, 1), padding=(1, 1), bias=False)\n",
      "      (bn1): BatchNorm2d(512, 0.002% Params, 2.05 KMac, 0.003% MACs, 256, eps=1e-05, momentum=0.1, affine=True, track_running_stats=True)\n",
      "      (relu): ReLU(0, 0.000% Params, 2.05 KMac, 0.003% MACs, inplace=True)\n",
      "      (conv2): Conv2d(589.82 k, 2.706% Params, 2.36 MMac, 3.121% MACs, 256, 256, kernel_size=(3, 3), stride=(1, 1), padding=(1, 1), bias=False)\n",
      "      (bn2): BatchNorm2d(512, 0.002% Params, 2.05 KMac, 0.003% MACs, 256, eps=1e-05, momentum=0.1, affine=True, track_running_stats=True)\n",
      "    )\n",
      "  )\n",
      "  (layer4): Sequential(\n",
      "    13.11 M, 60.164% Params, 13.12 MMac, 17.350% MACs, \n",
      "    (0): BasicBlock(\n",
      "      3.67 M, 16.851% Params, 3.67 MMac, 4.860% MACs, \n",
      "      (conv1): Conv2d(1.18 M, 5.412% Params, 1.18 MMac, 1.560% MACs, 256, 512, kernel_size=(3, 3), stride=(2, 2), padding=(1, 1), bias=False)\n",
      "      (bn1): BatchNorm2d(1.02 k, 0.005% Params, 1.02 KMac, 0.001% MACs, 512, eps=1e-05, momentum=0.1, affine=True, track_running_stats=True)\n",
      "      (relu): ReLU(0, 0.000% Params, 1.02 KMac, 0.001% MACs, inplace=True)\n",
      "      (conv2): Conv2d(2.36 M, 10.824% Params, 2.36 MMac, 3.121% MACs, 512, 512, kernel_size=(3, 3), stride=(1, 1), padding=(1, 1), bias=False)\n",
      "      (bn2): BatchNorm2d(1.02 k, 0.005% Params, 1.02 KMac, 0.001% MACs, 512, eps=1e-05, momentum=0.1, affine=True, track_running_stats=True)\n",
      "      (downsample): Sequential(\n",
      "        132.1 k, 0.606% Params, 132.1 KMac, 0.175% MACs, \n",
      "        (0): Conv2d(131.07 k, 0.601% Params, 131.07 KMac, 0.173% MACs, 256, 512, kernel_size=(1, 1), stride=(2, 2), bias=False)\n",
      "        (1): BatchNorm2d(1.02 k, 0.005% Params, 1.02 KMac, 0.001% MACs, 512, eps=1e-05, momentum=0.1, affine=True, track_running_stats=True)\n",
      "      )\n",
      "    )\n",
      "    (1): BasicBlock(\n",
      "      4.72 M, 21.657% Params, 4.72 MMac, 6.245% MACs, \n",
      "      (conv1): Conv2d(2.36 M, 10.824% Params, 2.36 MMac, 3.121% MACs, 512, 512, kernel_size=(3, 3), stride=(1, 1), padding=(1, 1), bias=False)\n",
      "      (bn1): BatchNorm2d(1.02 k, 0.005% Params, 1.02 KMac, 0.001% MACs, 512, eps=1e-05, momentum=0.1, affine=True, track_running_stats=True)\n",
      "      (relu): ReLU(0, 0.000% Params, 1.02 KMac, 0.001% MACs, inplace=True)\n",
      "      (conv2): Conv2d(2.36 M, 10.824% Params, 2.36 MMac, 3.121% MACs, 512, 512, kernel_size=(3, 3), stride=(1, 1), padding=(1, 1), bias=False)\n",
      "      (bn2): BatchNorm2d(1.02 k, 0.005% Params, 1.02 KMac, 0.001% MACs, 512, eps=1e-05, momentum=0.1, affine=True, track_running_stats=True)\n",
      "    )\n",
      "    (2): BasicBlock(\n",
      "      4.72 M, 21.657% Params, 4.72 MMac, 6.245% MACs, \n",
      "      (conv1): Conv2d(2.36 M, 10.824% Params, 2.36 MMac, 3.121% MACs, 512, 512, kernel_size=(3, 3), stride=(1, 1), padding=(1, 1), bias=False)\n",
      "      (bn1): BatchNorm2d(1.02 k, 0.005% Params, 1.02 KMac, 0.001% MACs, 512, eps=1e-05, momentum=0.1, affine=True, track_running_stats=True)\n",
      "      (relu): ReLU(0, 0.000% Params, 1.02 KMac, 0.001% MACs, inplace=True)\n",
      "      (conv2): Conv2d(2.36 M, 10.824% Params, 2.36 MMac, 3.121% MACs, 512, 512, kernel_size=(3, 3), stride=(1, 1), padding=(1, 1), bias=False)\n",
      "      (bn2): BatchNorm2d(1.02 k, 0.005% Params, 1.02 KMac, 0.001% MACs, 512, eps=1e-05, momentum=0.1, affine=True, track_running_stats=True)\n",
      "    )\n",
      "  )\n",
      "  (avgpool): AdaptiveAvgPool2d(0, 0.000% Params, 512.0 Mac, 0.001% MACs, output_size=(1, 1))\n",
      "  (fc): Linear(513.0 k, 2.353% Params, 513.0 KMac, 0.679% MACs, in_features=512, out_features=1000, bias=True)\n",
      ")\n",
      "FLOPs: 75.6 MMac\n",
      "Parameters: 21.8 M\n"
     ]
    }
   ],
   "source": [
    "flops, params = get_model_complexity_info(model, (3,32, 32), as_strings=True)\n",
    "print('FLOPs:', flops)\n",
    "print('Parameters:', params)"
   ]
  },
  {
   "cell_type": "markdown",
   "id": "e1ba3baa",
   "metadata": {},
   "source": [
    "## Camelyon17"
   ]
  },
  {
   "cell_type": "code",
   "execution_count": null,
   "id": "7c7dd2d6",
   "metadata": {},
   "outputs": [
    {
     "name": "stdout",
     "output_type": "stream",
     "text": [
      "3.68 GMac 21.8 M\n"
     ]
    }
   ],
   "source": [
    "import torch\n",
    "from ptflops import get_model_complexity_info\n",
    "from torchvision.models import resnet34\n",
    "\n",
    "model = resnet34()\n",
    "macs, params = get_model_complexity_info(model, (3, 224, 224), print_per_layer_stat=False)\n",
    "print(macs, params)"
   ]
  },
  {
   "cell_type": "code",
   "execution_count": null,
   "id": "359be906",
   "metadata": {},
   "outputs": [
    {
     "data": {
      "text/plain": [
       "11040000.0"
      ]
     },
     "execution_count": 48,
     "metadata": {},
     "output_type": "execute_result"
    }
   ],
   "source": [
    "fwd_flops = 7.36 # GFLOPs\n",
    "single_input_flops = fwd_flops * 3\n",
    "epoch_flops = single_input_flops * len(dataset['train'])\n",
    "training_flops = epoch_flops * train_config.num_epochs\n",
    "training_flops # 1.56 PFLOPs\n",
    "\n",
    "# D3M 7.36 for dis rate, 7.36 TFLOPs or  \n",
    "7.36 * 100 * 1000 \n",
    "\n",
    "# Detectron\n",
    "single_input_flops * 100 * 5 * 1000"
   ]
  },
  {
   "cell_type": "markdown",
   "id": "b1d2a57d",
   "metadata": {},
   "source": [
    "## CIFAR"
   ]
  },
  {
   "cell_type": "code",
   "execution_count": null,
   "id": "ba7da612",
   "metadata": {},
   "outputs": [
    {
     "data": {
      "text/plain": [
       "1560000.0"
      ]
     },
     "execution_count": 30,
     "metadata": {},
     "output_type": "execute_result"
    }
   ],
   "source": [
    "# D3M\n",
    "fwd_flops = 1.3 # GFLOPs\n",
    "single_input_flops = fwd_flops * 3\n",
    "epoch_flops = single_input_flops * len(dataset['train'])\n",
    "training_flops = epoch_flops * train_config.num_epochs\n",
    "training_flops # 1.56 PFLOPs\n",
    "\n",
    "\n",
    "# 1.341 for dis rate, 0 for psuedolabels, * 1000 * 100 = 1.341 TFLOPs or 0.13 PFLOPs"
   ]
  },
  {
   "cell_type": "code",
   "execution_count": 35,
   "id": "bbee1abf",
   "metadata": {},
   "outputs": [
    {
     "data": {
      "text/plain": [
       "1950000.0000000002"
      ]
     },
     "execution_count": 35,
     "metadata": {},
     "output_type": "execute_result"
    }
   ],
   "source": [
    "# Detectron\n",
    "single_input_flops * 100 * 5 * 1000"
   ]
  },
  {
   "cell_type": "code",
   "execution_count": null,
   "id": "e1b32539",
   "metadata": {},
   "outputs": [],
   "source": []
  },
  {
   "cell_type": "code",
   "execution_count": null,
   "metadata": {},
   "outputs": [],
   "source": []
  },
  {
   "cell_type": "markdown",
   "id": "6727de95",
   "metadata": {},
   "source": [
    "## MLP Model FLOPs"
   ]
  },
  {
   "cell_type": "code",
   "execution_count": 14,
   "id": "4e399a40",
   "metadata": {},
   "outputs": [
    {
     "data": {
      "text/plain": [
       "(4284, 230050800)"
      ]
     },
     "execution_count": 14,
     "metadata": {},
     "output_type": "execute_result"
    }
   ],
   "source": [
    "# one forward pass \n",
    "fwd_flops = (160 + 272 * 4 + 34 *24 + 78) * 2\n",
    "# one backward pass \n",
    "total_flops_per_input = fwd_flops * 3\n",
    "total_flops_per_epoch = total_flops_per_input * len(dataset['train'])\n",
    "fwd_flops, total_flops_per_epoch * train_config.num_epochs # total training flops\n",
    "\n",
    "# 230 MFLOPs for training, 9 mil flops for compute dis rate. * 1000 so 9 bil flops, or 9GFLOPs.\n"
   ]
  },
  {
   "cell_type": "code",
   "execution_count": null,
   "id": "dc9e52f6",
   "metadata": {},
   "outputs": [
    {
     "data": {
      "text/plain": [
       "18686400000"
      ]
     },
     "execution_count": 22,
     "metadata": {},
     "output_type": "execute_result"
    }
   ],
   "source": [
    "# one forward pass \n",
    "fwd_flops = (160 + 272 * 4 + 34 + 78) * 2\n",
    "# one backward pass \n",
    "total_flops_per_input = fwd_flops * 3\n",
    "total_flops_per_epoch = total_flops_per_input * len(dataset['train'])\n",
    "fwd_flops, total_flops_per_epoch * train_config.num_epochs # total training flops\n",
    "\n",
    "total_flops_per_input * 458 * 5 * 1000\n",
    "\n",
    "# 146 MFLOPs, \n"
   ]
  },
  {
   "cell_type": "code",
   "execution_count": 16,
   "id": "4f4f2fcd",
   "metadata": {},
   "outputs": [
    {
     "data": {
      "text/plain": [
       "358"
      ]
     },
     "execution_count": 16,
     "metadata": {},
     "output_type": "execute_result"
    }
   ],
   "source": [
    "len(dataset['train'])"
   ]
  },
  {
   "cell_type": "code",
   "execution_count": null,
   "id": "4b1f1c9e",
   "metadata": {},
   "outputs": [],
   "source": []
  }
 ],
 "metadata": {
  "kernelspec": {
   "display_name": "dpddm",
   "language": "python",
   "name": "python3"
  },
  "language_info": {
   "codemirror_mode": {
    "name": "ipython",
    "version": 3
   },
   "file_extension": ".py",
   "mimetype": "text/x-python",
   "name": "python",
   "nbconvert_exporter": "python",
   "pygments_lexer": "ipython3",
   "version": "3.11.11"
  }
 },
 "nbformat": 4,
 "nbformat_minor": 5
}

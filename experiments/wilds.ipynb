{
 "cells": [
  {
   "cell_type": "code",
   "execution_count": 1,
   "metadata": {},
   "outputs": [
    {
     "name": "stdout",
     "output_type": "stream",
     "text": [
      "2.0.0\n"
     ]
    }
   ],
   "source": [
    "import wilds\n",
    "print(wilds.__version__)\n",
    "from wilds.datasets.camelyon17_dataset import Camelyon17Dataset\n",
    "from wilds.datasets.civilcomments_dataset import CivilCommentsDataset\n",
    "from torchvision.transforms import Compose, ToTensor, Resize\n",
    "from tqdm.auto import tqdm"
   ]
  },
  {
   "cell_type": "markdown",
   "metadata": {},
   "source": [
    "## Camelyon17"
   ]
  },
  {
   "cell_type": "code",
   "execution_count": 3,
   "metadata": {},
   "outputs": [],
   "source": [
    "dataset = Camelyon17Dataset(root_dir='/voyager/datasets', download=True)"
   ]
  },
  {
   "cell_type": "code",
   "execution_count": null,
   "metadata": {},
   "outputs": [],
   "source": [
    "\"\"\" For Bayesian D-PDDM\n",
    "- train         (used to train base model)\n",
    "- valid         (used ot validate base model)\n",
    "- dpddm_train   (used to train dpddm's Phi)\n",
    "- dpddm_id      (used to validate FPR)\n",
    "- dpddm_ood     (used to validate TPR)\n",
    "\"\"\"\n",
    "\n",
    "splits = {\n",
    "    'train': 'train',\n",
    "    'valid': 'val',\n",
    "    'dpddm_train': 'id_val',\n",
    "    'dpddm_id': 'val',\n",
    "    'dpddm_ood': 'test'\n",
    "}\n"
   ]
  },
  {
   "cell_type": "code",
   "execution_count": 7,
   "metadata": {},
   "outputs": [
    {
     "name": "stdout",
     "output_type": "stream",
     "text": [
      "train 302436\n",
      "valid 34904\n",
      "dpddm_train 33560\n",
      "dpddm_id 34904\n",
      "dpddm_ood 85054\n"
     ]
    }
   ],
   "source": [
    "for split in splits.keys():\n",
    "    try: \n",
    "        ds = dataset.get_subset(splits[split], transform=Compose([Resize((224, 224)), ToTensor()]))\n",
    "        print(split, len(ds))\n",
    "    except:\n",
    "        continue"
   ]
  },
  {
   "cell_type": "code",
   "execution_count": 8,
   "metadata": {},
   "outputs": [],
   "source": [
    "ds = dataset.get_subset(splits['train'], transform=Compose([Resize((224, 224)), ToTensor()]))"
   ]
  },
  {
   "cell_type": "code",
   "execution_count": null,
   "metadata": {},
   "outputs": [
    {
     "data": {
      "text/html": [],
      "text/plain": [
       "<IPython.core.display.HTML object>"
      ]
     },
     "metadata": {},
     "output_type": "display_data"
    },
    {
     "data": {
      "text/html": [
       "<br>    <style><br>        .wandb-row {<br>            display: flex;<br>            flex-direction: row;<br>            flex-wrap: wrap;<br>            justify-content: flex-start;<br>            width: 100%;<br>        }<br>        .wandb-col {<br>            display: flex;<br>            flex-direction: column;<br>            flex-basis: 100%;<br>            flex: 1;<br>            padding: 10px;<br>        }<br>    </style><br><div class=\"wandb-row\"><div class=\"wandb-col\"><h3>Run history:</h3><br/><table class=\"wandb\"><tr><td>train_acc</td><td>▁▆█</td></tr><tr><td>train_loss</td><td>█▃▁</td></tr><tr><td>val_acc</td><td>▃█▁</td></tr><tr><td>val_loss</td><td>▁▅█</td></tr></table><br/></div><div class=\"wandb-col\"><h3>Run summary:</h3><br/><table class=\"wandb\"><tr><td>train_acc</td><td>94.67332</td></tr><tr><td>train_loss</td><td>0.14796</td></tr><tr><td>val_acc</td><td>77.47851</td></tr><tr><td>val_loss</td><td>0.93549</td></tr></table><br/></div></div>"
      ],
      "text/plain": [
       "<IPython.core.display.HTML object>"
      ]
     },
     "metadata": {},
     "output_type": "display_data"
    },
    {
     "data": {
      "text/html": [
       " View run <strong style=\"color:#cdcd00\">rich-brook-25</strong> at: <a href='https://wandb.ai/opent03-team/wilds_dpddm/runs/0l3vze4w' target=\"_blank\">https://wandb.ai/opent03-team/wilds_dpddm/runs/0l3vze4w</a><br> View project at: <a href='https://wandb.ai/opent03-team/wilds_dpddm' target=\"_blank\">https://wandb.ai/opent03-team/wilds_dpddm</a><br>Synced 5 W&B file(s), 0 media file(s), 0 artifact file(s) and 0 other file(s)"
      ],
      "text/plain": [
       "<IPython.core.display.HTML object>"
      ]
     },
     "metadata": {},
     "output_type": "display_data"
    },
    {
     "data": {
      "text/html": [
       "Find logs at: <code>./wandb/run-20250411_054405-0l3vze4w/logs</code>"
      ],
      "text/plain": [
       "<IPython.core.display.HTML object>"
      ]
     },
     "metadata": {},
     "output_type": "display_data"
    },
    {
     "data": {
      "text/html": [
       "Tracking run with wandb version 0.19.9"
      ],
      "text/plain": [
       "<IPython.core.display.HTML object>"
      ]
     },
     "metadata": {},
     "output_type": "display_data"
    },
    {
     "data": {
      "text/html": [
       "Run data is saved locally in <code>/h/300/viet/bayesian_dpddm/wandb/run-20250411_054729-5rjbw6u7</code>"
      ],
      "text/plain": [
       "<IPython.core.display.HTML object>"
      ]
     },
     "metadata": {},
     "output_type": "display_data"
    },
    {
     "data": {
      "text/html": [
       "Syncing run <strong><a href='https://wandb.ai/opent03-team/wilds_dpddm/runs/5rjbw6u7' target=\"_blank\">rosy-frog-26</a></strong> to <a href='https://wandb.ai/opent03-team/wilds_dpddm' target=\"_blank\">Weights & Biases</a> (<a href='https://wandb.me/developer-guide' target=\"_blank\">docs</a>)<br>"
      ],
      "text/plain": [
       "<IPython.core.display.HTML object>"
      ]
     },
     "metadata": {},
     "output_type": "display_data"
    },
    {
     "data": {
      "text/html": [
       " View project at <a href='https://wandb.ai/opent03-team/wilds_dpddm' target=\"_blank\">https://wandb.ai/opent03-team/wilds_dpddm</a>"
      ],
      "text/plain": [
       "<IPython.core.display.HTML object>"
      ]
     },
     "metadata": {},
     "output_type": "display_data"
    },
    {
     "data": {
      "text/html": [
       " View run at <a href='https://wandb.ai/opent03-team/wilds_dpddm/runs/5rjbw6u7' target=\"_blank\">https://wandb.ai/opent03-team/wilds_dpddm/runs/5rjbw6u7</a>"
      ],
      "text/plain": [
       "<IPython.core.display.HTML object>"
      ]
     },
     "metadata": {},
     "output_type": "display_data"
    },
    {
     "name": "stderr",
     "output_type": "stream",
     "text": [
      "/h/300/viet/.conda/envs/dpddm_tmp/lib/python3.11/site-packages/torchvision/models/_utils.py:208: UserWarning: The parameter 'pretrained' is deprecated since 0.13 and may be removed in the future, please use 'weights' instead.\n",
      "  warnings.warn(\n",
      "/h/300/viet/.conda/envs/dpddm_tmp/lib/python3.11/site-packages/torchvision/models/_utils.py:223: UserWarning: Arguments other than a weight enum or `None` for 'weights' are deprecated since 0.13 and may be removed in the future. The current behavior is equivalent to passing `weights=None`.\n",
      "  warnings.warn(msg)\n",
      "Epoch 1/10: 100%|█████████████████████████████████████████████████████████████████████████████████████| 946/946 [00:41<00:00, 22.84it/s]\n"
     ]
    },
    {
     "name": "stdout",
     "output_type": "stream",
     "text": [
      "Epoch 1: Train Loss: 0.3420, Train Acc: 86.40%, Val Loss: 0.4509, Val Acc: 82.87%\n",
      "Test Accuracy: 85.83%\n"
     ]
    },
    {
     "name": "stderr",
     "output_type": "stream",
     "text": [
      "Epoch 2/10: 100%|█████████████████████████████████████████████████████████████████████████████████████| 946/946 [00:40<00:00, 23.52it/s]\n"
     ]
    },
    {
     "name": "stdout",
     "output_type": "stream",
     "text": [
      "Epoch 2: Train Loss: 0.2180, Train Acc: 91.75%, Val Loss: 0.4549, Val Acc: 87.22%\n",
      "Test Accuracy: 88.09%\n"
     ]
    },
    {
     "name": "stderr",
     "output_type": "stream",
     "text": [
      "Epoch 3/10: 100%|█████████████████████████████████████████████████████████████████████████████████████| 946/946 [00:39<00:00, 23.67it/s]\n"
     ]
    },
    {
     "name": "stdout",
     "output_type": "stream",
     "text": [
      "Epoch 3: Train Loss: 0.1801, Train Acc: 93.30%, Val Loss: 0.5520, Val Acc: 83.98%\n",
      "Test Accuracy: 75.77%\n"
     ]
    },
    {
     "name": "stderr",
     "output_type": "stream",
     "text": [
      "Epoch 4/10: 100%|█████████████████████████████████████████████████████████████████████████████████████| 946/946 [00:40<00:00, 23.57it/s]\n"
     ]
    },
    {
     "name": "stdout",
     "output_type": "stream",
     "text": [
      "Epoch 4: Train Loss: 0.1697, Train Acc: 93.62%, Val Loss: 0.3734, Val Acc: 88.02%\n",
      "Test Accuracy: 80.34%\n"
     ]
    },
    {
     "name": "stderr",
     "output_type": "stream",
     "text": [
      "Epoch 5/10: 100%|█████████████████████████████████████████████████████████████████████████████████████| 946/946 [00:40<00:00, 23.60it/s]\n"
     ]
    },
    {
     "name": "stdout",
     "output_type": "stream",
     "text": [
      "Epoch 5: Train Loss: 0.1589, Train Acc: 94.12%, Val Loss: 0.3795, Val Acc: 87.85%\n",
      "Test Accuracy: 83.22%\n"
     ]
    },
    {
     "name": "stderr",
     "output_type": "stream",
     "text": [
      "Epoch 6/10:   5%|███▉                                                                                  | 43/946 [00:02<00:37, 23.82it/s]"
     ]
    }
   ],
   "source": [
    "import torch\n",
    "import torch.nn as nn\n",
    "import torch.optim as optim\n",
    "from torchvision.models import resnet50\n",
    "from wilds.datasets.camelyon17_dataset import Camelyon17Dataset\n",
    "from torch.utils.data import DataLoader\n",
    "from torchvision import transforms\n",
    "from tqdm import tqdm\n",
    "import wandb \n",
    "\n",
    "run = wandb.init(\n",
    "    # Set the wandb entity where your project will be logged (generally your team name).\n",
    "    entity=\"opent03-team\",\n",
    "    # Set the wandb project where this run will be logged.\n",
    "    project=\"wilds_dpddm\",\n",
    "    # Track hyperparameters and run metadata.\n",
    "    config={\n",
    "        \"learning_rate\": 0.001,\n",
    "        \"architecture\": \"resnet18\",\n",
    "        \"dataset\": \"Camelyon17\",\n",
    "        \"epochs\": 50,\n",
    "    },\n",
    ")\n",
    "\n",
    "\n",
    "# Set device\n",
    "device = torch.device('cuda' if torch.cuda.is_available() else 'cpu')\n",
    "\n",
    "# Initialize WILDS dataset\n",
    "dataset = Camelyon17Dataset(root_dir='/h/300/viet/bayesian_dpddm/data', download=True)\n",
    "\n",
    "# Get train, validation, and test sets\n",
    "train_data = dataset.get_subset('train', frac=0.1)\n",
    "val_data = dataset.get_subset('val',  frac=0.1)\n",
    "test_data = dataset.get_subset('test',  frac=0.1)\n",
    "\n",
    "train_transform = transforms.Compose([\n",
    "    transforms.Resize((224, 224)),\n",
    "    transforms.RandomHorizontalFlip(p=0.5),\n",
    "    transforms.RandomVerticalFlip(p=0.5),\n",
    "    transforms.RandomRotation(degrees=90),\n",
    "    transforms.ColorJitter(brightness=0.1, contrast=0.1, saturation=0.1, hue=0.05),\n",
    "    transforms.RandomAffine(degrees=0, translate=(0.1, 0.1)),\n",
    "    transforms.ToTensor(),\n",
    "    transforms.Normalize(mean=[0.485, 0.456, 0.406], std=[0.229, 0.224, 0.225])\n",
    "])\n",
    "\n",
    "# For validation/test (no augmentations)\n",
    "val_transform = transforms.Compose([\n",
    "    transforms.Resize((224, 224)),\n",
    "    transforms.ToTensor(),\n",
    "    transforms.Normalize(mean=[0.485, 0.456, 0.406], std=[0.229, 0.224, 0.225])\n",
    "])\n",
    "\n",
    "# Apply transformations\n",
    "train_data.transform = train_transform\n",
    "val_data.transform = val_transform\n",
    "test_data.transform = val_transform\n",
    "\n",
    "# Create data loaders\n",
    "batch_size = 32\n",
    "train_loader = DataLoader(train_data, batch_size=batch_size, shuffle=True, num_workers=4, pin_memory=True)\n",
    "val_loader = DataLoader(val_data, batch_size=batch_size, num_workers=4, pin_memory=True)\n",
    "test_loader = DataLoader(test_data, batch_size=batch_size, num_workers=4, pin_memory=True)\n",
    "\n",
    "# Initialize ResNet18\n",
    "model = resnet50(pretrained=False)  # Using pretrained weights\n",
    "\n",
    "# Modify the final layer for binary classification (tumor vs normal)\n",
    "num_features = model.fc.in_features\n",
    "model.fc = nn.Linear(num_features, 2)  # Camelyon17 has 2 classes\n",
    "\n",
    "model = model.to(device)\n",
    "\n",
    "# Loss function and optimizer\n",
    "criterion = nn.CrossEntropyLoss()\n",
    "optimizer = optim.Adam(model.parameters(), lr=0.001)\n",
    "\n",
    "# Training loop\n",
    "num_epochs = 10\n",
    "\n",
    "for epoch in range(num_epochs):\n",
    "    model.train()\n",
    "    running_loss = 0.0\n",
    "    correct = 0\n",
    "    total = 0\n",
    "    \n",
    "    # Training phase\n",
    "    for batch in tqdm(train_loader, desc=f'Epoch {epoch+1}/{num_epochs}'):\n",
    "        x, y, metadata = batch\n",
    "        x, y = x.to(device), y.to(device)\n",
    "        \n",
    "        optimizer.zero_grad()\n",
    "        outputs = model(x)\n",
    "        loss = criterion(outputs, y)\n",
    "        loss.backward()\n",
    "        optimizer.step()\n",
    "        \n",
    "        running_loss += loss.item()\n",
    "        _, predicted = torch.max(outputs.data, 1)\n",
    "        total += y.size(0)\n",
    "        correct += (predicted == y).sum().item()\n",
    "    \n",
    "    train_loss = running_loss / len(train_loader)\n",
    "    train_acc = 100 * correct / total\n",
    "    \n",
    "    wandb.log({\n",
    "        'train_loss': train_loss,\n",
    "        'train_acc': train_acc\n",
    "    })\n",
    "    \n",
    "    # Validation phase\n",
    "    model.eval()\n",
    "    val_loss = 0.0\n",
    "    correct = 0\n",
    "    total = 0\n",
    "    \n",
    "    with torch.no_grad():\n",
    "        for batch in val_loader:\n",
    "            x, y, metadata = batch\n",
    "            x, y = x.to(device), y.to(device)\n",
    "            \n",
    "            outputs = model(x)\n",
    "            loss = criterion(outputs, y)\n",
    "            \n",
    "            val_loss += loss.item()\n",
    "            _, predicted = torch.max(outputs.data, 1)\n",
    "            total += y.size(0)\n",
    "            correct += (predicted == y).sum().item()\n",
    "    \n",
    "    val_loss /= len(val_loader)\n",
    "    val_acc = 100 * correct / total\n",
    "    \n",
    "    print(f'Epoch {epoch+1}: Train Loss: {train_loss:.4f}, Train Acc: {train_acc:.2f}%, '\n",
    "          f'Val Loss: {val_loss:.4f}, Val Acc: {val_acc:.2f}%')\n",
    "    \n",
    "    wandb.log({\n",
    "        'val_loss': val_loss,\n",
    "        'val_acc': val_acc\n",
    "    })\n",
    "\n",
    "    # Test evaluation\n",
    "    model.eval()\n",
    "    test_correct = 0\n",
    "    test_total = 0\n",
    "\n",
    "    with torch.no_grad():\n",
    "        for batch in test_loader:\n",
    "            x, y, metadata = batch\n",
    "            x, y = x.to(device), y.to(device)\n",
    "            \n",
    "            outputs = model(x)\n",
    "            _, predicted = torch.max(outputs.data, 1)\n",
    "            test_total += y.size(0)\n",
    "            test_correct += (predicted == y).sum().item()\n",
    "            \n",
    "    test_acc = 100 * test_correct / test_total\n",
    "    wandb.log({\n",
    "        'test_acc': test_acc\n",
    "    })\n",
    "    print(f'Test Accuracy: {test_acc:.2f}%')"
   ]
  },
  {
   "cell_type": "markdown",
   "metadata": {},
   "source": [
    "## CivilComments"
   ]
  },
  {
   "cell_type": "code",
   "execution_count": 2,
   "metadata": {},
   "outputs": [
    {
     "name": "stdout",
     "output_type": "stream",
     "text": [
      "2.0.0\n"
     ]
    }
   ],
   "source": [
    "import wilds\n",
    "print(wilds.__version__)\n",
    "from wilds.datasets.civilcomments_dataset import CivilCommentsDataset\n",
    "from torchvision.transforms import Compose, ToTensor, Resize\n",
    "from tqdm.auto import tqdm\n",
    "import torch.nn.functional as F\n",
    "import torch\n",
    "import numpy as np\n",
    "import os\n",
    "os.environ['TOKENIZERS_PARALLELISM'] = \"false\"\n",
    "\n",
    "os.chdir('/mfs1/u/viet/bayesian_dpddm')\n",
    "import matplotlib.pyplot as plt\n",
    "from data.common import split_dataset"
   ]
  },
  {
   "cell_type": "code",
   "execution_count": 3,
   "metadata": {},
   "outputs": [],
   "source": [
    "dataset = CivilCommentsDataset(root_dir=\"data/\", download=True)"
   ]
  },
  {
   "cell_type": "code",
   "execution_count": 4,
   "metadata": {},
   "outputs": [
    {
     "data": {
      "text/plain": [
       "215231"
      ]
     },
     "execution_count": 4,
     "metadata": {},
     "output_type": "execute_result"
    }
   ],
   "source": [
    "frac = 1.0\n",
    "trainset = dataset.get_subset('train', frac=frac)\n",
    "#valset = dataset.get_subset('val')\n",
    "testset = dataset.get_subset('test', frac=frac)\n",
    "\n",
    "# Split training 80-10-10\n",
    "new_trainset, id_val1, id_val2 = split_dataset(\n",
    "    trainset, \n",
    "    [0.8, 0.1, 0.1],\n",
    "    random_seed=57\n",
    ")\n",
    "dsets = {\n",
    "    'train': new_trainset,\n",
    "    'id1': id_val1,\n",
    "    'id2': id_val2,\n",
    "    'test': testset\n",
    "}\n",
    "len(dsets['train'])"
   ]
  },
  {
   "cell_type": "code",
   "execution_count": 5,
   "metadata": {},
   "outputs": [],
   "source": [
    "from transformers import AutoTokenizer, AutoModel\n",
    "from bayesian_dpddm.models.bert_model import bert_dict\n",
    "from torch.utils.data import DataLoader\n",
    "\n",
    "tokenizer = AutoTokenizer.from_pretrained(bert_dict['distilbert'])\n",
    "bert = AutoModel.from_pretrained(bert_dict['distilbert']).to('cuda')"
   ]
  },
  {
   "cell_type": "code",
   "execution_count": 16,
   "metadata": {},
   "outputs": [],
   "source": [
    "loader = DataLoader(dsets['train'], batch_size=256, num_workers=6)"
   ]
  },
  {
   "cell_type": "code",
   "execution_count": 17,
   "metadata": {},
   "outputs": [],
   "source": [
    "text, toxic, meta = next(iter(loader))\n",
    "text2, toxic2, meta2 = next(iter(loader))"
   ]
  },
  {
   "cell_type": "code",
   "execution_count": 10,
   "metadata": {},
   "outputs": [],
   "source": [
    "from functools import partial\n",
    "tokenize = partial(tokenizer, \n",
    "                   padding='max_length',\n",
    "                   truncation=True,\n",
    "                   max_length=512,\n",
    "                   return_tensors='pt')\n",
    "\n",
    "#tokens = tokenize(text).to('cuda')\n",
    "#tokens"
   ]
  },
  {
   "cell_type": "code",
   "execution_count": 24,
   "metadata": {},
   "outputs": [
    {
     "name": "stdout",
     "output_type": "stream",
     "text": [
      "tokenizing train split...\n"
     ]
    },
    {
     "data": {
      "application/vnd.jupyter.widget-view+json": {
       "model_id": "5ce0c94e1d8944edbb66743f89b5db32",
       "version_major": 2,
       "version_minor": 0
      },
      "text/plain": [
       "  0%|          | 0/841 [00:00<?, ?it/s]"
      ]
     },
     "metadata": {},
     "output_type": "display_data"
    },
    {
     "name": "stdout",
     "output_type": "stream",
     "text": [
      "tokenizing id1 split...\n"
     ]
    },
    {
     "data": {
      "application/vnd.jupyter.widget-view+json": {
       "model_id": "82211cfd057742b5a669ace448f649a6",
       "version_major": 2,
       "version_minor": 0
      },
      "text/plain": [
       "  0%|          | 0/106 [00:00<?, ?it/s]"
      ]
     },
     "metadata": {},
     "output_type": "display_data"
    },
    {
     "name": "stdout",
     "output_type": "stream",
     "text": [
      "tokenizing id2 split...\n"
     ]
    },
    {
     "data": {
      "application/vnd.jupyter.widget-view+json": {
       "model_id": "c2036cc0680f4e898908fb7b49c90c4e",
       "version_major": 2,
       "version_minor": 0
      },
      "text/plain": [
       "  0%|          | 0/106 [00:00<?, ?it/s]"
      ]
     },
     "metadata": {},
     "output_type": "display_data"
    },
    {
     "name": "stdout",
     "output_type": "stream",
     "text": [
      "tokenizing test split...\n"
     ]
    },
    {
     "data": {
      "application/vnd.jupyter.widget-view+json": {
       "model_id": "3a59e0ab1a3941b1b82835efe4d0c34e",
       "version_major": 2,
       "version_minor": 0
      },
      "text/plain": [
       "  0%|          | 0/523 [00:00<?, ?it/s]"
      ]
     },
     "metadata": {},
     "output_type": "display_data"
    }
   ],
   "source": [
    "#bert_dict = {k: [] for k in dsets.keys()}\n",
    "input_ids_dict = {k: [] for k in dsets.keys()}\n",
    "attention_masks_dict = {k: [] for k in dsets.keys()}\n",
    "labels = {k: [] for k in dsets.keys()}\n",
    "metadata = {k: [] for k in dsets.keys()}\n",
    "cringe_texts = [] \n",
    "for k in dsets.keys():\n",
    "    loader = DataLoader(dsets[k], batch_size=256, num_workers=6)\n",
    "    print(f'tokenizing {k} split...')\n",
    "    for text, toxic, meta in tqdm(loader):\n",
    "        with torch.no_grad():\n",
    "            try:\n",
    "                tokenized = tokenize(text)#.to('cuda')\n",
    "                #output = bert(**tokens).last_hidden_state[:, 0, :]\n",
    "                #output = output.cpu()\n",
    "                #bert_dict[k].append(output)\n",
    "                input_ids_dict[k].append(tokenized['input_ids'])\n",
    "                attention_masks_dict[k].append(tokenized['attention_mask'])\n",
    "                labels[k].append(toxic)\n",
    "                metadata[k].append(meta)\n",
    "            except:\n",
    "                cringe_texts.append(text)\n",
    "                continue\n",
    "            "
   ]
  },
  {
   "cell_type": "code",
   "execution_count": 26,
   "metadata": {},
   "outputs": [
    {
     "data": {
      "application/vnd.jupyter.widget-view+json": {
       "model_id": "11ebfb26a40a47e5884f7a53453fe953",
       "version_major": 2,
       "version_minor": 0
      },
      "text/plain": [
       "  0%|          | 0/4 [00:00<?, ?it/s]"
      ]
     },
     "metadata": {},
     "output_type": "display_data"
    },
    {
     "data": {
      "application/vnd.jupyter.widget-view+json": {
       "model_id": "46f40d81b20f4b15b73d08e12eb98fed",
       "version_major": 2,
       "version_minor": 0
      },
      "text/plain": [
       "  0%|          | 0/4 [00:00<?, ?it/s]"
      ]
     },
     "metadata": {},
     "output_type": "display_data"
    }
   ],
   "source": [
    "#new_bert_dict = {k:torch.cat(v, dim=0) for k, v in tqdm(bert_dict.items())}\n",
    "input_ids_dict = {k:torch.cat(v, dim=0) for k, v in tqdm(input_ids_dict.items())}\n",
    "attention_masks_dict = {k:torch.cat(v, dim=0) for k, v in tqdm(attention_masks_dict.items())}"
   ]
  },
  {
   "cell_type": "code",
   "execution_count": 27,
   "metadata": {},
   "outputs": [
    {
     "data": {
      "application/vnd.jupyter.widget-view+json": {
       "model_id": "3d5019eae065452f88e7d2477b7cd1fe",
       "version_major": 2,
       "version_minor": 0
      },
      "text/plain": [
       "  0%|          | 0/4 [00:00<?, ?it/s]"
      ]
     },
     "metadata": {},
     "output_type": "display_data"
    },
    {
     "data": {
      "application/vnd.jupyter.widget-view+json": {
       "model_id": "a599aff0269946c782784bb4b60fe3b4",
       "version_major": 2,
       "version_minor": 0
      },
      "text/plain": [
       "  0%|          | 0/4 [00:00<?, ?it/s]"
      ]
     },
     "metadata": {},
     "output_type": "display_data"
    }
   ],
   "source": [
    "new_labels = {k:torch.cat(v, dim=0) for k, v in tqdm(labels.items())}\n",
    "new_metadata = {k:torch.cat(v, dim=0) for k, v in tqdm(metadata.items())}"
   ]
  },
  {
   "cell_type": "code",
   "execution_count": 28,
   "metadata": {},
   "outputs": [],
   "source": [
    "save_path = f\"data/civilcomments_v1.0/distilbert_tokenized.pt\"\n",
    "torch.save({\n",
    "    #'features': new_bert_dict,\n",
    "    'input_ids': input_ids_dict,\n",
    "    'attention_masks': attention_masks_dict,\n",
    "    'labels': new_labels,\n",
    "    'metadata': new_metadata\n",
    "}, save_path)"
   ]
  },
  {
   "cell_type": "code",
   "execution_count": 43,
   "metadata": {},
   "outputs": [],
   "source": [
    "data_dict = torch.load(save_path)"
   ]
  },
  {
   "cell_type": "code",
   "execution_count": null,
   "metadata": {},
   "outputs": [],
   "source": []
  },
  {
   "cell_type": "markdown",
   "metadata": {},
   "source": [
    "## Jigsaw toxic comments"
   ]
  },
  {
   "cell_type": "code",
   "execution_count": 10,
   "metadata": {},
   "outputs": [],
   "source": [
    "import kagglehub\n",
    "import pandas as pd\n",
    "import os\n",
    "os.environ['TOKENIZERS_PARALLELISM'] = \"false\"\n",
    "import re\n",
    "import nltk\n",
    "from nltk import download\n",
    "from nltk.corpus import stopwords\n",
    "from nltk.tokenize import word_tokenize\n",
    "from nltk.stem import WordNetLemmatizer,PorterStemmer\n",
    "os.chdir('/mfs1/u/viet/bayesian_dpddm')\n",
    "\n",
    "from tqdm import tqdm\n",
    "import torch"
   ]
  },
  {
   "cell_type": "code",
   "execution_count": 11,
   "metadata": {},
   "outputs": [],
   "source": [
    "dataset_dir = 'data/jigsaw-toxic-comments'\n",
    "train_df = pd.read_csv(os.path.join(dataset_dir, 'train.csv'))\n",
    "test_df = pd.read_csv(os.path.join(dataset_dir, 'test.csv'))\n",
    "test_labels = pd.read_csv(os.path.join(dataset_dir, 'test_labels.csv'))"
   ]
  },
  {
   "cell_type": "code",
   "execution_count": 12,
   "metadata": {},
   "outputs": [
    {
     "data": {
      "text/plain": [
       "Index(['id', 'comment_text', 'toxic', 'severe_toxic', 'obscene', 'threat',\n",
       "       'insult', 'identity_hate'],\n",
       "      dtype='object')"
      ]
     },
     "execution_count": 12,
     "metadata": {},
     "output_type": "execute_result"
    }
   ],
   "source": [
    "train_df.columns"
   ]
  },
  {
   "cell_type": "code",
   "execution_count": 13,
   "metadata": {},
   "outputs": [],
   "source": [
    "train_df['label'] = 0\n",
    "labels = ['toxic', 'severe_toxic', 'obscene', 'threat',\n",
    "       'insult', 'identity_hate']\n",
    "train_df['label'] = train_df[labels].max(axis=1)"
   ]
  },
  {
   "cell_type": "code",
   "execution_count": 14,
   "metadata": {},
   "outputs": [
    {
     "data": {
      "text/plain": [
       "label\n",
       "0    143346\n",
       "1     16225\n",
       "Name: count, dtype: int64"
      ]
     },
     "execution_count": 14,
     "metadata": {},
     "output_type": "execute_result"
    }
   ],
   "source": [
    "train_df['label'].value_counts()"
   ]
  },
  {
   "cell_type": "code",
   "execution_count": 15,
   "metadata": {},
   "outputs": [],
   "source": [
    "clean_text = train_df[train_df['label'] == 0].sample(n=32000)\n",
    "toxic_text = train_df[train_df['label'] == 1]"
   ]
  },
  {
   "cell_type": "code",
   "execution_count": 16,
   "metadata": {},
   "outputs": [
    {
     "data": {
      "text/plain": [
       "label\n",
       "0    32000\n",
       "1    16225\n",
       "Name: count, dtype: int64"
      ]
     },
     "execution_count": 16,
     "metadata": {},
     "output_type": "execute_result"
    }
   ],
   "source": [
    "training_df = pd.concat([clean_text, toxic_text], axis=0)\n",
    "training_df['label'].value_counts()\n"
   ]
  },
  {
   "cell_type": "code",
   "execution_count": 17,
   "metadata": {},
   "outputs": [
    {
     "name": "stderr",
     "output_type": "stream",
     "text": [
      "[nltk_data] Downloading package punkt_tab to /h/300/viet/nltk_data...\n",
      "[nltk_data]   Package punkt_tab is already up-to-date!\n",
      "[nltk_data] Downloading package stopwords to /h/300/viet/nltk_data...\n",
      "[nltk_data]   Package stopwords is already up-to-date!\n"
     ]
    },
    {
     "data": {
      "text/plain": [
       "True"
      ]
     },
     "execution_count": 17,
     "metadata": {},
     "output_type": "execute_result"
    }
   ],
   "source": [
    "download('punkt_tab')\n",
    "download('stopwords')"
   ]
  },
  {
   "cell_type": "code",
   "execution_count": 18,
   "metadata": {},
   "outputs": [],
   "source": [
    "stemmer = PorterStemmer()"
   ]
  },
  {
   "cell_type": "code",
   "execution_count": 19,
   "metadata": {},
   "outputs": [],
   "source": [
    "def text_cleaning(text):\n",
    "    # converting to lower case\n",
    "    #text = text.lower()\n",
    "\n",
    "    # Remove the hyper links\n",
    "    text = re.sub(r\"http\\S+|www\\S+|https\\S+\", \"\", text)\n",
    "\n",
    "    # Removing all numbers, punctuation marks , and all the irrelavant symbols etx\n",
    "    #text = re.sub(r\"[^a-zA-Z0-9\\s.,!?;:'\\\"()-]\", \"\", text)\n",
    "    #text = re.sub(r\"[^a-z\\s]\", \"\", text)\n",
    "    text = re.sub(r\"[@#$%^&*_=+\\[\\]{}|\\\\/<>:\\~]\", \"\", text)\n",
    "    text = text.replace(\"\\n\", \" \")\n",
    "    text = text.replace(\"\\t\", \" \")\n",
    "\n",
    "    # apply the word tokenization\n",
    "    #word_tokens = word_tokenize(text)\n",
    "\n",
    "    # removing the stop words\n",
    "    #clean_tokens = [word for word in word_tokens if word not in stopwords.words(\"english\")]\n",
    "\n",
    "    # applying the Lematization\n",
    "    #stemmed_tokem = [stemmer.stem(word) for word in clean_tokens]\n",
    "\n",
    "    return text #\" \".join(stemmed_tokem)"
   ]
  },
  {
   "cell_type": "code",
   "execution_count": 20,
   "metadata": {},
   "outputs": [
    {
     "name": "stderr",
     "output_type": "stream",
     "text": [
      "100%|██████████| 48225/48225 [00:00<00:00, 164371.77it/s]\n"
     ]
    }
   ],
   "source": [
    "tqdm.pandas()\n",
    "training_df[\"clean_text\"] = training_df['comment_text'].progress_apply(text_cleaning)"
   ]
  },
  {
   "cell_type": "code",
   "execution_count": 21,
   "metadata": {},
   "outputs": [
    {
     "data": {
      "text/plain": [
       "id                                                a83d4cc0b97576cf\n",
       "comment_text     HELP\\nPage hijacked by users changing the info...\n",
       "toxic                                                            0\n",
       "severe_toxic                                                     0\n",
       "obscene                                                          0\n",
       "threat                                                           0\n",
       "insult                                                           0\n",
       "identity_hate                                                    0\n",
       "label                                                            0\n",
       "clean_text       HELP Page hijacked by users changing the infor...\n",
       "Name: 62892, dtype: object"
      ]
     },
     "execution_count": 21,
     "metadata": {},
     "output_type": "execute_result"
    }
   ],
   "source": [
    "training_df.iloc[0]"
   ]
  },
  {
   "cell_type": "code",
   "execution_count": null,
   "metadata": {},
   "outputs": [],
   "source": [
    "from torch.utils.data import Dataset, DataLoader\n",
    "class JigsawRawDataset(Dataset):\n",
    "    def __init__(self, df):\n",
    "        self.texts = df['clean_text'].values\n",
    "        self.labels = df['label'].values\n",
    "        self.metadata = df[['toxic', 'severe_toxic', 'obscene', 'threat', 'insult', 'identity_hate']].values\n",
    "\n",
    "    def __len__(self):\n",
    "        return len(self.labels)\n",
    "\n",
    "    def __getitem__(self, idx):\n",
    "        text = str(self.texts[idx])\n",
    "        label = torch.tensor(self.labels[idx], dtype=torch.long)\n",
    "        metadata = torch.tensor(self.metadata[idx], dtype=torch.float)\n",
    "\n",
    "        return text, label, metadata"
   ]
  },
  {
   "cell_type": "code",
   "execution_count": 23,
   "metadata": {},
   "outputs": [],
   "source": [
    "trainset = JigsawRawDataset(training_df)"
   ]
  },
  {
   "cell_type": "code",
   "execution_count": 24,
   "metadata": {},
   "outputs": [],
   "source": [
    "trainloader = DataLoader(trainset, batch_size=256, num_workers=6, shuffle=True)"
   ]
  },
  {
   "cell_type": "code",
   "execution_count": 25,
   "metadata": {},
   "outputs": [],
   "source": [
    "from transformers import AutoTokenizer\n",
    "from bayesian_dpddm.models.bert_model import bert_dict\n",
    "tokenizer = AutoTokenizer.from_pretrained(bert_dict['distilbert'])\n",
    "from functools import partial\n",
    "tokenize = partial(tokenizer, \n",
    "                   padding='max_length',\n",
    "                   truncation=True,\n",
    "                   max_length=512,\n",
    "                   return_tensors='pt')\n",
    "\n",
    "#tokens = tokenize(text).to('cuda')\n",
    "#tokens"
   ]
  },
  {
   "cell_type": "code",
   "execution_count": 26,
   "metadata": {},
   "outputs": [
    {
     "name": "stderr",
     "output_type": "stream",
     "text": [
      "100%|██████████| 189/189 [00:13<00:00, 13.55it/s]\n"
     ]
    }
   ],
   "source": [
    "input_ids, attention_mask = [], []\n",
    "labels = []\n",
    "metadatas = []\n",
    "for text, label, metadata in tqdm(trainloader):\n",
    "    with torch.no_grad():\n",
    "        tokenized = tokenize(text)\n",
    "        input_ids.append(tokenized['input_ids'])\n",
    "        attention_mask.append(tokenized['attention_mask'])\n",
    "        labels.append(label)\n",
    "        metadatas.append(metadata)        "
   ]
  },
  {
   "cell_type": "code",
   "execution_count": 27,
   "metadata": {},
   "outputs": [],
   "source": [
    "input_ids, attention_mask, labels, metadatas = (torch.cat(array, dim=0) for array in [input_ids, attention_mask, labels, metadatas])"
   ]
  },
  {
   "cell_type": "code",
   "execution_count": 28,
   "metadata": {},
   "outputs": [],
   "source": [
    "save_path = f\"data/jigsaw-toxic-comments/distilbert_tokenized.pt\"\n",
    "torch.save({\n",
    "    'input_ids': input_ids,\n",
    "    'attention_mask': attention_mask,\n",
    "    'labels': labels,\n",
    "    'metadata': metadatas\n",
    "}, save_path)"
   ]
  },
  {
   "cell_type": "code",
   "execution_count": 29,
   "metadata": {},
   "outputs": [],
   "source": [
    "import torch\n",
    "save_path = f\"data/jigsaw-toxic-comments/distilbert_tokenized.pt\"\n",
    "\n",
    "xx = torch.load(save_path)"
   ]
  },
  {
   "cell_type": "code",
   "execution_count": 30,
   "metadata": {},
   "outputs": [
    {
     "data": {
      "text/plain": [
       "tensor([[1, 1, 1,  ..., 0, 0, 0],\n",
       "        [1, 1, 1,  ..., 0, 0, 0],\n",
       "        [1, 1, 1,  ..., 0, 0, 0],\n",
       "        ...,\n",
       "        [1, 1, 1,  ..., 0, 0, 0],\n",
       "        [1, 1, 1,  ..., 0, 0, 0],\n",
       "        [1, 1, 1,  ..., 0, 0, 0]])"
      ]
     },
     "execution_count": 30,
     "metadata": {},
     "output_type": "execute_result"
    }
   ],
   "source": [
    "xx['attention_mask']"
   ]
  },
  {
   "cell_type": "code",
   "execution_count": null,
   "metadata": {},
   "outputs": [],
   "source": []
  }
 ],
 "metadata": {
  "kernelspec": {
   "display_name": "Python 3",
   "language": "python",
   "name": "python3"
  },
  "language_info": {
   "codemirror_mode": {
    "name": "ipython",
    "version": 3
   },
   "file_extension": ".py",
   "mimetype": "text/x-python",
   "name": "python",
   "nbconvert_exporter": "python",
   "pygments_lexer": "ipython3",
   "version": "3.11.11"
  }
 },
 "nbformat": 4,
 "nbformat_minor": 2
}

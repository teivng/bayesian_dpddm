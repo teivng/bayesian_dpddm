{
 "cells": [
  {
   "cell_type": "code",
   "execution_count": 1,
   "metadata": {},
   "outputs": [
    {
     "name": "stdout",
     "output_type": "stream",
     "text": [
      "2.0.0\n"
     ]
    }
   ],
   "source": [
    "import wilds\n",
    "print(wilds.__version__)\n",
    "from wilds.datasets.camelyon17_dataset import Camelyon17Dataset\n",
    "from torchvision.transforms import Compose, ToTensor, Resize\n",
    "from tqdm.auto import tqdm"
   ]
  },
  {
   "cell_type": "code",
   "execution_count": 9,
   "metadata": {},
   "outputs": [
    {
     "name": "stdout",
     "output_type": "stream",
     "text": [
      "Mon Apr 14 15:25:10 2025       \n",
      "+-----------------------------------------------------------------------------------------+\n",
      "| NVIDIA-SMI 550.90.07              Driver Version: 550.90.07      CUDA Version: 12.4     |\n",
      "|-----------------------------------------+------------------------+----------------------+\n",
      "| GPU  Name                 Persistence-M | Bus-Id          Disp.A | Volatile Uncorr. ECC |\n",
      "| Fan  Temp   Perf          Pwr:Usage/Cap |           Memory-Usage | GPU-Util  Compute M. |\n",
      "|                                         |                        |               MIG M. |\n",
      "|=========================================+========================+======================|\n",
      "|   0  NVIDIA RTX A6000               Off |   00000000:31:00.0 Off |                  Off |\n",
      "| 30%   35C    P0             71W /  300W |       1MiB /  49140MiB |      0%      Default |\n",
      "|                                         |                        |                  N/A |\n",
      "+-----------------------------------------+------------------------+----------------------+\n",
      "|   1  NVIDIA RTX A6000               Off |   00000000:4B:00.0 Off |                  Off |\n",
      "| 30%   33C    P0             70W /  300W |       1MiB /  49140MiB |      2%      Default |\n",
      "|                                         |                        |                  N/A |\n",
      "+-----------------------------------------+------------------------+----------------------+\n",
      "                                                                                         \n",
      "+-----------------------------------------------------------------------------------------+\n",
      "| Processes:                                                                              |\n",
      "|  GPU   GI   CI        PID   Type   Process name                              GPU Memory |\n",
      "|        ID   ID                                                               Usage      |\n",
      "|=========================================================================================|\n",
      "|  No running processes found                                                             |\n",
      "+-----------------------------------------------------------------------------------------+\n"
     ]
    }
   ],
   "source": [
    "!nvidia-smi"
   ]
  },
  {
   "cell_type": "code",
   "execution_count": 3,
   "metadata": {},
   "outputs": [],
   "source": [
    "dataset = Camelyon17Dataset(root_dir='/voyager/datasets', download=True)"
   ]
  },
  {
   "cell_type": "code",
   "execution_count": 4,
   "metadata": {},
   "outputs": [],
   "source": [
    "\"\"\" For Bayesian D-PDDM\n",
    "- train         (used to train base model)\n",
    "- valid         (used ot validate base model)\n",
    "- dpddm_train   (used to train dpddm's Phi)\n",
    "- dpddm_id      (used to validate FPR)\n",
    "- dpddm_ood     (used to validate TPR)\n",
    "\"\"\"\n",
    "\n",
    "splits = {\n",
    "    'train': 'train',\n",
    "    'valid': 'val',\n",
    "    'dpddm_train': 'id_val',\n",
    "    'dpddm_id': 'val',\n",
    "    'dpddm_ood': 'test'\n",
    "}"
   ]
  },
  {
   "cell_type": "code",
   "execution_count": 7,
   "metadata": {},
   "outputs": [
    {
     "name": "stdout",
     "output_type": "stream",
     "text": [
      "train 302436\n",
      "valid 34904\n",
      "dpddm_train 33560\n",
      "dpddm_id 34904\n",
      "dpddm_ood 85054\n"
     ]
    }
   ],
   "source": [
    "for split in splits.keys():\n",
    "    try: \n",
    "        ds = dataset.get_subset(splits[split], transform=Compose([Resize((224, 224)), ToTensor()]))\n",
    "        print(split, len(ds))\n",
    "    except:\n",
    "        continue"
   ]
  },
  {
   "cell_type": "code",
   "execution_count": 8,
   "metadata": {},
   "outputs": [],
   "source": [
    "ds = dataset.get_subset(splits['train'], transform=Compose([Resize((224, 224)), ToTensor()]))"
   ]
  },
  {
   "cell_type": "code",
   "execution_count": null,
   "metadata": {},
   "outputs": [
    {
     "data": {
      "text/html": [],
      "text/plain": [
       "<IPython.core.display.HTML object>"
      ]
     },
     "metadata": {},
     "output_type": "display_data"
    },
    {
     "data": {
      "text/html": [
       "<br>    <style><br>        .wandb-row {<br>            display: flex;<br>            flex-direction: row;<br>            flex-wrap: wrap;<br>            justify-content: flex-start;<br>            width: 100%;<br>        }<br>        .wandb-col {<br>            display: flex;<br>            flex-direction: column;<br>            flex-basis: 100%;<br>            flex: 1;<br>            padding: 10px;<br>        }<br>    </style><br><div class=\"wandb-row\"><div class=\"wandb-col\"><h3>Run history:</h3><br/><table class=\"wandb\"><tr><td>train_acc</td><td>▁▆█</td></tr><tr><td>train_loss</td><td>█▃▁</td></tr><tr><td>val_acc</td><td>▃█▁</td></tr><tr><td>val_loss</td><td>▁▅█</td></tr></table><br/></div><div class=\"wandb-col\"><h3>Run summary:</h3><br/><table class=\"wandb\"><tr><td>train_acc</td><td>94.67332</td></tr><tr><td>train_loss</td><td>0.14796</td></tr><tr><td>val_acc</td><td>77.47851</td></tr><tr><td>val_loss</td><td>0.93549</td></tr></table><br/></div></div>"
      ],
      "text/plain": [
       "<IPython.core.display.HTML object>"
      ]
     },
     "metadata": {},
     "output_type": "display_data"
    },
    {
     "data": {
      "text/html": [
       " View run <strong style=\"color:#cdcd00\">rich-brook-25</strong> at: <a href='https://wandb.ai/opent03-team/wilds_dpddm/runs/0l3vze4w' target=\"_blank\">https://wandb.ai/opent03-team/wilds_dpddm/runs/0l3vze4w</a><br> View project at: <a href='https://wandb.ai/opent03-team/wilds_dpddm' target=\"_blank\">https://wandb.ai/opent03-team/wilds_dpddm</a><br>Synced 5 W&B file(s), 0 media file(s), 0 artifact file(s) and 0 other file(s)"
      ],
      "text/plain": [
       "<IPython.core.display.HTML object>"
      ]
     },
     "metadata": {},
     "output_type": "display_data"
    },
    {
     "data": {
      "text/html": [
       "Find logs at: <code>./wandb/run-20250411_054405-0l3vze4w/logs</code>"
      ],
      "text/plain": [
       "<IPython.core.display.HTML object>"
      ]
     },
     "metadata": {},
     "output_type": "display_data"
    },
    {
     "data": {
      "text/html": [
       "Tracking run with wandb version 0.19.9"
      ],
      "text/plain": [
       "<IPython.core.display.HTML object>"
      ]
     },
     "metadata": {},
     "output_type": "display_data"
    },
    {
     "data": {
      "text/html": [
       "Run data is saved locally in <code>/h/300/viet/bayesian_dpddm/wandb/run-20250411_054729-5rjbw6u7</code>"
      ],
      "text/plain": [
       "<IPython.core.display.HTML object>"
      ]
     },
     "metadata": {},
     "output_type": "display_data"
    },
    {
     "data": {
      "text/html": [
       "Syncing run <strong><a href='https://wandb.ai/opent03-team/wilds_dpddm/runs/5rjbw6u7' target=\"_blank\">rosy-frog-26</a></strong> to <a href='https://wandb.ai/opent03-team/wilds_dpddm' target=\"_blank\">Weights & Biases</a> (<a href='https://wandb.me/developer-guide' target=\"_blank\">docs</a>)<br>"
      ],
      "text/plain": [
       "<IPython.core.display.HTML object>"
      ]
     },
     "metadata": {},
     "output_type": "display_data"
    },
    {
     "data": {
      "text/html": [
       " View project at <a href='https://wandb.ai/opent03-team/wilds_dpddm' target=\"_blank\">https://wandb.ai/opent03-team/wilds_dpddm</a>"
      ],
      "text/plain": [
       "<IPython.core.display.HTML object>"
      ]
     },
     "metadata": {},
     "output_type": "display_data"
    },
    {
     "data": {
      "text/html": [
       " View run at <a href='https://wandb.ai/opent03-team/wilds_dpddm/runs/5rjbw6u7' target=\"_blank\">https://wandb.ai/opent03-team/wilds_dpddm/runs/5rjbw6u7</a>"
      ],
      "text/plain": [
       "<IPython.core.display.HTML object>"
      ]
     },
     "metadata": {},
     "output_type": "display_data"
    },
    {
     "name": "stderr",
     "output_type": "stream",
     "text": [
      "/h/300/viet/.conda/envs/dpddm_tmp/lib/python3.11/site-packages/torchvision/models/_utils.py:208: UserWarning: The parameter 'pretrained' is deprecated since 0.13 and may be removed in the future, please use 'weights' instead.\n",
      "  warnings.warn(\n",
      "/h/300/viet/.conda/envs/dpddm_tmp/lib/python3.11/site-packages/torchvision/models/_utils.py:223: UserWarning: Arguments other than a weight enum or `None` for 'weights' are deprecated since 0.13 and may be removed in the future. The current behavior is equivalent to passing `weights=None`.\n",
      "  warnings.warn(msg)\n",
      "Epoch 1/10: 100%|█████████████████████████████████████████████████████████████████████████████████████| 946/946 [00:41<00:00, 22.84it/s]\n"
     ]
    },
    {
     "name": "stdout",
     "output_type": "stream",
     "text": [
      "Epoch 1: Train Loss: 0.3420, Train Acc: 86.40%, Val Loss: 0.4509, Val Acc: 82.87%\n",
      "Test Accuracy: 85.83%\n"
     ]
    },
    {
     "name": "stderr",
     "output_type": "stream",
     "text": [
      "Epoch 2/10: 100%|█████████████████████████████████████████████████████████████████████████████████████| 946/946 [00:40<00:00, 23.52it/s]\n"
     ]
    },
    {
     "name": "stdout",
     "output_type": "stream",
     "text": [
      "Epoch 2: Train Loss: 0.2180, Train Acc: 91.75%, Val Loss: 0.4549, Val Acc: 87.22%\n",
      "Test Accuracy: 88.09%\n"
     ]
    },
    {
     "name": "stderr",
     "output_type": "stream",
     "text": [
      "Epoch 3/10: 100%|█████████████████████████████████████████████████████████████████████████████████████| 946/946 [00:39<00:00, 23.67it/s]\n"
     ]
    },
    {
     "name": "stdout",
     "output_type": "stream",
     "text": [
      "Epoch 3: Train Loss: 0.1801, Train Acc: 93.30%, Val Loss: 0.5520, Val Acc: 83.98%\n",
      "Test Accuracy: 75.77%\n"
     ]
    },
    {
     "name": "stderr",
     "output_type": "stream",
     "text": [
      "Epoch 4/10: 100%|█████████████████████████████████████████████████████████████████████████████████████| 946/946 [00:40<00:00, 23.57it/s]\n"
     ]
    },
    {
     "name": "stdout",
     "output_type": "stream",
     "text": [
      "Epoch 4: Train Loss: 0.1697, Train Acc: 93.62%, Val Loss: 0.3734, Val Acc: 88.02%\n",
      "Test Accuracy: 80.34%\n"
     ]
    },
    {
     "name": "stderr",
     "output_type": "stream",
     "text": [
      "Epoch 5/10: 100%|█████████████████████████████████████████████████████████████████████████████████████| 946/946 [00:40<00:00, 23.60it/s]\n"
     ]
    },
    {
     "name": "stdout",
     "output_type": "stream",
     "text": [
      "Epoch 5: Train Loss: 0.1589, Train Acc: 94.12%, Val Loss: 0.3795, Val Acc: 87.85%\n",
      "Test Accuracy: 83.22%\n"
     ]
    },
    {
     "name": "stderr",
     "output_type": "stream",
     "text": [
      "Epoch 6/10:   5%|███▉                                                                                  | 43/946 [00:02<00:37, 23.82it/s]"
     ]
    }
   ],
   "source": [
    "import torch\n",
    "import torch.nn as nn\n",
    "import torch.optim as optim\n",
    "from torchvision.models import resnet50\n",
    "from wilds.datasets.camelyon17_dataset import Camelyon17Dataset\n",
    "from torch.utils.data import DataLoader\n",
    "from torchvision import transforms\n",
    "from tqdm import tqdm\n",
    "import wandb \n",
    "\n",
    "run = wandb.init(\n",
    "    # Set the wandb entity where your project will be logged (generally your team name).\n",
    "    entity=\"opent03-team\",\n",
    "    # Set the wandb project where this run will be logged.\n",
    "    project=\"wilds_dpddm\",\n",
    "    # Track hyperparameters and run metadata.\n",
    "    config={\n",
    "        \"learning_rate\": 0.001,\n",
    "        \"architecture\": \"resnet18\",\n",
    "        \"dataset\": \"Camelyon17\",\n",
    "        \"epochs\": 50,\n",
    "    },\n",
    ")\n",
    "\n",
    "\n",
    "# Set device\n",
    "device = torch.device('cuda' if torch.cuda.is_available() else 'cpu')\n",
    "\n",
    "# Initialize WILDS dataset\n",
    "dataset = Camelyon17Dataset(root_dir='/h/300/viet/bayesian_dpddm/data', download=True)\n",
    "\n",
    "# Get train, validation, and test sets\n",
    "train_data = dataset.get_subset('train', frac=0.1)\n",
    "val_data = dataset.get_subset('val',  frac=0.1)\n",
    "test_data = dataset.get_subset('test',  frac=0.1)\n",
    "\n",
    "train_transform = transforms.Compose([\n",
    "    transforms.Resize((224, 224)),\n",
    "    transforms.RandomHorizontalFlip(p=0.5),\n",
    "    transforms.RandomVerticalFlip(p=0.5),\n",
    "    transforms.RandomRotation(degrees=90),\n",
    "    transforms.ColorJitter(brightness=0.1, contrast=0.1, saturation=0.1, hue=0.05),\n",
    "    transforms.RandomAffine(degrees=0, translate=(0.1, 0.1)),\n",
    "    transforms.ToTensor(),\n",
    "    transforms.Normalize(mean=[0.485, 0.456, 0.406], std=[0.229, 0.224, 0.225])\n",
    "])\n",
    "\n",
    "# For validation/test (no augmentations)\n",
    "val_transform = transforms.Compose([\n",
    "    transforms.Resize((224, 224)),\n",
    "    transforms.ToTensor(),\n",
    "    transforms.Normalize(mean=[0.485, 0.456, 0.406], std=[0.229, 0.224, 0.225])\n",
    "])\n",
    "\n",
    "# Apply transformations\n",
    "train_data.transform = train_transform\n",
    "val_data.transform = val_transform\n",
    "test_data.transform = val_transform\n",
    "\n",
    "# Create data loaders\n",
    "batch_size = 32\n",
    "train_loader = DataLoader(train_data, batch_size=batch_size, shuffle=True, num_workers=4, pin_memory=True)\n",
    "val_loader = DataLoader(val_data, batch_size=batch_size, num_workers=4, pin_memory=True)\n",
    "test_loader = DataLoader(test_data, batch_size=batch_size, num_workers=4, pin_memory=True)\n",
    "\n",
    "# Initialize ResNet18\n",
    "model = resnet50(pretrained=False)  # Using pretrained weights\n",
    "\n",
    "# Modify the final layer for binary classification (tumor vs normal)\n",
    "num_features = model.fc.in_features\n",
    "model.fc = nn.Linear(num_features, 2)  # Camelyon17 has 2 classes\n",
    "\n",
    "model = model.to(device)\n",
    "\n",
    "# Loss function and optimizer\n",
    "criterion = nn.CrossEntropyLoss()\n",
    "optimizer = optim.Adam(model.parameters(), lr=0.001)\n",
    "\n",
    "# Training loop\n",
    "num_epochs = 10\n",
    "\n",
    "for epoch in range(num_epochs):\n",
    "    model.train()\n",
    "    running_loss = 0.0\n",
    "    correct = 0\n",
    "    total = 0\n",
    "    \n",
    "    # Training phase\n",
    "    for batch in tqdm(train_loader, desc=f'Epoch {epoch+1}/{num_epochs}'):\n",
    "        x, y, metadata = batch\n",
    "        x, y = x.to(device), y.to(device)\n",
    "        \n",
    "        optimizer.zero_grad()\n",
    "        outputs = model(x)\n",
    "        loss = criterion(outputs, y)\n",
    "        loss.backward()\n",
    "        optimizer.step()\n",
    "        \n",
    "        running_loss += loss.item()\n",
    "        _, predicted = torch.max(outputs.data, 1)\n",
    "        total += y.size(0)\n",
    "        correct += (predicted == y).sum().item()\n",
    "    \n",
    "    train_loss = running_loss / len(train_loader)\n",
    "    train_acc = 100 * correct / total\n",
    "    \n",
    "    wandb.log({\n",
    "        'train_loss': train_loss,\n",
    "        'train_acc': train_acc\n",
    "    })\n",
    "    \n",
    "    # Validation phase\n",
    "    model.eval()\n",
    "    val_loss = 0.0\n",
    "    correct = 0\n",
    "    total = 0\n",
    "    \n",
    "    with torch.no_grad():\n",
    "        for batch in val_loader:\n",
    "            x, y, metadata = batch\n",
    "            x, y = x.to(device), y.to(device)\n",
    "            \n",
    "            outputs = model(x)\n",
    "            loss = criterion(outputs, y)\n",
    "            \n",
    "            val_loss += loss.item()\n",
    "            _, predicted = torch.max(outputs.data, 1)\n",
    "            total += y.size(0)\n",
    "            correct += (predicted == y).sum().item()\n",
    "    \n",
    "    val_loss /= len(val_loader)\n",
    "    val_acc = 100 * correct / total\n",
    "    \n",
    "    print(f'Epoch {epoch+1}: Train Loss: {train_loss:.4f}, Train Acc: {train_acc:.2f}%, '\n",
    "          f'Val Loss: {val_loss:.4f}, Val Acc: {val_acc:.2f}%')\n",
    "    \n",
    "    wandb.log({\n",
    "        'val_loss': val_loss,\n",
    "        'val_acc': val_acc\n",
    "    })\n",
    "\n",
    "    # Test evaluation\n",
    "    model.eval()\n",
    "    test_correct = 0\n",
    "    test_total = 0\n",
    "\n",
    "    with torch.no_grad():\n",
    "        for batch in test_loader:\n",
    "            x, y, metadata = batch\n",
    "            x, y = x.to(device), y.to(device)\n",
    "            \n",
    "            outputs = model(x)\n",
    "            _, predicted = torch.max(outputs.data, 1)\n",
    "            test_total += y.size(0)\n",
    "            test_correct += (predicted == y).sum().item()\n",
    "            \n",
    "    test_acc = 100 * test_correct / test_total\n",
    "    wandb.log({\n",
    "        'test_acc': test_acc\n",
    "    })\n",
    "    print(f'Test Accuracy: {test_acc:.2f}%')"
   ]
  },
  {
   "cell_type": "code",
   "execution_count": null,
   "metadata": {},
   "outputs": [],
   "source": [
    "import torch\n",
    "import torch.nn as nn\n",
    "import torch.nn.functional as F\n",
    "import torch.optim as optim\n",
    "from torchvision.models import resnet50\n",
    "from wilds.datasets.camelyon17_dataset import Camelyon17Dataset\n",
    "from torch.utils.data import DataLoader\n",
    "from torchvision import transforms\n",
    "from tqdm import tqdm\n",
    "import wandb\n",
    "import math\n",
    "\n",
    "class VBLLayer(nn.Module):\n",
    "    def __init__(self, in_features, out_features, prior_precision=1.0):\n",
    "        super(VBLLayer, self).__init__()\n",
    "        self.in_features = in_features\n",
    "        self.out_features = out_features\n",
    "        \n",
    "        # Mean parameters\n",
    "        self.weight_mu = nn.Parameter(torch.Tensor(out_features, in_features))\n",
    "        self.bias_mu = nn.Parameter(torch.Tensor(out_features))\n",
    "        \n",
    "        # Log variance parameters (for numerical stability)\n",
    "        self.weight_logvar = nn.Parameter(torch.Tensor(out_features, in_features))\n",
    "        self.bias_logvar = nn.Parameter(torch.Tensor(out_features))\n",
    "        \n",
    "        # Prior precision\n",
    "        self.prior_precision = prior_precision\n",
    "        \n",
    "        # Initialize parameters\n",
    "        self.reset_parameters()\n",
    "    \n",
    "    def reset_parameters(self):\n",
    "        # Initialize means\n",
    "        nn.init.kaiming_uniform_(self.weight_mu, a=math.sqrt(5))\n",
    "        fan_in, _ = nn.init._calculate_fan_in_and_fan_out(self.weight_mu)\n",
    "        bound = 1 / math.sqrt(fan_in)\n",
    "        nn.init.uniform_(self.bias_mu, -bound, bound)\n",
    "        \n",
    "        # Initialize logvars\n",
    "        nn.init.constant_(self.weight_logvar, -6)\n",
    "        nn.init.constant_(self.bias_logvar, -6)\n",
    "    \n",
    "    def forward(self, x):\n",
    "        # Sample weights using reparameterization trick\n",
    "        weight_eps = torch.randn_like(self.weight_logvar)\n",
    "        bias_eps = torch.randn_like(self.bias_logvar)\n",
    "        \n",
    "        weight = self.weight_mu + torch.exp(0.5 * self.weight_logvar) * weight_eps\n",
    "        bias = self.bias_mu + torch.exp(0.5 * self.bias_logvar) * bias_eps\n",
    "        \n",
    "        return F.linear(x, weight, bias)\n",
    "    \n",
    "    def kl_divergence(self):\n",
    "        # Compute KL divergence between posterior and prior\n",
    "        weight_kl = 0.5 * (self.prior_precision * torch.exp(self.weight_logvar).sum() +\n",
    "                          self.prior_precision * (self.weight_mu**2).sum() -\n",
    "                          self.weight_logvar.sum() - self.in_features * self.out_features)\n",
    "        \n",
    "        bias_kl = 0.5 * (self.prior_precision * torch.exp(self.bias_logvar).sum() +\n",
    "                         self.prior_precision * (self.bias_mu**2).sum() -\n",
    "                         self.bias_logvar.sum() - self.out_features)\n",
    "        \n",
    "        return weight_kl + bias_kl\n",
    "\n",
    "# Initialize wandb\n",
    "run = wandb.init(\n",
    "    entity=\"opent03-team\",\n",
    "    project=\"wilds_dpddm\",\n",
    "    config={\n",
    "        \"learning_rate\": 0.001,\n",
    "        \"architecture\": \"resnet50_vbll\",\n",
    "        \"dataset\": \"Camelyon17\",\n",
    "        \"epochs\": 50,\n",
    "        \"prior_precision\": 1.0,\n",
    "        \"kl_weight\": 0.1,\n",
    "    },\n",
    ")\n",
    "\n",
    "# Set device\n",
    "device = torch.device('cuda' if torch.cuda.is_available() else 'cpu')\n",
    "\n",
    "# Initialize WILDS dataset\n",
    "dataset = Camelyon17Dataset(root_dir='/h/300/viet/bayesian_dpddm/data', download=True)\n",
    "\n",
    "# Get train, validation, and test sets\n",
    "train_data = dataset.get_subset('train', frac=0.1)\n",
    "val_data = dataset.get_subset('val', frac=0.1)\n",
    "test_data = dataset.get_subset('test', frac=0.1)\n",
    "\n",
    "# Define transforms (same as before)\n",
    "train_transform = transforms.Compose([\n",
    "    transforms.Resize((224, 224)),\n",
    "    transforms.RandomHorizontalFlip(p=0.5),\n",
    "    transforms.RandomVerticalFlip(p=0.5),\n",
    "    transforms.RandomRotation(degrees=90),\n",
    "    transforms.ColorJitter(brightness=0.1, contrast=0.1, saturation=0.1, hue=0.05),\n",
    "    transforms.RandomAffine(degrees=0, translate=(0.1, 0.1)),\n",
    "    transforms.ToTensor(),\n",
    "    transforms.Normalize(mean=[0.485, 0.456, 0.406], std=[0.229, 0.224, 0.225])\n",
    "])\n",
    "\n",
    "val_transform = transforms.Compose([\n",
    "    transforms.Resize((224, 224)),\n",
    "    transforms.ToTensor(),\n",
    "    transforms.Normalize(mean=[0.485, 0.456, 0.406], std=[0.229, 0.224, 0.225])\n",
    "])\n",
    "\n",
    "# Apply transformations\n",
    "train_data.transform = train_transform\n",
    "val_data.transform = val_transform\n",
    "test_data.transform = val_transform\n",
    "\n",
    "# Create data loaders\n",
    "batch_size = 32\n",
    "train_loader = DataLoader(train_data, batch_size=batch_size, shuffle=True, num_workers=4, pin_memory=True)\n",
    "val_loader = DataLoader(val_data, batch_size=batch_size, num_workers=4, pin_memory=True)\n",
    "test_loader = DataLoader(test_data, batch_size=batch_size, num_workers=4, pin_memory=True)\n",
    "\n",
    "# Initialize ResNet50 with VBLL last layer\n",
    "model = resnet50(pretrained=False)\n",
    "num_features = model.fc.in_features\n",
    "\n",
    "# Replace the final layer with VBLL\n",
    "model.fc = VBLLayer(num_features, 2, prior_precision=wandb.config.prior_precision)\n",
    "model = model.to(device)\n",
    "\n",
    "# Loss function and optimizer\n",
    "criterion = nn.CrossEntropyLoss()\n",
    "optimizer = optim.Adam(model.parameters(), lr=wandb.config.learning_rate)\n",
    "\n",
    "# Training loop\n",
    "num_epochs = wandb.config.epochs\n",
    "kl_weight = wandb.config.kl_weight  # Weight for KL term in ELBO\n",
    "\n",
    "for epoch in range(num_epochs):\n",
    "    model.train()\n",
    "    running_loss = 0.0\n",
    "    running_nll = 0.0\n",
    "    running_kl = 0.0\n",
    "    correct = 0\n",
    "    total = 0\n",
    "    \n",
    "    # Training phase\n",
    "    for batch in tqdm(train_loader, desc=f'Epoch {epoch+1}/{num_epochs}'):\n",
    "        x, y, metadata = batch\n",
    "        x, y = x.to(device), y.to(device)\n",
    "        \n",
    "        optimizer.zero_grad()\n",
    "        outputs = model(x)\n",
    "        \n",
    "        # Negative log likelihood\n",
    "        nll = criterion(outputs, y)\n",
    "        \n",
    "        # KL divergence (only from the VBLL layer)\n",
    "        kl = model.fc.kl_divergence()\n",
    "        \n",
    "        # ELBO loss\n",
    "        loss = nll + kl_weight * kl\n",
    "        \n",
    "        loss.backward()\n",
    "        optimizer.step()\n",
    "        \n",
    "        running_loss += loss.item()\n",
    "        running_nll += nll.item()\n",
    "        running_kl += kl.item()\n",
    "        \n",
    "        _, predicted = torch.max(outputs.data, 1)\n",
    "        total += y.size(0)\n",
    "        correct += (predicted == y).sum().item()\n",
    "    \n",
    "    train_loss = running_loss / len(train_loader)\n",
    "    train_nll = running_nll / len(train_loader)\n",
    "    train_kl = running_kl / len(train_loader)\n",
    "    train_acc = 100 * correct / total\n",
    "    \n",
    "    wandb.log({\n",
    "        'train_loss': train_loss,\n",
    "        'train_nll': train_nll,\n",
    "        'train_kl': train_kl,\n",
    "        'train_acc': train_acc\n",
    "    })\n",
    "    \n",
    "    # Validation phase\n",
    "    model.eval()\n",
    "    val_loss = 0.0\n",
    "    val_nll = 0.0\n",
    "    val_kl = 0.0\n",
    "    correct = 0\n",
    "    total = 0\n",
    "    \n",
    "    with torch.no_grad():\n",
    "        for batch in val_loader:\n",
    "            x, y, metadata = batch\n",
    "            x, y = x.to(device), y.to(device)\n",
    "            \n",
    "            outputs = model(x)\n",
    "            nll = criterion(outputs, y)\n",
    "            kl = model.fc.kl_divergence()\n",
    "            loss = nll + kl_weight * kl\n",
    "            \n",
    "            val_loss += loss.item()\n",
    "            val_nll += nll.item()\n",
    "            val_kl += kl.item()\n",
    "            \n",
    "            _, predicted = torch.max(outputs.data, 1)\n",
    "            total += y.size(0)\n",
    "            correct += (predicted == y).sum().item()\n",
    "    \n",
    "    val_loss /= len(val_loader)\n",
    "    val_nll /= len(val_loader)\n",
    "    val_kl /= len(val_loader)\n",
    "    val_acc = 100 * correct / total\n",
    "    \n",
    "    print(f'Epoch {epoch+1}: '\n",
    "          f'Train Loss: {train_loss:.4f} (NLL: {train_nll:.4f}, KL: {train_kl:.4f}), '\n",
    "          f'Train Acc: {train_acc:.2f}%, '\n",
    "          f'Val Loss: {val_loss:.4f} (NLL: {val_nll:.4f}, KL: {val_kl:.4f}), '\n",
    "          f'Val Acc: {val_acc:.2f}%')\n",
    "    \n",
    "    wandb.log({\n",
    "        'val_loss': val_loss,\n",
    "        'val_nll': val_nll,\n",
    "        'val_kl': val_kl,\n",
    "        'val_acc': val_acc\n",
    "    })\n",
    "\n",
    "    # Test evaluation\n",
    "    model.eval()\n",
    "    test_loss = 0.0\n",
    "    test_nll = 0.0\n",
    "    test_kl = 0.0\n",
    "    test_correct = 0\n",
    "    test_total = 0\n",
    "\n",
    "    with torch.no_grad():\n",
    "        for batch in test_loader:\n",
    "            x, y, metadata = batch\n",
    "            x, y = x.to(device), y.to(device)\n",
    "            \n",
    "            outputs = model(x)\n",
    "            nll = criterion(outputs, y)\n",
    "            kl = model.fc.kl_divergence()\n",
    "            loss = nll + kl_weight * kl\n",
    "            \n",
    "            test_loss += loss.item()\n",
    "            test_nll += nll.item()\n",
    "            test_kl += kl.item()\n",
    "            \n",
    "            _, predicted = torch.max(outputs.data, 1)\n",
    "            test_total += y.size(0)\n",
    "            test_correct += (predicted == y).sum().item()\n",
    "            \n",
    "    test_loss /= len(test_loader)\n",
    "    test_nll /= len(test_loader)\n",
    "    test_kl /= len(test_loader)\n",
    "    test_acc = 100 * test_correct / test_total\n",
    "    \n",
    "    wandb.log({\n",
    "        'test_loss': test_loss,\n",
    "        'test_nll': test_nll,\n",
    "        'test_kl': test_kl,\n",
    "        'test_acc': test_acc\n",
    "    })\n",
    "    \n",
    "    print(f'Test Accuracy: {test_acc:.2f}%, '\n",
    "          f'Test Loss: {test_loss:.4f} (NLL: {test_nll:.4f}, KL: {test_kl:.4f})')\n",
    "\n",
    "# Close wandb run\n",
    "wandb.finish()"
   ]
  },
  {
   "cell_type": "code",
   "execution_count": null,
   "metadata": {},
   "outputs": [],
   "source": []
  }
 ],
 "metadata": {
  "kernelspec": {
   "display_name": "Python 3 (ipykernel)",
   "language": "python",
   "name": "python3"
  },
  "language_info": {
   "codemirror_mode": {
    "name": "ipython",
    "version": 3
   },
   "file_extension": ".py",
   "mimetype": "text/x-python",
   "name": "python",
   "nbconvert_exporter": "python",
   "pygments_lexer": "ipython3",
   "version": "3.11.11"
  }
 },
 "nbformat": 4,
 "nbformat_minor": 2
}

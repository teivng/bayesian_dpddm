{
 "cells": [
  {
   "cell_type": "code",
   "execution_count": 1,
   "id": "8fe276f8",
   "metadata": {},
   "outputs": [
    {
     "name": "stdout",
     "output_type": "stream",
     "text": [
      "2.0.0\n"
     ]
    }
   ],
   "source": [
    "import wilds\n",
    "print(wilds.__version__)\n",
    "from wilds.datasets.camelyon17_dataset import Camelyon17Dataset\n",
    "from wilds.common.data_loaders import get_train_loader, get_eval_loader\n",
    "from torchvision.transforms import Compose, ToTensor, Resize\n",
    "from torchvision.models import resnet50, ResNet50_Weights\n",
    "from torch.utils.data import DataLoader\n",
    "\n",
    "import torch\n",
    "import torch.nn as nn\n",
    "import torch.nn.functional as F \n",
    "import torch.optim as optim\n",
    "\n",
    "torch.backends.cudnn.benchmark = True\n",
    "from tqdm.notebook import tqdm\n",
    "device = torch.device('cuda:0' if torch.cuda.is_available() else 'cpu')\n",
    "import wandb\n"
   ]
  },
  {
   "cell_type": "code",
   "execution_count": 2,
   "id": "92476af0",
   "metadata": {},
   "outputs": [
    {
     "name": "stdout",
     "output_type": "stream",
     "text": [
      "Fri Apr 11 04:52:01 2025       \n",
      "+-----------------------------------------------------------------------------------------+\n",
      "| NVIDIA-SMI 550.127.08             Driver Version: 550.127.08     CUDA Version: 12.4     |\n",
      "|-----------------------------------------+------------------------+----------------------+\n",
      "| GPU  Name                 Persistence-M | Bus-Id          Disp.A | Volatile Uncorr. ECC |\n",
      "| Fan  Temp   Perf          Pwr:Usage/Cap |           Memory-Usage | GPU-Util  Compute M. |\n",
      "|                                         |                        |               MIG M. |\n",
      "|=========================================+========================+======================|\n",
      "|   0  NVIDIA H100 80GB HBM3          On  |   00000000:9B:00.0 Off |                    0 |\n",
      "| N/A   27C    P0             72W /  700W |       4MiB /  81559MiB |      0%      Default |\n",
      "|                                         |                        |             Disabled |\n",
      "+-----------------------------------------+------------------------+----------------------+\n",
      "|   1  NVIDIA H100 80GB HBM3          On  |   00000000:DB:00.0 Off |                    0 |\n",
      "| N/A   23C    P0             70W /  700W |       4MiB /  81559MiB |      0%      Default |\n",
      "|                                         |                        |             Disabled |\n",
      "+-----------------------------------------+------------------------+----------------------+\n",
      "                                                                                         \n",
      "+-----------------------------------------------------------------------------------------+\n",
      "| Processes:                                                                              |\n",
      "|  GPU   GI   CI        PID   Type   Process name                              GPU Memory |\n",
      "|        ID   ID                                                               Usage      |\n",
      "|=========================================================================================|\n",
      "|  No running processes found                                                             |\n",
      "+-----------------------------------------------------------------------------------------+\n"
     ]
    }
   ],
   "source": [
    "!nvidia-smi"
   ]
  },
  {
   "cell_type": "code",
   "execution_count": 3,
   "id": "3b632d07",
   "metadata": {},
   "outputs": [
    {
     "name": "stderr",
     "output_type": "stream",
     "text": [
      "\u001b[34m\u001b[1mwandb\u001b[0m: Using wandb-core as the SDK backend.  Please refer to https://wandb.me/wandb-core for more information.\n",
      "\u001b[34m\u001b[1mwandb\u001b[0m: Currently logged in as: \u001b[33mopent03\u001b[0m (\u001b[33mopent03-team\u001b[0m) to \u001b[32mhttps://api.wandb.ai\u001b[0m. Use \u001b[1m`wandb login --relogin`\u001b[0m to force relogin\n"
     ]
    },
    {
     "data": {
      "text/html": [
       "Tracking run with wandb version 0.19.9"
      ],
      "text/plain": [
       "<IPython.core.display.HTML object>"
      ]
     },
     "metadata": {},
     "output_type": "display_data"
    },
    {
     "data": {
      "text/html": [
       "Run data is saved locally in <code>/h/300/viet/bayesian_dpddm/wandb/run-20250411_045203-0p9eczgq</code>"
      ],
      "text/plain": [
       "<IPython.core.display.HTML object>"
      ]
     },
     "metadata": {},
     "output_type": "display_data"
    },
    {
     "data": {
      "text/html": [
       "Syncing run <strong><a href='https://wandb.ai/opent03-team/wilds_dpddm/runs/0p9eczgq' target=\"_blank\">grateful-durian-11</a></strong> to <a href='https://wandb.ai/opent03-team/wilds_dpddm' target=\"_blank\">Weights & Biases</a> (<a href='https://wandb.me/developer-guide' target=\"_blank\">docs</a>)<br>"
      ],
      "text/plain": [
       "<IPython.core.display.HTML object>"
      ]
     },
     "metadata": {},
     "output_type": "display_data"
    },
    {
     "data": {
      "text/html": [
       " View project at <a href='https://wandb.ai/opent03-team/wilds_dpddm' target=\"_blank\">https://wandb.ai/opent03-team/wilds_dpddm</a>"
      ],
      "text/plain": [
       "<IPython.core.display.HTML object>"
      ]
     },
     "metadata": {},
     "output_type": "display_data"
    },
    {
     "data": {
      "text/html": [
       " View run at <a href='https://wandb.ai/opent03-team/wilds_dpddm/runs/0p9eczgq' target=\"_blank\">https://wandb.ai/opent03-team/wilds_dpddm/runs/0p9eczgq</a>"
      ],
      "text/plain": [
       "<IPython.core.display.HTML object>"
      ]
     },
     "metadata": {},
     "output_type": "display_data"
    }
   ],
   "source": [
    "run = wandb.init(\n",
    "    # Set the wandb entity where your project will be logged (generally your team name).\n",
    "    entity=\"opent03-team\",\n",
    "    # Set the wandb project where this run will be logged.\n",
    "    project=\"wilds_dpddm\",\n",
    "    # Track hyperparameters and run metadata.\n",
    "    config={\n",
    "        \"learning_rate\": 0.001,\n",
    "        \"architecture\": \"resnet50\",\n",
    "        \"dataset\": \"Camelyon17\",\n",
    "        \"epochs\": 50,\n",
    "    },\n",
    ")"
   ]
  },
  {
   "cell_type": "code",
   "execution_count": 4,
   "id": "502ce780",
   "metadata": {},
   "outputs": [],
   "source": [
    "dataset = Camelyon17Dataset(root_dir='/h/300/viet/bayesian_dpddm/data/', download=False)"
   ]
  },
  {
   "cell_type": "code",
   "execution_count": 5,
   "id": "7e707282",
   "metadata": {},
   "outputs": [],
   "source": [
    "splits = {\n",
    "    'train': 'train',\n",
    "    'valid': 'val',\n",
    "    'dpddm_train': 'id_val',\n",
    "    'dpddm_id': 'val',\n",
    "    'dpddm_ood': 'test'\n",
    "}\n",
    "dataset_dict = {}"
   ]
  },
  {
   "cell_type": "code",
   "execution_count": 6,
   "id": "75b0281c",
   "metadata": {},
   "outputs": [],
   "source": [
    "for split in splits:\n",
    "    dataset_dict[split] = dataset.get_subset(split=splits[split], transform=Compose([Resize((224, 224)), ToTensor()]))"
   ]
  },
  {
   "cell_type": "code",
   "execution_count": 7,
   "id": "dfe08128",
   "metadata": {},
   "outputs": [],
   "source": [
    "BATCH_SIZE=512\n",
    "EPOCHS=50\n",
    "LEARNING_RATE=1e-3"
   ]
  },
  {
   "cell_type": "code",
   "execution_count": 8,
   "id": "4f08ae99",
   "metadata": {},
   "outputs": [],
   "source": [
    "#trainloader = get_train_loader(\"standard\", dataset_dict['train'], batch_size=BATCH_SIZE)\n",
    "#valloader = get_eval_loader(\"standard\", dataset_dict['valid'], batch_size=BATCH_SIZE)\n",
    "trainloader = DataLoader(dataset_dict['train'], batch_size=BATCH_SIZE, pin_memory=True, num_workers=10)\n",
    "valloader = DataLoader(dataset_dict['valid'], batch_size=BATCH_SIZE, pin_memory=True, num_workers=10)\n"
   ]
  },
  {
   "cell_type": "code",
   "execution_count": 9,
   "id": "c2976cd5",
   "metadata": {},
   "outputs": [],
   "source": [
    "model = resnet50()\n",
    "model.fc = nn.Linear(in_features=2048, out_features=1)\n",
    "optimizer = optim.AdamW(model.parameters(), lr=LEARNING_RATE)\n",
    "criterion = nn.BCEWithLogitsLoss()\n",
    "\n",
    "model = nn.DataParallel(model)\n",
    "model = model.to(device)"
   ]
  },
  {
   "cell_type": "code",
   "execution_count": 10,
   "id": "c1b5c75c",
   "metadata": {},
   "outputs": [],
   "source": [
    "def train(model, loader, optimizer, criterion):\n",
    "    model.train()\n",
    "    losses = 0\n",
    "    for images, labels, _ in tqdm(loader, leave=False):\n",
    "        optimizer.zero_grad()\n",
    "        images, labels = images.to(device), labels.unsqueeze(1).float().to(device)\n",
    "        output = model(images)\n",
    "        loss = criterion(output, labels)\n",
    "        loss.backward()\n",
    "        losses += loss.item() * len(labels)\n",
    "        optimizer.step()\n",
    "    return losses\n",
    "        \n",
    "def evaluate(model, loader):\n",
    "    model.eval()\n",
    "    correct = 0\n",
    "    total = 0\n",
    "    with torch.no_grad():\n",
    "        for images, labels, _ in tqdm(loader, leave=False):\n",
    "            images, labels = images.to(device), labels.unsqueeze(1).to(device)\n",
    "            output = model(images)\n",
    "            preds = output > 0.5\n",
    "            correct += torch.sum(preds == labels).item()\n",
    "            total += len(labels)\n",
    "    return correct / total"
   ]
  },
  {
   "cell_type": "code",
   "execution_count": null,
   "id": "d970e35f",
   "metadata": {},
   "outputs": [
    {
     "data": {
      "application/vnd.jupyter.widget-view+json": {
       "model_id": "02257e8236044e2aa93e316f38b1cc10",
       "version_major": 2,
       "version_minor": 0
      },
      "text/plain": [
       "  0%|          | 0/50 [00:00<?, ?it/s]"
      ]
     },
     "metadata": {},
     "output_type": "display_data"
    },
    {
     "data": {
      "application/vnd.jupyter.widget-view+json": {
       "model_id": "8abc2461606345f69176766aaeb7d325",
       "version_major": 2,
       "version_minor": 0
      },
      "text/plain": [
       "  0%|          | 0/591 [00:00<?, ?it/s]"
      ]
     },
     "metadata": {},
     "output_type": "display_data"
    }
   ],
   "source": [
    "train_losses = []\n",
    "train_accs = []\n",
    "valid_accs = []\n",
    "\n",
    "for e in tqdm(range(EPOCHS)):\n",
    "    loss = train(model, trainloader, optimizer, criterion)\n",
    "    train_acc = evaluate(model, trainloader)\n",
    "    valid_acc = evaluate(model, valloader)\n",
    "    \n",
    "    train_losses.append(loss)\n",
    "    train_accs.append(train_acc)\n",
    "    valid_accs.append(valid_acc)\n",
    "    wandb.log({\n",
    "        'train_loss': loss,\n",
    "        'train_acc': train_acc,\n",
    "        'valid_acc': valid_acc\n",
    "    })"
   ]
  },
  {
   "cell_type": "code",
   "execution_count": 8,
   "id": "916c9f73",
   "metadata": {},
   "outputs": [
    {
     "name": "stdout",
     "output_type": "stream",
     "text": [
      "Thu Apr 10 23:25:08 2025       \n",
      "+-----------------------------------------------------------------------------------------+\n",
      "| NVIDIA-SMI 550.127.05             Driver Version: 550.127.05     CUDA Version: 12.4     |\n",
      "|-----------------------------------------+------------------------+----------------------+\n",
      "| GPU  Name                 Persistence-M | Bus-Id          Disp.A | Volatile Uncorr. ECC |\n",
      "| Fan  Temp   Perf          Pwr:Usage/Cap |           Memory-Usage | GPU-Util  Compute M. |\n",
      "|                                         |                        |               MIG M. |\n",
      "|=========================================+========================+======================|\n",
      "|   0  NVIDIA RTX A5000               Off |   00000000:3B:00.0 Off |                  Off |\n",
      "| 30%   19C    P8             17W /  230W |       4MiB /  24564MiB |      0%      Default |\n",
      "|                                         |                        |                  N/A |\n",
      "+-----------------------------------------+------------------------+----------------------+\n",
      "|   1  NVIDIA RTX A6000               Off |   00000000:5E:00.0 Off |                  Off |\n",
      "| 30%   24C    P2             67W /  300W |     384MiB /  49140MiB |      0%      Default |\n",
      "|                                         |                        |                  N/A |\n",
      "+-----------------------------------------+------------------------+----------------------+\n",
      "                                                                                         \n",
      "+-----------------------------------------------------------------------------------------+\n",
      "| Processes:                                                                              |\n",
      "|  GPU   GI   CI        PID   Type   Process name                              GPU Memory |\n",
      "|        ID   ID                                                               Usage      |\n",
      "|=========================================================================================|\n",
      "|    1   N/A  N/A   1858445      C   ...s/viet/.conda/envs/dpddm/bin/python        378MiB |\n",
      "+-----------------------------------------------------------------------------------------+\n"
     ]
    }
   ],
   "source": [
    "!nvidia-smi"
   ]
  },
  {
   "cell_type": "code",
   "execution_count": null,
   "id": "6a3b3057",
   "metadata": {},
   "outputs": [],
   "source": []
  }
 ],
 "metadata": {
  "kernelspec": {
   "display_name": "Python 3 (ipykernel)",
   "language": "python",
   "name": "python3"
  },
  "language_info": {
   "codemirror_mode": {
    "name": "ipython",
    "version": 3
   },
   "file_extension": ".py",
   "mimetype": "text/x-python",
   "name": "python",
   "nbconvert_exporter": "python",
   "pygments_lexer": "ipython3",
   "version": "3.11.11"
  }
 },
 "nbformat": 4,
 "nbformat_minor": 5
}

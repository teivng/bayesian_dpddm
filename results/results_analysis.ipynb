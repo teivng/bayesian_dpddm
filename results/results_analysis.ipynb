{
 "cells": [
  {
   "cell_type": "code",
   "execution_count": 1,
   "metadata": {},
   "outputs": [],
   "source": [
    "import matplotlib.pyplot as plt\n",
    "import pandas as pd\n",
    "import seaborn as sns \n",
    "import numpy as np"
   ]
  },
  {
   "cell_type": "code",
   "execution_count": 6,
   "metadata": {},
   "outputs": [],
   "source": [
    "dfs = {f'df_{i}': pd.read_csv(f'results_cifar10_{i}.csv') for i in [50, 100, 200]}"
   ]
  },
  {
   "cell_type": "code",
   "execution_count": 10,
   "metadata": {},
   "outputs": [
    {
     "name": "stdout",
     "output_type": "stream",
     "text": [
      "df_50 fpr-id:  0.078 0.038815804341359034\n",
      "df_50 tpr:  0.522 0.09235198367598224\n",
      "df_100 fpr-id:  0.07 0.026457513110645908\n",
      "df_100 tpr:  0.8311111111111111 0.1260401170703642\n",
      "df_200 fpr-id:  0.079 0.03984692933938295\n",
      "df_200 tpr:  0.7859999999999999 0.31380106932754565\n"
     ]
    }
   ],
   "source": [
    "for k, df in dfs.items():\n",
    "    print(f'{k} fpr-id: ', df['fpr_id'].mean(), df['fpr_id'].std())\n",
    "    print(f'{k} tpr: ', df['tpr'].mean(), df['tpr'].std())"
   ]
  },
  {
   "cell_type": "code",
   "execution_count": null,
   "metadata": {},
   "outputs": [],
   "source": []
  }
 ],
 "metadata": {
  "kernelspec": {
   "display_name": "Python 3",
   "language": "python",
   "name": "python3"
  },
  "language_info": {
   "codemirror_mode": {
    "name": "ipython",
    "version": 3
   },
   "file_extension": ".py",
   "mimetype": "text/x-python",
   "name": "python",
   "nbconvert_exporter": "python",
   "pygments_lexer": "ipython3",
   "version": "3.11.11"
  }
 },
 "nbformat": 4,
 "nbformat_minor": 2
}

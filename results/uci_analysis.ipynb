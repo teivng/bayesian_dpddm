{
 "cells": [
  {
   "cell_type": "code",
   "execution_count": 2,
   "id": "6d84c0e0-3836-42b7-a97f-a40f7db8bab7",
   "metadata": {},
   "outputs": [
    {
     "name": "stdout",
     "output_type": "stream",
     "text": [
      "Average TPR: 0.540\n",
      "Standard Deviation of TPR: 0.322\n"
     ]
    }
   ],
   "source": [
    "import pandas as pd\n",
    "\n",
    "# Load the CSV file\n",
    "df = pd.read_csv('results_uci_50.csv')  # replace with your actual filename\n",
    "\n",
    "# Filter rows where fpr_id < 0.05\n",
    "filtered = df[df['fpr_id'] < 0.05]\n",
    "\n",
    "# Compute mean and std of tpr\n",
    "tpr_mean = filtered['tpr'].mean()\n",
    "tpr_std = filtered['tpr'].std()\n",
    "\n",
    "print(f\"Average TPR: {tpr_mean:.3f}\")\n",
    "print(f\"Standard Deviation of TPR: {tpr_std:.3f}\")\n"
   ]
  },
  {
   "cell_type": "code",
   "execution_count": null,
   "id": "05c62590-95d4-4762-a0c9-a6a2de704fea",
   "metadata": {},
   "outputs": [],
   "source": []
  }
 ],
 "metadata": {
  "kernelspec": {
   "display_name": "Python 3 (ipykernel)",
   "language": "python",
   "name": "python3"
  },
  "language_info": {
   "codemirror_mode": {
    "name": "ipython",
    "version": 3
   },
   "file_extension": ".py",
   "mimetype": "text/x-python",
   "name": "python",
   "nbconvert_exporter": "python",
   "pygments_lexer": "ipython3",
   "version": "3.11.7"
  }
 },
 "nbformat": 4,
 "nbformat_minor": 5
}
